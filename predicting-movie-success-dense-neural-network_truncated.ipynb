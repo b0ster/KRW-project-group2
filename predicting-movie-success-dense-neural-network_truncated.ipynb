{
 "metadata": {
  "kernelspec": {
   "language": "python",
   "display_name": "Python 3",
   "name": "python3"
  },
  "language_info": {
   "pygments_lexer": "ipython3",
   "nbconvert_exporter": "python",
   "version": "3.6.4",
   "file_extension": ".py",
   "codemirror_mode": {
    "name": "ipython",
    "version": 3
   },
   "name": "python",
   "mimetype": "text/x-python"
  }
 },
 "nbformat_minor": 4,
 "nbformat": 4,
 "cells": [
  {
   "cell_type": "markdown",
   "source": [
    "# Movie Data Set\n",
    "\n",
    "This dataset is derived from Kaggle \"The Movies Dataset\".I'll be working with \"movies_metadata\", the metadata for over 45,000 movies listed in the Full MovieLens Dataset. The dataset consists of movies released on or before July 2017. Data points include budget, revenue, release dates, languages, production companies, countries, TMDB vote counts and vote averages, etc.\n",
    "\n",
    "Through data information, I can see that the original dataset has 45466 entries, and 24 total columns. Most of columns are object value which cannot be directly feed into neural networks. So I am going to process them and change into numeric variables."
   ],
   "metadata": {}
  },
  {
   "cell_type": "markdown",
   "source": [
    "# Overview\n",
    "\n",
    "* 1) Data Preparation\n",
    "\n",
    "* 2) Exploratory Data Analysis\n",
    "\n",
    "* 3) Data Wrangling\n",
    "\n",
    "* 4) Modeling\n",
    "\n",
    "* 4-1) Baseline Model: Logistic Regression\n",
    "\n",
    "* 4-2) Deep Learning Model #1: Dense Neural Network (without dropout)\n",
    "\n",
    "* 4-3) Deep Learning Model #2: Dense Neural Network (with dropout)\n",
    "\n",
    "* 4-4) Deep Learning Model #3: Dense Neural Network (with dropout but with different layers)\n",
    "\n",
    "* Permutation Feature Importance for Neural Network\n",
    "\n",
    "* Results\n",
    "\n",
    "* Conclusion"
   ],
   "metadata": {}
  },
  {
   "cell_type": "markdown",
   "source": [
    "# Data Gathering and Description\n",
    "\n",
    "In this part, I'll set up the environment, import modules, read the data, and explore our data. Through the data processing, I'll change data types to fit models, handle missing values, and detect any outliers. After that, I'll wrangle the data, split data into X and y, and do some scalling preparing for modeling."
   ],
   "metadata": {}
  },
  {
   "cell_type": "markdown",
   "source": [
    "Below are columns of the datasaet:\n",
    "\n",
    "* adult - Belongs to adult movies or not\n",
    "* belongs_to_collection - Belong to movie collections or not\n",
    "* budget - The budget of a movie. Some movies don't have this, it appears as 0\n",
    "* genres - Main genre of the movie\n",
    "* homepage - The website where can see the movie\n",
    "* id - Identifier column\n",
    "* imdb_id - Movies id on IMDB\n",
    "* original_language - Original language of film\n",
    "* original_title - Original title of film\n",
    "* overview - Movie content overview\n",
    "* popularity - shows weather it is popular\n",
    "* poster_path - jpg. path of the movie poster\n",
    "* production_companies - The production company\n",
    "* production_countries - Country of origin\n",
    "* release_date - Release date (YYYY-MM-DD)\n",
    "* revenue - The revenue of a movie. Some movies don't have this, it appears as 0\n",
    "* runtime - Duration of the movie\n",
    "* spoken_languages - Languages spoken throughout the film\n",
    "* status - Release or others\n",
    "* tagline - Movie tagline to advertise\n",
    "* title - English title\n",
    "* video - True of False\n",
    "* vote_average - TMDB vote average\n",
    "* vote_count - TMDB vote count"
   ],
   "metadata": {}
  },
  {
   "cell_type": "code",
   "source": [
    "# for reading data\n",
    "import pandas as pd\n",
    "import numpy as np\n",
    "import seaborn as sns\n",
    "import scipy.stats as stat\n",
    "import matplotlib.pyplot as plt \n",
    "%matplotlib inline\n",
    "from scipy import stats\n",
    "from sklearn.preprocessing import LabelEncoder\n",
    "from sklearn.preprocessing import MinMaxScaler\n",
    "from keras.wrappers.scikit_learn import KerasClassifier\n",
    "from keras.utils import np_utils\n",
    "\n",
    "# For data splitting\n",
    "from sklearn.model_selection import train_test_split\n",
    "\n",
    "# import other functions we'll need for regression modeling\n",
    "from sklearn.linear_model import LogisticRegression # LR\n",
    "from sklearn.tree import DecisionTreeRegressor # DTR\n",
    "from sklearn.ensemble import RandomForestRegressor # RFR\n",
    "from sklearn.ensemble import GradientBoostingRegressor #GBR\n",
    "\n",
    "# regression error metrics\n",
    "from sklearn.metrics import mean_absolute_error\n",
    "from sklearn.metrics import mean_squared_error\n",
    "from sklearn.metrics import r2_score\n",
    "# classification error metrics\n",
    "from sklearn.metrics import confusion_matrix\n",
    "from sklearn.metrics import classification_report\n",
    "\n",
    "# for modeling\n",
    "from keras import models\n",
    "from keras import layers\n",
    "from keras.models import Sequential\n",
    "from keras.layers import Dense, Dropout\n",
    "from keras.callbacks import EarlyStopping\n",
    "from keras import regularizers"
   ],
   "metadata": {
    "trusted": true
   },
   "execution_count": 1,
   "outputs": []
  },
  {
   "cell_type": "code",
   "source": [
    "df = pd.read_csv(\"input/the-movies-dataset/movies_metadata.csv\")"
   ],
   "metadata": {
    "trusted": true
   },
   "execution_count": 2,
   "outputs": [
    {
     "name": "stderr",
     "output_type": "stream",
     "text": [
      "C:\\Users\\Bo Sterenborg\\AppData\\Local\\Temp\\ipykernel_8724\\305165076.py:1: DtypeWarning: Columns (10) have mixed types. Specify dtype option on import or set low_memory=False.\n",
      "  df = pd.read_csv(\"input/the-movies-dataset/movies_metadata.csv\")\n"
     ]
    }
   ]
  },
  {
   "cell_type": "markdown",
   "source": [
    "# 1) Head, Shape, Column names, data types, missing values, Outliers"
   ],
   "metadata": {}
  },
  {
   "cell_type": "code",
   "source": [
    "#Summary of original dataset\n",
    "df.info()"
   ],
   "metadata": {
    "trusted": true
   },
   "execution_count": 3,
   "outputs": [
    {
     "name": "stdout",
     "output_type": "stream",
     "text": [
      "<class 'pandas.core.frame.DataFrame'>\n",
      "RangeIndex: 45466 entries, 0 to 45465\n",
      "Data columns (total 24 columns):\n",
      " #   Column                 Non-Null Count  Dtype  \n",
      "---  ------                 --------------  -----  \n",
      " 0   adult                  45466 non-null  object \n",
      " 1   belongs_to_collection  4494 non-null   object \n",
      " 2   budget                 45466 non-null  object \n",
      " 3   genres                 45466 non-null  object \n",
      " 4   homepage               7782 non-null   object \n",
      " 5   id                     45466 non-null  object \n",
      " 6   imdb_id                45449 non-null  object \n",
      " 7   original_language      45455 non-null  object \n",
      " 8   original_title         45466 non-null  object \n",
      " 9   overview               44512 non-null  object \n",
      " 10  popularity             45461 non-null  object \n",
      " 11  poster_path            45080 non-null  object \n",
      " 12  production_companies   45463 non-null  object \n",
      " 13  production_countries   45463 non-null  object \n",
      " 14  release_date           45379 non-null  object \n",
      " 15  revenue                45460 non-null  float64\n",
      " 16  runtime                45203 non-null  float64\n",
      " 17  spoken_languages       45460 non-null  object \n",
      " 18  status                 45379 non-null  object \n",
      " 19  tagline                20412 non-null  object \n",
      " 20  title                  45460 non-null  object \n",
      " 21  video                  45460 non-null  object \n",
      " 22  vote_average           45460 non-null  float64\n",
      " 23  vote_count             45460 non-null  float64\n",
      "dtypes: float64(4), object(20)\n",
      "memory usage: 8.3+ MB\n"
     ]
    }
   ]
  },
  {
   "cell_type": "code",
   "source": [
    "#Shape of original dataset\n",
    "df.shape"
   ],
   "metadata": {
    "trusted": true
   },
   "execution_count": 4,
   "outputs": [
    {
     "data": {
      "text/plain": "(45466, 24)"
     },
     "execution_count": 4,
     "metadata": {},
     "output_type": "execute_result"
    }
   ]
  },
  {
   "cell_type": "markdown",
   "source": [
    "There are a total of 45,466 movies with 24 features. Most of the features have very few NaN values (apart from homepage and tagline). I will attempt at cleaning this dataset to a form suitable for analysis in the next section."
   ],
   "metadata": {}
  },
  {
   "cell_type": "code",
   "source": [
    "#Let's look into first few rows of the dataset to check the content of each column\n",
    "df.head()"
   ],
   "metadata": {
    "trusted": true
   },
   "execution_count": 5,
   "outputs": [
    {
     "data": {
      "text/plain": "   adult                              belongs_to_collection    budget  \\\n0  False  {'id': 10194, 'name': 'Toy Story Collection', ...  30000000   \n1  False                                                NaN  65000000   \n2  False  {'id': 119050, 'name': 'Grumpy Old Men Collect...         0   \n3  False                                                NaN  16000000   \n4  False  {'id': 96871, 'name': 'Father of the Bride Col...         0   \n\n                                              genres  \\\n0  [{'id': 16, 'name': 'Animation'}, {'id': 35, '...   \n1  [{'id': 12, 'name': 'Adventure'}, {'id': 14, '...   \n2  [{'id': 10749, 'name': 'Romance'}, {'id': 35, ...   \n3  [{'id': 35, 'name': 'Comedy'}, {'id': 18, 'nam...   \n4                     [{'id': 35, 'name': 'Comedy'}]   \n\n                               homepage     id    imdb_id original_language  \\\n0  http://toystory.disney.com/toy-story    862  tt0114709                en   \n1                                   NaN   8844  tt0113497                en   \n2                                   NaN  15602  tt0113228                en   \n3                                   NaN  31357  tt0114885                en   \n4                                   NaN  11862  tt0113041                en   \n\n                original_title  \\\n0                    Toy Story   \n1                      Jumanji   \n2             Grumpier Old Men   \n3            Waiting to Exhale   \n4  Father of the Bride Part II   \n\n                                            overview  ... release_date  \\\n0  Led by Woody, Andy's toys live happily in his ...  ...   1995-10-30   \n1  When siblings Judy and Peter discover an encha...  ...   1995-12-15   \n2  A family wedding reignites the ancient feud be...  ...   1995-12-22   \n3  Cheated on, mistreated and stepped on, the wom...  ...   1995-12-22   \n4  Just when George Banks has recovered from his ...  ...   1995-02-10   \n\n       revenue runtime                                   spoken_languages  \\\n0  373554033.0    81.0           [{'iso_639_1': 'en', 'name': 'English'}]   \n1  262797249.0   104.0  [{'iso_639_1': 'en', 'name': 'English'}, {'iso...   \n2          0.0   101.0           [{'iso_639_1': 'en', 'name': 'English'}]   \n3   81452156.0   127.0           [{'iso_639_1': 'en', 'name': 'English'}]   \n4   76578911.0   106.0           [{'iso_639_1': 'en', 'name': 'English'}]   \n\n     status                                            tagline  \\\n0  Released                                                NaN   \n1  Released          Roll the dice and unleash the excitement!   \n2  Released  Still Yelling. Still Fighting. Still Ready for...   \n3  Released  Friends are the people who let you be yourself...   \n4  Released  Just When His World Is Back To Normal... He's ...   \n\n                         title  video vote_average vote_count  \n0                    Toy Story  False          7.7     5415.0  \n1                      Jumanji  False          6.9     2413.0  \n2             Grumpier Old Men  False          6.5       92.0  \n3            Waiting to Exhale  False          6.1       34.0  \n4  Father of the Bride Part II  False          5.7      173.0  \n\n[5 rows x 24 columns]",
      "text/html": "<div>\n<style scoped>\n    .dataframe tbody tr th:only-of-type {\n        vertical-align: middle;\n    }\n\n    .dataframe tbody tr th {\n        vertical-align: top;\n    }\n\n    .dataframe thead th {\n        text-align: right;\n    }\n</style>\n<table border=\"1\" class=\"dataframe\">\n  <thead>\n    <tr style=\"text-align: right;\">\n      <th></th>\n      <th>adult</th>\n      <th>belongs_to_collection</th>\n      <th>budget</th>\n      <th>genres</th>\n      <th>homepage</th>\n      <th>id</th>\n      <th>imdb_id</th>\n      <th>original_language</th>\n      <th>original_title</th>\n      <th>overview</th>\n      <th>...</th>\n      <th>release_date</th>\n      <th>revenue</th>\n      <th>runtime</th>\n      <th>spoken_languages</th>\n      <th>status</th>\n      <th>tagline</th>\n      <th>title</th>\n      <th>video</th>\n      <th>vote_average</th>\n      <th>vote_count</th>\n    </tr>\n  </thead>\n  <tbody>\n    <tr>\n      <th>0</th>\n      <td>False</td>\n      <td>{'id': 10194, 'name': 'Toy Story Collection', ...</td>\n      <td>30000000</td>\n      <td>[{'id': 16, 'name': 'Animation'}, {'id': 35, '...</td>\n      <td>http://toystory.disney.com/toy-story</td>\n      <td>862</td>\n      <td>tt0114709</td>\n      <td>en</td>\n      <td>Toy Story</td>\n      <td>Led by Woody, Andy's toys live happily in his ...</td>\n      <td>...</td>\n      <td>1995-10-30</td>\n      <td>373554033.0</td>\n      <td>81.0</td>\n      <td>[{'iso_639_1': 'en', 'name': 'English'}]</td>\n      <td>Released</td>\n      <td>NaN</td>\n      <td>Toy Story</td>\n      <td>False</td>\n      <td>7.7</td>\n      <td>5415.0</td>\n    </tr>\n    <tr>\n      <th>1</th>\n      <td>False</td>\n      <td>NaN</td>\n      <td>65000000</td>\n      <td>[{'id': 12, 'name': 'Adventure'}, {'id': 14, '...</td>\n      <td>NaN</td>\n      <td>8844</td>\n      <td>tt0113497</td>\n      <td>en</td>\n      <td>Jumanji</td>\n      <td>When siblings Judy and Peter discover an encha...</td>\n      <td>...</td>\n      <td>1995-12-15</td>\n      <td>262797249.0</td>\n      <td>104.0</td>\n      <td>[{'iso_639_1': 'en', 'name': 'English'}, {'iso...</td>\n      <td>Released</td>\n      <td>Roll the dice and unleash the excitement!</td>\n      <td>Jumanji</td>\n      <td>False</td>\n      <td>6.9</td>\n      <td>2413.0</td>\n    </tr>\n    <tr>\n      <th>2</th>\n      <td>False</td>\n      <td>{'id': 119050, 'name': 'Grumpy Old Men Collect...</td>\n      <td>0</td>\n      <td>[{'id': 10749, 'name': 'Romance'}, {'id': 35, ...</td>\n      <td>NaN</td>\n      <td>15602</td>\n      <td>tt0113228</td>\n      <td>en</td>\n      <td>Grumpier Old Men</td>\n      <td>A family wedding reignites the ancient feud be...</td>\n      <td>...</td>\n      <td>1995-12-22</td>\n      <td>0.0</td>\n      <td>101.0</td>\n      <td>[{'iso_639_1': 'en', 'name': 'English'}]</td>\n      <td>Released</td>\n      <td>Still Yelling. Still Fighting. Still Ready for...</td>\n      <td>Grumpier Old Men</td>\n      <td>False</td>\n      <td>6.5</td>\n      <td>92.0</td>\n    </tr>\n    <tr>\n      <th>3</th>\n      <td>False</td>\n      <td>NaN</td>\n      <td>16000000</td>\n      <td>[{'id': 35, 'name': 'Comedy'}, {'id': 18, 'nam...</td>\n      <td>NaN</td>\n      <td>31357</td>\n      <td>tt0114885</td>\n      <td>en</td>\n      <td>Waiting to Exhale</td>\n      <td>Cheated on, mistreated and stepped on, the wom...</td>\n      <td>...</td>\n      <td>1995-12-22</td>\n      <td>81452156.0</td>\n      <td>127.0</td>\n      <td>[{'iso_639_1': 'en', 'name': 'English'}]</td>\n      <td>Released</td>\n      <td>Friends are the people who let you be yourself...</td>\n      <td>Waiting to Exhale</td>\n      <td>False</td>\n      <td>6.1</td>\n      <td>34.0</td>\n    </tr>\n    <tr>\n      <th>4</th>\n      <td>False</td>\n      <td>{'id': 96871, 'name': 'Father of the Bride Col...</td>\n      <td>0</td>\n      <td>[{'id': 35, 'name': 'Comedy'}]</td>\n      <td>NaN</td>\n      <td>11862</td>\n      <td>tt0113041</td>\n      <td>en</td>\n      <td>Father of the Bride Part II</td>\n      <td>Just when George Banks has recovered from his ...</td>\n      <td>...</td>\n      <td>1995-02-10</td>\n      <td>76578911.0</td>\n      <td>106.0</td>\n      <td>[{'iso_639_1': 'en', 'name': 'English'}]</td>\n      <td>Released</td>\n      <td>Just When His World Is Back To Normal... He's ...</td>\n      <td>Father of the Bride Part II</td>\n      <td>False</td>\n      <td>5.7</td>\n      <td>173.0</td>\n    </tr>\n  </tbody>\n</table>\n<p>5 rows × 24 columns</p>\n</div>"
     },
     "execution_count": 5,
     "metadata": {},
     "output_type": "execute_result"
    }
   ]
  },
  {
   "cell_type": "markdown",
   "source": [
    "# 2) Data Wrangling"
   ],
   "metadata": {}
  },
  {
   "cell_type": "code",
   "source": [
    "# As I will be concentrating on nuerical columns let's delete the text columns, which I donot need for solving the business problem\n",
    "df.drop(['id','belongs_to_collection', 'homepage', 'imdb_id', 'original_language', 'original_title', 'overview', 'poster_path', 'production_companies', 'production_countries', 'runtime', 'release_date', 'spoken_languages', 'status', 'tagline', 'title', 'video'], axis=1, inplace=True)\n",
    "df.info()"
   ],
   "metadata": {
    "trusted": true
   },
   "execution_count": 6,
   "outputs": [
    {
     "name": "stdout",
     "output_type": "stream",
     "text": [
      "<class 'pandas.core.frame.DataFrame'>\n",
      "RangeIndex: 45466 entries, 0 to 45465\n",
      "Data columns (total 7 columns):\n",
      " #   Column        Non-Null Count  Dtype  \n",
      "---  ------        --------------  -----  \n",
      " 0   adult         45466 non-null  object \n",
      " 1   budget        45466 non-null  object \n",
      " 2   genres        45466 non-null  object \n",
      " 3   popularity    45461 non-null  object \n",
      " 4   revenue       45460 non-null  float64\n",
      " 5   vote_average  45460 non-null  float64\n",
      " 6   vote_count    45460 non-null  float64\n",
      "dtypes: float64(3), object(4)\n",
      "memory usage: 2.4+ MB\n"
     ]
    }
   ]
  },
  {
   "cell_type": "code",
   "source": [
    "df[df['revenue'] == 0].shape"
   ],
   "metadata": {
    "trusted": true
   },
   "execution_count": 7,
   "outputs": [
    {
     "data": {
      "text/plain": "(38052, 7)"
     },
     "execution_count": 7,
     "metadata": {},
     "output_type": "execute_result"
    }
   ]
  },
  {
   "cell_type": "markdown",
   "source": [
    "I see that the majority of the movies have a recorded revenue of 0. This indicates that I do not have information about the total revenue for these movies. Although this forms the majority of the movies available to us, I will still use revenue as an extremely important feature going forward from the remaining 7000 movies."
   ],
   "metadata": {}
  },
  {
   "cell_type": "code",
   "source": [
    "df['revenue'] = df['revenue'].replace(0, np.nan)"
   ],
   "metadata": {
    "trusted": true
   },
   "execution_count": 8,
   "outputs": []
  },
  {
   "cell_type": "markdown",
   "source": [
    "The budget feature has some unclean values that makes Pandas assign it as a generic object. I proceed to convert this into a numeric variable and replace all the non-numeric values with NaN. Finally, as with budget, I will convert all the values of 0 with NaN to indicate the absence of information regarding budget."
   ],
   "metadata": {}
  },
  {
   "cell_type": "code",
   "source": [
    "df['budget'] = pd.to_numeric(df['budget'], errors='coerce')\n",
    "df['budget'] = df['budget'].replace(0, np.nan)\n",
    "df[df['budget'].isnull()].shape"
   ],
   "metadata": {
    "trusted": true
   },
   "execution_count": 9,
   "outputs": [
    {
     "data": {
      "text/plain": "(36576, 7)"
     },
     "execution_count": 9,
     "metadata": {},
     "output_type": "execute_result"
    }
   ]
  },
  {
   "cell_type": "markdown",
   "source": [
    "I will create a return feature that will help us capture a more accurate picture of the financial success of a movie. Presently, our data will not be able to judge if a 200 million dollar budget movie that earned 100 million dollar did better than a 50,000 dollars budget movie taking in 200,000 dollars. This feature will be able to capture that information.\n",
    "\n",
    "A return value > 1 would indicate profit whereas a return value < 1 would indicate a loss."
   ],
   "metadata": {}
  },
  {
   "cell_type": "code",
   "source": [
    "df['return'] = df['revenue'] / df['budget']\n",
    "df[df['return'].isnull()].shape"
   ],
   "metadata": {
    "trusted": true
   },
   "execution_count": 10,
   "outputs": [
    {
     "data": {
      "text/plain": "(40085, 8)"
     },
     "execution_count": 10,
     "metadata": {},
     "output_type": "execute_result"
    }
   ]
  },
  {
   "cell_type": "markdown",
   "source": [
    "I have close to 5000 movies for which I have data on revenue and budget ratio. This is close to 10% of the entire dataset. Although this may seem small, this is enough to perform very useful analysis and discover interesting insights about the world of movies."
   ],
   "metadata": {}
  },
  {
   "cell_type": "code",
   "source": [
    "df['adult'].value_counts()"
   ],
   "metadata": {
    "trusted": true
   },
   "execution_count": 11,
   "outputs": [
    {
     "data": {
      "text/plain": "False                                                                                                                             45454\nTrue                                                                                                                                  9\n - Written by Ørnås                                                                                                                   1\n Rune Balot goes to a casino connected to the October corporation to try to wrap up her case once and for all.                        1\n Avalanche Sharks tells the story of a bikini contest that turns into a horrifying affair when it is hit by a shark avalanche.        1\nName: adult, dtype: int64"
     },
     "execution_count": 11,
     "metadata": {},
     "output_type": "execute_result"
    }
   ]
  },
  {
   "cell_type": "markdown",
   "source": [
    "There are only 9 adult movies in this dataset. The adult feature therefore is not of much use to us and can be safely dropped."
   ],
   "metadata": {}
  },
  {
   "cell_type": "code",
   "source": [
    "df = df.drop('adult', axis=1)"
   ],
   "metadata": {
    "trusted": true
   },
   "execution_count": 12,
   "outputs": []
  },
  {
   "cell_type": "markdown",
   "source": [
    "Exploring Popularity, Vote Average and Vote Count"
   ],
   "metadata": {}
  },
  {
   "cell_type": "code",
   "source": [
    "def clean_numeric(x):\n",
    "    try:\n",
    "        return float(x)\n",
    "    except:\n",
    "        return np.nan"
   ],
   "metadata": {
    "trusted": true
   },
   "execution_count": 13,
   "outputs": []
  },
  {
   "cell_type": "code",
   "source": [
    "df['popularity'] = df['popularity'].apply(clean_numeric).astype('float')\n",
    "df[\"vote_count\"] = df[\"vote_count\"].apply(clean_numeric).astype('float')\n",
    "df['vote_average'] = df['vote_average'].apply(clean_numeric).astype('float')"
   ],
   "metadata": {
    "trusted": true
   },
   "execution_count": 14,
   "outputs": []
  },
  {
   "cell_type": "code",
   "source": [
    "#Summary statistics of each feature\n",
    "df['popularity'].describe()"
   ],
   "metadata": {
    "trusted": true
   },
   "execution_count": 15,
   "outputs": [
    {
     "data": {
      "text/plain": "count    45460.000000\nmean         2.921478\nstd          6.005414\nmin          0.000000\n25%          0.385948\n50%          1.127685\n75%          3.678902\nmax        547.488298\nName: popularity, dtype: float64"
     },
     "execution_count": 15,
     "metadata": {},
     "output_type": "execute_result"
    }
   ]
  },
  {
   "cell_type": "code",
   "source": [
    "sns.distplot(df['popularity'].fillna(df['popularity'].median()))\n",
    "plt.show()"
   ],
   "metadata": {
    "trusted": true
   },
   "execution_count": 16,
   "outputs": [
    {
     "name": "stderr",
     "output_type": "stream",
     "text": [
      "C:\\Users\\Bo Sterenborg\\AppData\\Local\\Temp\\ipykernel_8724\\3739960917.py:1: UserWarning: \n",
      "\n",
      "`distplot` is a deprecated function and will be removed in seaborn v0.14.0.\n",
      "\n",
      "Please adapt your code to use either `displot` (a figure-level function with\n",
      "similar flexibility) or `histplot` (an axes-level function for histograms).\n",
      "\n",
      "For a guide to updating your code to use the new functions, please see\n",
      "https://gist.github.com/mwaskom/de44147ed2974457ad6372750bbe5751\n",
      "\n",
      "  sns.distplot(df['popularity'].fillna(df['popularity'].median()))\n"
     ]
    },
    {
     "data": {
      "text/plain": "<Figure size 640x480 with 1 Axes>",
      "image/png": "[encoded data removed]"
     },
     "metadata": {},
     "output_type": "display_data"
    }
   ]
  },
  {
   "cell_type": "code",
   "source": [
    "df['popularity'].plot(logy=True, kind='hist')"
   ],
   "metadata": {
    "_uuid": "8f2839f25d086af736a60e9eeb907d3b93b6e0e5",
    "_cell_guid": "b1076dfc-b9ad-4769-8c92-a6c4dae69d19",
    "trusted": true
   },
   "execution_count": 17,
   "outputs": [
    {
     "data": {
      "text/plain": "<Axes: ylabel='Frequency'>"
     },
     "execution_count": 17,
     "metadata": {},
     "output_type": "execute_result"
    },
    {
     "data": {
      "text/plain": "<Figure size 640x480 with 1 Axes>",
      "image/png": "[encoded data removed]"
     },
     "metadata": {},
     "output_type": "display_data"
    }
   ]
  },
  {
   "cell_type": "markdown",
   "source": [
    "The Popularity score seems to be an extremely skewed quantity with a mean of only 2.9 but maximum values reaching as high as 547, which is almost 1800% greater than the mean. However, as can be seen from the distribution plot, almost all movies have a popularity score less than 10 (the 75th percentile is at 3.678902)."
   ],
   "metadata": {}
  },
  {
   "cell_type": "code",
   "source": [
    "df['vote_count'].describe()"
   ],
   "metadata": {
    "trusted": true
   },
   "execution_count": 18,
   "outputs": [
    {
     "data": {
      "text/plain": "count    45460.000000\nmean       109.897338\nstd        491.310374\nmin          0.000000\n25%          3.000000\n50%         10.000000\n75%         34.000000\nmax      14075.000000\nName: vote_count, dtype: float64"
     },
     "execution_count": 18,
     "metadata": {},
     "output_type": "execute_result"
    }
   ]
  },
  {
   "cell_type": "markdown",
   "source": [
    "As with popularity scores, the distribution of vote counts is extremely skewed with the median vote count standing at a paltry 10 votes. The most votes a single movie has got stands at 14,07"
   ],
   "metadata": {}
  },
  {
   "cell_type": "code",
   "source": [
    "df['vote_average'] = df['vote_average'].replace(0, np.nan)\n",
    "df['vote_average'].describe()"
   ],
   "metadata": {
    "trusted": true
   },
   "execution_count": 19,
   "outputs": [
    {
     "data": {
      "text/plain": "count    42462.000000\nmean         6.014877\nstd          1.256208\nmin          0.500000\n25%          5.300000\n50%          6.100000\n75%          6.900000\nmax         10.000000\nName: vote_average, dtype: float64"
     },
     "execution_count": 19,
     "metadata": {},
     "output_type": "execute_result"
    }
   ]
  },
  {
   "cell_type": "code",
   "source": [
    "sns.distplot(df['vote_average'].fillna(df['vote_average'].median()))"
   ],
   "metadata": {
    "_uuid": "d629ff2d2480ee46fbb7e2d37f6b5fab8052498a",
    "_cell_guid": "79c7e3d0-c299-4dcb-8224-4455121ee9b0",
    "trusted": true
   },
   "execution_count": 20,
   "outputs": [
    {
     "name": "stderr",
     "output_type": "stream",
     "text": [
      "C:\\Users\\Bo Sterenborg\\AppData\\Local\\Temp\\ipykernel_8724\\2614602049.py:1: UserWarning: \n",
      "\n",
      "`distplot` is a deprecated function and will be removed in seaborn v0.14.0.\n",
      "\n",
      "Please adapt your code to use either `displot` (a figure-level function with\n",
      "similar flexibility) or `histplot` (an axes-level function for histograms).\n",
      "\n",
      "For a guide to updating your code to use the new functions, please see\n",
      "https://gist.github.com/mwaskom/de44147ed2974457ad6372750bbe5751\n",
      "\n",
      "  sns.distplot(df['vote_average'].fillna(df['vote_average'].median()))\n"
     ]
    },
    {
     "data": {
      "text/plain": "<Axes: xlabel='vote_average', ylabel='Density'>"
     },
     "execution_count": 20,
     "metadata": {},
     "output_type": "execute_result"
    },
    {
     "data": {
      "text/plain": "<Figure size 640x480 with 1 Axes>",
      "image/png": "[encoded data removed]"
     },
     "metadata": {},
     "output_type": "display_data"
    }
   ]
  },
  {
   "cell_type": "markdown",
   "source": [
    "It appears that Users in this dataset are extremely strict in their ratings. The mean rating is only a 5.6 on a scale of 10. Half the movies have a rating of less than or equal to 6"
   ],
   "metadata": {}
  },
  {
   "cell_type": "markdown",
   "source": [
    "Let's explore budget and revenue a bit more!"
   ],
   "metadata": {}
  },
  {
   "cell_type": "code",
   "source": [
    "df['budget'].describe()"
   ],
   "metadata": {
    "trusted": true
   },
   "execution_count": 21,
   "outputs": [
    {
     "data": {
      "text/plain": "count    8.890000e+03\nmean     2.160428e+07\nstd      3.431063e+07\nmin      1.000000e+00\n25%      2.000000e+06\n50%      8.000000e+06\n75%      2.500000e+07\nmax      3.800000e+08\nName: budget, dtype: float64"
     },
     "execution_count": 21,
     "metadata": {},
     "output_type": "execute_result"
    }
   ]
  },
  {
   "cell_type": "markdown",
   "source": [
    "The mean budget of a film is 21.6 million dollars whereas the median budget is far smaller at 8 million dollars. This strongly suggests the mean being influenced by outliers."
   ],
   "metadata": {}
  },
  {
   "cell_type": "code",
   "source": [
    "sns.distplot(df[df['budget'].notnull()]['budget'])"
   ],
   "metadata": {
    "trusted": true
   },
   "execution_count": 22,
   "outputs": [
    {
     "name": "stderr",
     "output_type": "stream",
     "text": [
      "C:\\Users\\Bo Sterenborg\\AppData\\Local\\Temp\\ipykernel_8724\\1837189051.py:1: UserWarning: \n",
      "\n",
      "`distplot` is a deprecated function and will be removed in seaborn v0.14.0.\n",
      "\n",
      "Please adapt your code to use either `displot` (a figure-level function with\n",
      "similar flexibility) or `histplot` (an axes-level function for histograms).\n",
      "\n",
      "For a guide to updating your code to use the new functions, please see\n",
      "https://gist.github.com/mwaskom/de44147ed2974457ad6372750bbe5751\n",
      "\n",
      "  sns.distplot(df[df['budget'].notnull()]['budget'])\n"
     ]
    },
    {
     "data": {
      "text/plain": "<Axes: xlabel='budget', ylabel='Density'>"
     },
     "execution_count": 22,
     "metadata": {},
     "output_type": "execute_result"
    },
    {
     "data": {
      "text/plain": "<Figure size 640x480 with 1 Axes>",
      "image/png": "[encoded data removed]"
     },
     "metadata": {},
     "output_type": "display_data"
    }
   ]
  },
  {
   "cell_type": "code",
   "source": [
    "df['budget'].plot(logy=True, kind='hist')"
   ],
   "metadata": {
    "trusted": true
   },
   "execution_count": 23,
   "outputs": [
    {
     "data": {
      "text/plain": "<Axes: ylabel='Frequency'>"
     },
     "execution_count": 23,
     "metadata": {},
     "output_type": "execute_result"
    },
    {
     "data": {
      "text/plain": "<Figure size 640x480 with 1 Axes>",
      "image/png": "[encoded data removed]"
     },
     "metadata": {},
     "output_type": "display_data"
    }
   ]
  },
  {
   "cell_type": "markdown",
   "source": [
    "The distribution of movie budgets shows an exponential decay. More than 75% of the movies have a budget smaller than 25 million dollars."
   ],
   "metadata": {}
  },
  {
   "cell_type": "code",
   "source": [
    "df['revenue'].describe()"
   ],
   "metadata": {
    "trusted": true
   },
   "execution_count": 24,
   "outputs": [
    {
     "data": {
      "text/plain": "count    7.408000e+03\nmean     6.878739e+07\nstd      1.464203e+08\nmin      1.000000e+00\n25%      2.400000e+06\n50%      1.682272e+07\n75%      6.722707e+07\nmax      2.787965e+09\nName: revenue, dtype: float64"
     },
     "execution_count": 24,
     "metadata": {},
     "output_type": "execute_result"
    }
   ]
  },
  {
   "cell_type": "markdown",
   "source": [
    "The mean gross of a movie is 68.7 million dollars whereas the median gross is much lower at 16.8 million dollars, suggesting the skewed nature of revenue. The lowest revenue generated by a movie is just 1 dollar whereas the highest grossing movie of all time is astonishing 2.78 billion dollars."
   ],
   "metadata": {}
  },
  {
   "cell_type": "code",
   "source": [
    "sns.distplot(df[df['revenue'].notnull()]['revenue'])"
   ],
   "metadata": {
    "trusted": true
   },
   "execution_count": 25,
   "outputs": [
    {
     "name": "stderr",
     "output_type": "stream",
     "text": [
      "C:\\Users\\Bo Sterenborg\\AppData\\Local\\Temp\\ipykernel_8724\\823173371.py:1: UserWarning: \n",
      "\n",
      "`distplot` is a deprecated function and will be removed in seaborn v0.14.0.\n",
      "\n",
      "Please adapt your code to use either `displot` (a figure-level function with\n",
      "similar flexibility) or `histplot` (an axes-level function for histograms).\n",
      "\n",
      "For a guide to updating your code to use the new functions, please see\n",
      "https://gist.github.com/mwaskom/de44147ed2974457ad6372750bbe5751\n",
      "\n",
      "  sns.distplot(df[df['revenue'].notnull()]['revenue'])\n"
     ]
    },
    {
     "data": {
      "text/plain": "<Axes: xlabel='revenue', ylabel='Density'>"
     },
     "execution_count": 25,
     "metadata": {},
     "output_type": "execute_result"
    },
    {
     "data": {
      "text/plain": "<Figure size 640x480 with 1 Axes>",
      "image/png": "[encoded data removed]"
     },
     "metadata": {},
     "output_type": "display_data"
    }
   ]
  },
  {
   "cell_type": "markdown",
   "source": [
    "The distribution of revenue undergoes exponential decay just like budget."
   ],
   "metadata": {}
  },
  {
   "cell_type": "code",
   "source": [
    "#Let's check the number of missing values in the dataset\n",
    "df.isnull().sum()"
   ],
   "metadata": {
    "trusted": true
   },
   "execution_count": 26,
   "outputs": [
    {
     "data": {
      "text/plain": "budget          36576\ngenres              0\npopularity          6\nrevenue         38058\nvote_average     3004\nvote_count          6\nreturn          40085\ndtype: int64"
     },
     "execution_count": 26,
     "metadata": {},
     "output_type": "execute_result"
    }
   ]
  },
  {
   "cell_type": "markdown",
   "source": [
    "As mentioned earlier our original dataset has lot of missing values but our analysis can still be done with the small set of rows as well. I will be further exploring these in our outlier detection section."
   ],
   "metadata": {}
  },
  {
   "cell_type": "code",
   "source": [
    "#Dropping rows with missing values\n",
    "df.dropna(inplace=True)\n",
    "#Check the number of missing values to ensure we have none\n",
    "df.isnull().sum()"
   ],
   "metadata": {
    "trusted": true
   },
   "execution_count": 27,
   "outputs": [
    {
     "data": {
      "text/plain": "budget          0\ngenres          0\npopularity      0\nrevenue         0\nvote_average    0\nvote_count      0\nreturn          0\ndtype: int64"
     },
     "execution_count": 27,
     "metadata": {},
     "output_type": "execute_result"
    }
   ]
  },
  {
   "cell_type": "markdown",
   "source": [
    "I will perform the following feature engineering tasks:\n",
    "\n",
    "1. Round up popularity values to 2 decimal values and I will be converting those into integer datatypes.\n",
    "2. I will be creating dummy variables for column: genres"
   ],
   "metadata": {}
  },
  {
   "cell_type": "code",
   "source": [
    "df[\"popularity\"] = np.round(pd.to_numeric(df.popularity, errors='coerce'),2)\n",
    "df.info()\n",
    "df.shape"
   ],
   "metadata": {
    "trusted": true
   },
   "execution_count": 28,
   "outputs": [
    {
     "name": "stdout",
     "output_type": "stream",
     "text": [
      "<class 'pandas.core.frame.DataFrame'>\n",
      "Int64Index: 5374 entries, 0 to 45422\n",
      "Data columns (total 7 columns):\n",
      " #   Column        Non-Null Count  Dtype  \n",
      "---  ------        --------------  -----  \n",
      " 0   budget        5374 non-null   float64\n",
      " 1   genres        5374 non-null   object \n",
      " 2   popularity    5374 non-null   float64\n",
      " 3   revenue       5374 non-null   float64\n",
      " 4   vote_average  5374 non-null   float64\n",
      " 5   vote_count    5374 non-null   float64\n",
      " 6   return        5374 non-null   float64\n",
      "dtypes: float64(6), object(1)\n",
      "memory usage: 335.9+ KB\n"
     ]
    },
    {
     "data": {
      "text/plain": "(5374, 7)"
     },
     "execution_count": 28,
     "metadata": {},
     "output_type": "execute_result"
    }
   ]
  },
  {
   "cell_type": "code",
   "source": [
    "#converting 'genre' column into panda series and extract the type of the genre only from the column\n",
    "s = pd.Series(df['genres'], dtype= str)\n",
    "s1=s.str.split(pat=\"'\",expand=True)\n",
    "df['genre_ed']=s1[5]"
   ],
   "metadata": {
    "trusted": true
   },
   "execution_count": 29,
   "outputs": []
  },
  {
   "cell_type": "code",
   "source": [
    "#count of each genre in the dataset\n",
    "df['genre_ed'].value_counts()"
   ],
   "metadata": {
    "trusted": true
   },
   "execution_count": 30,
   "outputs": [
    {
     "data": {
      "text/plain": "Drama              1313\nComedy             1067\nAction              960\nAdventure           416\nHorror              325\nCrime               267\nThriller            199\nAnimation           146\nFantasy             140\nRomance             121\nScience Fiction     104\nMystery              67\nFamily               55\nDocumentary          47\nWar                  38\nMusic                34\nWestern              31\nHistory              29\nForeign               4\nTV Movie              1\nName: genre_ed, dtype: int64"
     },
     "execution_count": 30,
     "metadata": {},
     "output_type": "execute_result"
    }
   ]
  },
  {
   "cell_type": "markdown",
   "source": [
    "The dataset has most rows for Drama and Comedy. I will concentrate only gneres which has more than 100 rows"
   ],
   "metadata": {}
  },
  {
   "cell_type": "code",
   "source": [
    "#Remove rows for genres with count less than 100\n",
    "df=df[~df['genre_ed'].isin(['Mystery', 'Family', 'Documentary', 'War', 'Music', 'Western', 'History', 'Foreign', 'TV Movie'])]"
   ],
   "metadata": {
    "trusted": true
   },
   "execution_count": 31,
   "outputs": []
  },
  {
   "cell_type": "code",
   "source": [
    "df.drop(df[df['budget'] < 1000000].index, inplace=True)\n",
    "#df.drop(df[df['vote_count'] < 100].index, inplace=True)\n",
    "df.drop(df[df['revenue'] < 2000000].index, inplace=True)\n",
    "#df.drop(df[df['vote_average'] == 0].index, inplace=True)\n",
    "df.shape"
   ],
   "metadata": {
    "trusted": true
   },
   "execution_count": 32,
   "outputs": [
    {
     "data": {
      "text/plain": "(4255, 8)"
     },
     "execution_count": 32,
     "metadata": {},
     "output_type": "execute_result"
    }
   ]
  },
  {
   "cell_type": "code",
   "source": [
    "#Drop original column from dataset\n",
    "df.drop(['genres'], axis=1, inplace=True)\n",
    "#get dummy columns for genre\n",
    "df= pd.get_dummies(df, columns=[\"genre_ed\"])\n",
    "df.info()\n",
    "df.head()"
   ],
   "metadata": {
    "trusted": true
   },
   "execution_count": 33,
   "outputs": [
    {
     "name": "stdout",
     "output_type": "stream",
     "text": [
      "<class 'pandas.core.frame.DataFrame'>\n",
      "Int64Index: 4255 entries, 0 to 45250\n",
      "Data columns (total 17 columns):\n",
      " #   Column                    Non-Null Count  Dtype  \n",
      "---  ------                    --------------  -----  \n",
      " 0   budget                    4255 non-null   float64\n",
      " 1   popularity                4255 non-null   float64\n",
      " 2   revenue                   4255 non-null   float64\n",
      " 3   vote_average              4255 non-null   float64\n",
      " 4   vote_count                4255 non-null   float64\n",
      " 5   return                    4255 non-null   float64\n",
      " 6   genre_ed_Action           4255 non-null   uint8  \n",
      " 7   genre_ed_Adventure        4255 non-null   uint8  \n",
      " 8   genre_ed_Animation        4255 non-null   uint8  \n",
      " 9   genre_ed_Comedy           4255 non-null   uint8  \n",
      " 10  genre_ed_Crime            4255 non-null   uint8  \n",
      " 11  genre_ed_Drama            4255 non-null   uint8  \n",
      " 12  genre_ed_Fantasy          4255 non-null   uint8  \n",
      " 13  genre_ed_Horror           4255 non-null   uint8  \n",
      " 14  genre_ed_Romance          4255 non-null   uint8  \n",
      " 15  genre_ed_Science Fiction  4255 non-null   uint8  \n",
      " 16  genre_ed_Thriller         4255 non-null   uint8  \n",
      "dtypes: float64(6), uint8(11)\n",
      "memory usage: 278.4 KB\n"
     ]
    },
    {
     "data": {
      "text/plain": "       budget  popularity      revenue  vote_average  vote_count     return  \\\n0  30000000.0       21.95  373554033.0           7.7      5415.0  12.451801   \n1  65000000.0       17.02  262797249.0           6.9      2413.0   4.043035   \n3  16000000.0        3.86   81452156.0           6.1        34.0   5.090760   \n5  60000000.0       17.92  187436818.0           7.7      1886.0   3.123947   \n8  35000000.0        5.23   64350171.0           5.5       174.0   1.838576   \n\n   genre_ed_Action  genre_ed_Adventure  genre_ed_Animation  genre_ed_Comedy  \\\n0                0                   0                   1                0   \n1                0                   1                   0                0   \n3                0                   0                   0                1   \n5                1                   0                   0                0   \n8                1                   0                   0                0   \n\n   genre_ed_Crime  genre_ed_Drama  genre_ed_Fantasy  genre_ed_Horror  \\\n0               0               0                 0                0   \n1               0               0                 0                0   \n3               0               0                 0                0   \n5               0               0                 0                0   \n8               0               0                 0                0   \n\n   genre_ed_Romance  genre_ed_Science Fiction  genre_ed_Thriller  \n0                 0                         0                  0  \n1                 0                         0                  0  \n3                 0                         0                  0  \n5                 0                         0                  0  \n8                 0                         0                  0  ",
      "text/html": "<div>\n<style scoped>\n    .dataframe tbody tr th:only-of-type {\n        vertical-align: middle;\n    }\n\n    .dataframe tbody tr th {\n        vertical-align: top;\n    }\n\n    .dataframe thead th {\n        text-align: right;\n    }\n</style>\n<table border=\"1\" class=\"dataframe\">\n  <thead>\n    <tr style=\"text-align: right;\">\n      <th></th>\n      <th>budget</th>\n      <th>popularity</th>\n      <th>revenue</th>\n      <th>vote_average</th>\n      <th>vote_count</th>\n      <th>return</th>\n      <th>genre_ed_Action</th>\n      <th>genre_ed_Adventure</th>\n      <th>genre_ed_Animation</th>\n      <th>genre_ed_Comedy</th>\n      <th>genre_ed_Crime</th>\n      <th>genre_ed_Drama</th>\n      <th>genre_ed_Fantasy</th>\n      <th>genre_ed_Horror</th>\n      <th>genre_ed_Romance</th>\n      <th>genre_ed_Science Fiction</th>\n      <th>genre_ed_Thriller</th>\n    </tr>\n  </thead>\n  <tbody>\n    <tr>\n      <th>0</th>\n      <td>30000000.0</td>\n      <td>21.95</td>\n      <td>373554033.0</td>\n      <td>7.7</td>\n      <td>5415.0</td>\n      <td>12.451801</td>\n      <td>0</td>\n      <td>0</td>\n      <td>1</td>\n      <td>0</td>\n      <td>0</td>\n      <td>0</td>\n      <td>0</td>\n      <td>0</td>\n      <td>0</td>\n      <td>0</td>\n      <td>0</td>\n    </tr>\n    <tr>\n      <th>1</th>\n      <td>65000000.0</td>\n      <td>17.02</td>\n      <td>262797249.0</td>\n      <td>6.9</td>\n      <td>2413.0</td>\n      <td>4.043035</td>\n      <td>0</td>\n      <td>1</td>\n      <td>0</td>\n      <td>0</td>\n      <td>0</td>\n      <td>0</td>\n      <td>0</td>\n      <td>0</td>\n      <td>0</td>\n      <td>0</td>\n      <td>0</td>\n    </tr>\n    <tr>\n      <th>3</th>\n      <td>16000000.0</td>\n      <td>3.86</td>\n      <td>81452156.0</td>\n      <td>6.1</td>\n      <td>34.0</td>\n      <td>5.090760</td>\n      <td>0</td>\n      <td>0</td>\n      <td>0</td>\n      <td>1</td>\n      <td>0</td>\n      <td>0</td>\n      <td>0</td>\n      <td>0</td>\n      <td>0</td>\n      <td>0</td>\n      <td>0</td>\n    </tr>\n    <tr>\n      <th>5</th>\n      <td>60000000.0</td>\n      <td>17.92</td>\n      <td>187436818.0</td>\n      <td>7.7</td>\n      <td>1886.0</td>\n      <td>3.123947</td>\n      <td>1</td>\n      <td>0</td>\n      <td>0</td>\n      <td>0</td>\n      <td>0</td>\n      <td>0</td>\n      <td>0</td>\n      <td>0</td>\n      <td>0</td>\n      <td>0</td>\n      <td>0</td>\n    </tr>\n    <tr>\n      <th>8</th>\n      <td>35000000.0</td>\n      <td>5.23</td>\n      <td>64350171.0</td>\n      <td>5.5</td>\n      <td>174.0</td>\n      <td>1.838576</td>\n      <td>1</td>\n      <td>0</td>\n      <td>0</td>\n      <td>0</td>\n      <td>0</td>\n      <td>0</td>\n      <td>0</td>\n      <td>0</td>\n      <td>0</td>\n      <td>0</td>\n      <td>0</td>\n    </tr>\n  </tbody>\n</table>\n</div>"
     },
     "execution_count": 33,
     "metadata": {},
     "output_type": "execute_result"
    }
   ]
  },
  {
   "cell_type": "code",
   "source": [
    "#Summary statistics of dataset \n",
    "df.describe()"
   ],
   "metadata": {
    "trusted": true
   },
   "execution_count": 34,
   "outputs": [
    {
     "data": {
      "text/plain": "             budget   popularity       revenue  vote_average    vote_count  \\\ncount  4.255000e+03  4255.000000  4.255000e+03   4255.000000   4255.000000   \nmean   3.644988e+07    10.570820  1.076752e+08      6.290881    860.522444   \nstd    4.202929e+07    11.798288  1.755071e+08      0.863542   1339.260543   \nmin    1.000000e+06     0.010000  2.000000e+06      2.500000      1.000000   \n25%    9.000000e+06     6.450000  1.494000e+07      5.750000    130.000000   \n50%    2.200000e+07     9.100000  4.401737e+07      6.300000    368.000000   \n75%    4.700000e+07    12.330000  1.219721e+08      6.900000    981.000000   \nmax    3.800000e+08   294.340000  2.787965e+09      9.100000  14075.000000   \n\n            return  genre_ed_Action  genre_ed_Adventure  genre_ed_Animation  \\\ncount  4255.000000      4255.000000         4255.000000         4255.000000   \nmean      4.132138         0.207756            0.089307            0.031962   \nstd       7.851683         0.405749            0.285219            0.175921   \nmin       0.047879         0.000000            0.000000            0.000000   \n25%       1.090403         0.000000            0.000000            0.000000   \n50%       2.285714         0.000000            0.000000            0.000000   \n75%       4.318010         0.000000            0.000000            0.000000   \nmax     190.666667         1.000000            1.000000            1.000000   \n\n       genre_ed_Comedy  genre_ed_Crime  genre_ed_Drama  genre_ed_Fantasy  \\\ncount      4255.000000     4255.000000     4255.000000       4255.000000   \nmean          0.211516        0.051469        0.236193          0.028907   \nstd           0.408431        0.220978        0.424792          0.167565   \nmin           0.000000        0.000000        0.000000          0.000000   \n25%           0.000000        0.000000        0.000000          0.000000   \n50%           0.000000        0.000000        0.000000          0.000000   \n75%           0.000000        0.000000        0.000000          0.000000   \nmax           1.000000        1.000000        1.000000          1.000000   \n\n       genre_ed_Horror  genre_ed_Romance  genre_ed_Science Fiction  \\\ncount      4255.000000       4255.000000               4255.000000   \nmean          0.059929          0.021857                  0.021857   \nstd           0.237384          0.146233                  0.146233   \nmin           0.000000          0.000000                  0.000000   \n25%           0.000000          0.000000                  0.000000   \n50%           0.000000          0.000000                  0.000000   \n75%           0.000000          0.000000                  0.000000   \nmax           1.000000          1.000000                  1.000000   \n\n       genre_ed_Thriller  \ncount        4255.000000  \nmean            0.038308  \nstd             0.191961  \nmin             0.000000  \n25%             0.000000  \n50%             0.000000  \n75%             0.000000  \nmax             1.000000  ",
      "text/html": "<div>\n<style scoped>\n    .dataframe tbody tr th:only-of-type {\n        vertical-align: middle;\n    }\n\n    .dataframe tbody tr th {\n        vertical-align: top;\n    }\n\n    .dataframe thead th {\n        text-align: right;\n    }\n</style>\n<table border=\"1\" class=\"dataframe\">\n  <thead>\n    <tr style=\"text-align: right;\">\n      <th></th>\n      <th>budget</th>\n      <th>popularity</th>\n      <th>revenue</th>\n      <th>vote_average</th>\n      <th>vote_count</th>\n      <th>return</th>\n      <th>genre_ed_Action</th>\n      <th>genre_ed_Adventure</th>\n      <th>genre_ed_Animation</th>\n      <th>genre_ed_Comedy</th>\n      <th>genre_ed_Crime</th>\n      <th>genre_ed_Drama</th>\n      <th>genre_ed_Fantasy</th>\n      <th>genre_ed_Horror</th>\n      <th>genre_ed_Romance</th>\n      <th>genre_ed_Science Fiction</th>\n      <th>genre_ed_Thriller</th>\n    </tr>\n  </thead>\n  <tbody>\n    <tr>\n      <th>count</th>\n      <td>4.255000e+03</td>\n      <td>4255.000000</td>\n      <td>4.255000e+03</td>\n      <td>4255.000000</td>\n      <td>4255.000000</td>\n      <td>4255.000000</td>\n      <td>4255.000000</td>\n      <td>4255.000000</td>\n      <td>4255.000000</td>\n      <td>4255.000000</td>\n      <td>4255.000000</td>\n      <td>4255.000000</td>\n      <td>4255.000000</td>\n      <td>4255.000000</td>\n      <td>4255.000000</td>\n      <td>4255.000000</td>\n      <td>4255.000000</td>\n    </tr>\n    <tr>\n      <th>mean</th>\n      <td>3.644988e+07</td>\n      <td>10.570820</td>\n      <td>1.076752e+08</td>\n      <td>6.290881</td>\n      <td>860.522444</td>\n      <td>4.132138</td>\n      <td>0.207756</td>\n      <td>0.089307</td>\n      <td>0.031962</td>\n      <td>0.211516</td>\n      <td>0.051469</td>\n      <td>0.236193</td>\n      <td>0.028907</td>\n      <td>0.059929</td>\n      <td>0.021857</td>\n      <td>0.021857</td>\n      <td>0.038308</td>\n    </tr>\n    <tr>\n      <th>std</th>\n      <td>4.202929e+07</td>\n      <td>11.798288</td>\n      <td>1.755071e+08</td>\n      <td>0.863542</td>\n      <td>1339.260543</td>\n      <td>7.851683</td>\n      <td>0.405749</td>\n      <td>0.285219</td>\n      <td>0.175921</td>\n      <td>0.408431</td>\n      <td>0.220978</td>\n      <td>0.424792</td>\n      <td>0.167565</td>\n      <td>0.237384</td>\n      <td>0.146233</td>\n      <td>0.146233</td>\n      <td>0.191961</td>\n    </tr>\n    <tr>\n      <th>min</th>\n      <td>1.000000e+06</td>\n      <td>0.010000</td>\n      <td>2.000000e+06</td>\n      <td>2.500000</td>\n      <td>1.000000</td>\n      <td>0.047879</td>\n      <td>0.000000</td>\n      <td>0.000000</td>\n      <td>0.000000</td>\n      <td>0.000000</td>\n      <td>0.000000</td>\n      <td>0.000000</td>\n      <td>0.000000</td>\n      <td>0.000000</td>\n      <td>0.000000</td>\n      <td>0.000000</td>\n      <td>0.000000</td>\n    </tr>\n    <tr>\n      <th>25%</th>\n      <td>9.000000e+06</td>\n      <td>6.450000</td>\n      <td>1.494000e+07</td>\n      <td>5.750000</td>\n      <td>130.000000</td>\n      <td>1.090403</td>\n      <td>0.000000</td>\n      <td>0.000000</td>\n      <td>0.000000</td>\n      <td>0.000000</td>\n      <td>0.000000</td>\n      <td>0.000000</td>\n      <td>0.000000</td>\n      <td>0.000000</td>\n      <td>0.000000</td>\n      <td>0.000000</td>\n      <td>0.000000</td>\n    </tr>\n    <tr>\n      <th>50%</th>\n      <td>2.200000e+07</td>\n      <td>9.100000</td>\n      <td>4.401737e+07</td>\n      <td>6.300000</td>\n      <td>368.000000</td>\n      <td>2.285714</td>\n      <td>0.000000</td>\n      <td>0.000000</td>\n      <td>0.000000</td>\n      <td>0.000000</td>\n      <td>0.000000</td>\n      <td>0.000000</td>\n      <td>0.000000</td>\n      <td>0.000000</td>\n      <td>0.000000</td>\n      <td>0.000000</td>\n      <td>0.000000</td>\n    </tr>\n    <tr>\n      <th>75%</th>\n      <td>4.700000e+07</td>\n      <td>12.330000</td>\n      <td>1.219721e+08</td>\n      <td>6.900000</td>\n      <td>981.000000</td>\n      <td>4.318010</td>\n      <td>0.000000</td>\n      <td>0.000000</td>\n      <td>0.000000</td>\n      <td>0.000000</td>\n      <td>0.000000</td>\n      <td>0.000000</td>\n      <td>0.000000</td>\n      <td>0.000000</td>\n      <td>0.000000</td>\n      <td>0.000000</td>\n      <td>0.000000</td>\n    </tr>\n    <tr>\n      <th>max</th>\n      <td>3.800000e+08</td>\n      <td>294.340000</td>\n      <td>2.787965e+09</td>\n      <td>9.100000</td>\n      <td>14075.000000</td>\n      <td>190.666667</td>\n      <td>1.000000</td>\n      <td>1.000000</td>\n      <td>1.000000</td>\n      <td>1.000000</td>\n      <td>1.000000</td>\n      <td>1.000000</td>\n      <td>1.000000</td>\n      <td>1.000000</td>\n      <td>1.000000</td>\n      <td>1.000000</td>\n      <td>1.000000</td>\n    </tr>\n  </tbody>\n</table>\n</div>"
     },
     "execution_count": 34,
     "metadata": {},
     "output_type": "execute_result"
    }
   ]
  },
  {
   "cell_type": "code",
   "source": [
    "#Let's check for outliers\n",
    "df.boxplot(column=['budget', 'revenue'])"
   ],
   "metadata": {
    "trusted": true
   },
   "execution_count": 35,
   "outputs": [
    {
     "data": {
      "text/plain": "<Axes: >"
     },
     "execution_count": 35,
     "metadata": {},
     "output_type": "execute_result"
    },
    {
     "data": {
      "text/plain": "<Figure size 640x480 with 1 Axes>",
      "image/png": "[encoded data removed]"
     },
     "metadata": {},
     "output_type": "display_data"
    }
   ]
  },
  {
   "cell_type": "code",
   "source": [
    "df.boxplot(column=['popularity', 'vote_average', 'vote_count'])"
   ],
   "metadata": {
    "trusted": true
   },
   "execution_count": 36,
   "outputs": [
    {
     "data": {
      "text/plain": "<Axes: >"
     },
     "execution_count": 36,
     "metadata": {},
     "output_type": "execute_result"
    },
    {
     "data": {
      "text/plain": "<Figure size 640x480 with 1 Axes>",
      "image/png": "[encoded data removed]"
     },
     "metadata": {},
     "output_type": "display_data"
    }
   ]
  },
  {
   "cell_type": "code",
   "source": [
    "df_o= df[(np.nan_to_num(np.abs(stats.zscore(df,nan_policy='omit')),0) < 3).all(axis=1)]"
   ],
   "metadata": {
    "trusted": true
   },
   "execution_count": 37,
   "outputs": []
  },
  {
   "cell_type": "code",
   "source": [
    "df.shape\n",
    "print ('Shape of original input dataset:', df.shape)\n",
    "#After removing outliers\n",
    "df_o.shape\n",
    "print ('Shape of input dataset after removing outliers:', df_o.shape)"
   ],
   "metadata": {
    "trusted": true
   },
   "execution_count": 38,
   "outputs": [
    {
     "name": "stdout",
     "output_type": "stream",
     "text": [
      "Shape of original input dataset: (4255, 17)\n",
      "Shape of input dataset after removing outliers: (2645, 17)\n"
     ]
    }
   ]
  },
  {
   "cell_type": "code",
   "source": [
    "Q1 = df_o.quantile(0.25)\n",
    "Q3 = df_o.quantile(0.75)\n",
    "IQR = Q3 - Q1\n",
    "print(IQR)"
   ],
   "metadata": {
    "trusted": true
   },
   "execution_count": 39,
   "outputs": [
    {
     "name": "stdout",
     "output_type": "stream",
     "text": [
      "budget                      3.100000e+07\n",
      "popularity                  5.420000e+00\n",
      "revenue                     8.061701e+07\n",
      "vote_average                1.200000e+00\n",
      "vote_count                  6.320000e+02\n",
      "return                      2.998467e+00\n",
      "genre_ed_Action             1.000000e+00\n",
      "genre_ed_Adventure          0.000000e+00\n",
      "genre_ed_Animation          0.000000e+00\n",
      "genre_ed_Comedy             1.000000e+00\n",
      "genre_ed_Crime              0.000000e+00\n",
      "genre_ed_Drama              1.000000e+00\n",
      "genre_ed_Fantasy            0.000000e+00\n",
      "genre_ed_Horror             0.000000e+00\n",
      "genre_ed_Romance            0.000000e+00\n",
      "genre_ed_Science Fiction    0.000000e+00\n",
      "genre_ed_Thriller           0.000000e+00\n",
      "dtype: float64\n"
     ]
    }
   ]
  },
  {
   "cell_type": "code",
   "source": [
    "df_out = df_o[~((df_o < (Q1 - 1.5 * IQR)) |(df_o > (Q3 + 1.5 * IQR))).any(axis=1)]"
   ],
   "metadata": {
    "trusted": true
   },
   "execution_count": 40,
   "outputs": []
  },
  {
   "cell_type": "code",
   "source": [
    "print ('Shape of input dataset after managing misspread:', df_out.shape)"
   ],
   "metadata": {
    "trusted": true
   },
   "execution_count": 41,
   "outputs": [
    {
     "name": "stdout",
     "output_type": "stream",
     "text": [
      "Shape of input dataset after managing misspread: (2106, 17)\n"
     ]
    }
   ]
  },
  {
   "cell_type": "code",
   "source": [
    "df_out.boxplot(column=['budget', 'revenue'])"
   ],
   "metadata": {
    "trusted": true
   },
   "execution_count": 42,
   "outputs": [
    {
     "data": {
      "text/plain": "<Axes: >"
     },
     "execution_count": 42,
     "metadata": {},
     "output_type": "execute_result"
    },
    {
     "data": {
      "text/plain": "<Figure size 640x480 with 1 Axes>",
      "image/png": "[encoded data removed]"
     },
     "metadata": {},
     "output_type": "display_data"
    }
   ]
  },
  {
   "cell_type": "code",
   "source": [
    "df_out_high = df_out.apply(lambda x : True\n",
    "            if x['revenue'] > 13500000 or x['budget'] > 30000000 else False, axis = 1) \n",
    "num_rows = len(df_out_high[df_out_high == True].index) \n",
    "  \n",
    "print('Number of Rows in dataframe with revenue more than 13.5 million dollars or budget more than 30 million: ', \n",
    "      num_rows ) "
   ],
   "metadata": {
    "trusted": true
   },
   "execution_count": 43,
   "outputs": [
    {
     "name": "stdout",
     "output_type": "stream",
     "text": [
      "Number of Rows in dataframe with revenue more than 13.5 million dollars or budget more than 30 million:  1482\n"
     ]
    }
   ]
  },
  {
   "cell_type": "code",
   "source": [
    "df_out.drop(df_out[df_out['revenue'] > 13500000].index, inplace=True)\n",
    "df_out.drop(df_out[df_out['budget'] > 30000000].index, inplace=True)"
   ],
   "metadata": {
    "trusted": true
   },
   "execution_count": 44,
   "outputs": [
    {
     "name": "stderr",
     "output_type": "stream",
     "text": [
      "C:\\Users\\Bo Sterenborg\\AppData\\Local\\Temp\\ipykernel_8724\\127420694.py:1: SettingWithCopyWarning: \n",
      "A value is trying to be set on a copy of a slice from a DataFrame\n",
      "\n",
      "See the caveats in the documentation: https://pandas.pydata.org/pandas-docs/stable/user_guide/indexing.html#returning-a-view-versus-a-copy\n",
      "  df_out.drop(df_out[df_out['revenue'] > 13500000].index, inplace=True)\n",
      "C:\\Users\\Bo Sterenborg\\AppData\\Local\\Temp\\ipykernel_8724\\127420694.py:2: SettingWithCopyWarning: \n",
      "A value is trying to be set on a copy of a slice from a DataFrame\n",
      "\n",
      "See the caveats in the documentation: https://pandas.pydata.org/pandas-docs/stable/user_guide/indexing.html#returning-a-view-versus-a-copy\n",
      "  df_out.drop(df_out[df_out['budget'] > 30000000].index, inplace=True)\n"
     ]
    }
   ]
  },
  {
   "cell_type": "code",
   "source": [
    "df_out.boxplot(column=['budget', 'revenue'])"
   ],
   "metadata": {
    "trusted": true
   },
   "execution_count": 45,
   "outputs": [
    {
     "data": {
      "text/plain": "<Axes: >"
     },
     "execution_count": 45,
     "metadata": {},
     "output_type": "execute_result"
    },
    {
     "data": {
      "text/plain": "<Figure size 640x480 with 1 Axes>",
      "image/png": "[encoded data removed]"
     },
     "metadata": {},
     "output_type": "display_data"
    }
   ]
  },
  {
   "cell_type": "markdown",
   "source": [
    "Looking at the range I can say the dataset has movies which are high budget, low revenue."
   ],
   "metadata": {}
  },
  {
   "cell_type": "code",
   "source": [
    "df_out['revenue'].describe()"
   ],
   "metadata": {
    "trusted": true
   },
   "execution_count": 46,
   "outputs": [
    {
     "data": {
      "text/plain": "count    6.240000e+02\nmean     7.017731e+06\nstd      3.370582e+06\nmin      2.000000e+06\n25%      4.069512e+06\n50%      6.737532e+06\n75%      1.000000e+07\nmax      1.350000e+07\nName: revenue, dtype: float64"
     },
     "execution_count": 46,
     "metadata": {},
     "output_type": "execute_result"
    }
   ]
  },
  {
   "cell_type": "code",
   "source": [
    "# recode the revenue into high and low\n",
    "df_out['Revenue'] = 0\n",
    "df_out.loc[df_out['revenue'] <7017731,'Revenue'] = 0\n",
    "df_out.loc[df_out['revenue'] >=7017731,'Revenue'] = 1\n",
    "df_out.head()"
   ],
   "metadata": {
    "trusted": true
   },
   "execution_count": 47,
   "outputs": [
    {
     "name": "stderr",
     "output_type": "stream",
     "text": [
      "C:\\Users\\Bo Sterenborg\\AppData\\Local\\Temp\\ipykernel_8724\\1517715420.py:2: SettingWithCopyWarning: \n",
      "A value is trying to be set on a copy of a slice from a DataFrame.\n",
      "Try using .loc[row_indexer,col_indexer] = value instead\n",
      "\n",
      "See the caveats in the documentation: https://pandas.pydata.org/pandas-docs/stable/user_guide/indexing.html#returning-a-view-versus-a-copy\n",
      "  df_out['Revenue'] = 0\n"
     ]
    },
    {
     "data": {
      "text/plain": "         budget  popularity    revenue  vote_average  vote_count    return  \\\n51   15000000.0       15.90  6700000.0           6.7       145.0  0.446667   \n74   15000000.0        2.94  2042530.0           3.9        16.0  0.136169   \n117  25000000.0        1.52  6278139.0           5.1         7.0  0.251126   \n167  20000000.0       14.81  7563728.0           6.2       406.0  0.378186   \n172   1500000.0        4.88  7412216.0           6.8       280.0  4.941477   \n\n     genre_ed_Action  genre_ed_Adventure  genre_ed_Animation  genre_ed_Comedy  \\\n51                 0                   0                   0                1   \n74                 0                   0                   0                1   \n117                0                   0                   0                1   \n167                1                   0                   0                0   \n172                0                   0                   0                0   \n\n     genre_ed_Crime  genre_ed_Drama  genre_ed_Fantasy  genre_ed_Horror  \\\n51                0               0                 0                0   \n74                0               0                 0                0   \n117               0               0                 0                0   \n167               0               0                 0                0   \n172               0               1                 0                0   \n\n     genre_ed_Romance  genre_ed_Science Fiction  genre_ed_Thriller  Revenue  \n51                  0                         0                  0        0  \n74                  0                         0                  0        0  \n117                 0                         0                  0        0  \n167                 0                         0                  0        1  \n172                 0                         0                  0        1  ",
      "text/html": "<div>\n<style scoped>\n    .dataframe tbody tr th:only-of-type {\n        vertical-align: middle;\n    }\n\n    .dataframe tbody tr th {\n        vertical-align: top;\n    }\n\n    .dataframe thead th {\n        text-align: right;\n    }\n</style>\n<table border=\"1\" class=\"dataframe\">\n  <thead>\n    <tr style=\"text-align: right;\">\n      <th></th>\n      <th>budget</th>\n      <th>popularity</th>\n      <th>revenue</th>\n      <th>vote_average</th>\n      <th>vote_count</th>\n      <th>return</th>\n      <th>genre_ed_Action</th>\n      <th>genre_ed_Adventure</th>\n      <th>genre_ed_Animation</th>\n      <th>genre_ed_Comedy</th>\n      <th>genre_ed_Crime</th>\n      <th>genre_ed_Drama</th>\n      <th>genre_ed_Fantasy</th>\n      <th>genre_ed_Horror</th>\n      <th>genre_ed_Romance</th>\n      <th>genre_ed_Science Fiction</th>\n      <th>genre_ed_Thriller</th>\n      <th>Revenue</th>\n    </tr>\n  </thead>\n  <tbody>\n    <tr>\n      <th>51</th>\n      <td>15000000.0</td>\n      <td>15.90</td>\n      <td>6700000.0</td>\n      <td>6.7</td>\n      <td>145.0</td>\n      <td>0.446667</td>\n      <td>0</td>\n      <td>0</td>\n      <td>0</td>\n      <td>1</td>\n      <td>0</td>\n      <td>0</td>\n      <td>0</td>\n      <td>0</td>\n      <td>0</td>\n      <td>0</td>\n      <td>0</td>\n      <td>0</td>\n    </tr>\n    <tr>\n      <th>74</th>\n      <td>15000000.0</td>\n      <td>2.94</td>\n      <td>2042530.0</td>\n      <td>3.9</td>\n      <td>16.0</td>\n      <td>0.136169</td>\n      <td>0</td>\n      <td>0</td>\n      <td>0</td>\n      <td>1</td>\n      <td>0</td>\n      <td>0</td>\n      <td>0</td>\n      <td>0</td>\n      <td>0</td>\n      <td>0</td>\n      <td>0</td>\n      <td>0</td>\n    </tr>\n    <tr>\n      <th>117</th>\n      <td>25000000.0</td>\n      <td>1.52</td>\n      <td>6278139.0</td>\n      <td>5.1</td>\n      <td>7.0</td>\n      <td>0.251126</td>\n      <td>0</td>\n      <td>0</td>\n      <td>0</td>\n      <td>1</td>\n      <td>0</td>\n      <td>0</td>\n      <td>0</td>\n      <td>0</td>\n      <td>0</td>\n      <td>0</td>\n      <td>0</td>\n      <td>0</td>\n    </tr>\n    <tr>\n      <th>167</th>\n      <td>20000000.0</td>\n      <td>14.81</td>\n      <td>7563728.0</td>\n      <td>6.2</td>\n      <td>406.0</td>\n      <td>0.378186</td>\n      <td>1</td>\n      <td>0</td>\n      <td>0</td>\n      <td>0</td>\n      <td>0</td>\n      <td>0</td>\n      <td>0</td>\n      <td>0</td>\n      <td>0</td>\n      <td>0</td>\n      <td>0</td>\n      <td>1</td>\n    </tr>\n    <tr>\n      <th>172</th>\n      <td>1500000.0</td>\n      <td>4.88</td>\n      <td>7412216.0</td>\n      <td>6.8</td>\n      <td>280.0</td>\n      <td>4.941477</td>\n      <td>0</td>\n      <td>0</td>\n      <td>0</td>\n      <td>0</td>\n      <td>0</td>\n      <td>1</td>\n      <td>0</td>\n      <td>0</td>\n      <td>0</td>\n      <td>0</td>\n      <td>0</td>\n      <td>1</td>\n    </tr>\n  </tbody>\n</table>\n</div>"
     },
     "execution_count": 47,
     "metadata": {},
     "output_type": "execute_result"
    }
   ]
  },
  {
   "cell_type": "code",
   "source": [
    "# check distribution of target variable\n",
    "df_out['Revenue'].value_counts()"
   ],
   "metadata": {
    "trusted": true
   },
   "execution_count": 48,
   "outputs": [
    {
     "data": {
      "text/plain": "0    336\n1    288\nName: Revenue, dtype: int64"
     },
     "execution_count": 48,
     "metadata": {},
     "output_type": "execute_result"
    }
   ]
  },
  {
   "cell_type": "code",
   "source": [
    "df_out.drop(['revenue'],axis=1, inplace=True)"
   ],
   "metadata": {
    "trusted": true
   },
   "execution_count": 49,
   "outputs": [
    {
     "name": "stderr",
     "output_type": "stream",
     "text": [
      "C:\\Users\\Bo Sterenborg\\AppData\\Local\\Temp\\ipykernel_8724\\2566834188.py:1: SettingWithCopyWarning: \n",
      "A value is trying to be set on a copy of a slice from a DataFrame\n",
      "\n",
      "See the caveats in the documentation: https://pandas.pydata.org/pandas-docs/stable/user_guide/indexing.html#returning-a-view-versus-a-copy\n",
      "  df_out.drop(['revenue'],axis=1, inplace=True)\n"
     ]
    }
   ]
  },
  {
   "cell_type": "code",
   "source": [
    "df_out"
   ],
   "metadata": {
    "trusted": true
   },
   "execution_count": 50,
   "outputs": [
    {
     "data": {
      "text/plain": "           budget  popularity  vote_average  vote_count    return  \\\n51     15000000.0       15.90           6.7       145.0  0.446667   \n74     15000000.0        2.94           3.9        16.0  0.136169   \n117    25000000.0        1.52           5.1         7.0  0.251126   \n167    20000000.0       14.81           6.2       406.0  0.378186   \n172     1500000.0        4.88           6.8       280.0  4.941477   \n...           ...         ...           ...         ...       ...   \n44103   5000000.0        0.41           5.6         7.0  0.783946   \n44129   5000000.0        8.97           6.4        25.0  1.340000   \n44711   8500000.0        1.54           4.7        14.0  0.674188   \n44848   2000000.0        1.46           5.3         9.0  5.833044   \n44970   2196531.0        0.95           5.6        10.0  1.097910   \n\n       genre_ed_Action  genre_ed_Adventure  genre_ed_Animation  \\\n51                   0                   0                   0   \n74                   0                   0                   0   \n117                  0                   0                   0   \n167                  1                   0                   0   \n172                  0                   0                   0   \n...                ...                 ...                 ...   \n44103                1                   0                   0   \n44129                0                   0                   0   \n44711                1                   0                   0   \n44848                0                   0                   0   \n44970                0                   0                   0   \n\n       genre_ed_Comedy  genre_ed_Crime  genre_ed_Drama  genre_ed_Fantasy  \\\n51                   1               0               0                 0   \n74                   1               0               0                 0   \n117                  1               0               0                 0   \n167                  0               0               0                 0   \n172                  0               0               1                 0   \n...                ...             ...             ...               ...   \n44103                0               0               0                 0   \n44129                0               0               1                 0   \n44711                0               0               0                 0   \n44848                1               0               0                 0   \n44970                1               0               0                 0   \n\n       genre_ed_Horror  genre_ed_Romance  genre_ed_Science Fiction  \\\n51                   0                 0                         0   \n74                   0                 0                         0   \n117                  0                 0                         0   \n167                  0                 0                         0   \n172                  0                 0                         0   \n...                ...               ...                       ...   \n44103                0                 0                         0   \n44129                0                 0                         0   \n44711                0                 0                         0   \n44848                0                 0                         0   \n44970                0                 0                         0   \n\n       genre_ed_Thriller  Revenue  \n51                     0        0  \n74                     0        0  \n117                    0        0  \n167                    0        1  \n172                    0        1  \n...                  ...      ...  \n44103                  0        0  \n44129                  0        0  \n44711                  0        0  \n44848                  0        1  \n44970                  0        0  \n\n[624 rows x 17 columns]",
      "text/html": "<div>\n<style scoped>\n    .dataframe tbody tr th:only-of-type {\n        vertical-align: middle;\n    }\n\n    .dataframe tbody tr th {\n        vertical-align: top;\n    }\n\n    .dataframe thead th {\n        text-align: right;\n    }\n</style>\n<table border=\"1\" class=\"dataframe\">\n  <thead>\n    <tr style=\"text-align: right;\">\n      <th></th>\n      <th>budget</th>\n      <th>popularity</th>\n      <th>vote_average</th>\n      <th>vote_count</th>\n      <th>return</th>\n      <th>genre_ed_Action</th>\n      <th>genre_ed_Adventure</th>\n      <th>genre_ed_Animation</th>\n      <th>genre_ed_Comedy</th>\n      <th>genre_ed_Crime</th>\n      <th>genre_ed_Drama</th>\n      <th>genre_ed_Fantasy</th>\n      <th>genre_ed_Horror</th>\n      <th>genre_ed_Romance</th>\n      <th>genre_ed_Science Fiction</th>\n      <th>genre_ed_Thriller</th>\n      <th>Revenue</th>\n    </tr>\n  </thead>\n  <tbody>\n    <tr>\n      <th>51</th>\n      <td>15000000.0</td>\n      <td>15.90</td>\n      <td>6.7</td>\n      <td>145.0</td>\n      <td>0.446667</td>\n      <td>0</td>\n      <td>0</td>\n      <td>0</td>\n      <td>1</td>\n      <td>0</td>\n      <td>0</td>\n      <td>0</td>\n      <td>0</td>\n      <td>0</td>\n      <td>0</td>\n      <td>0</td>\n      <td>0</td>\n    </tr>\n    <tr>\n      <th>74</th>\n      <td>15000000.0</td>\n      <td>2.94</td>\n      <td>3.9</td>\n      <td>16.0</td>\n      <td>0.136169</td>\n      <td>0</td>\n      <td>0</td>\n      <td>0</td>\n      <td>1</td>\n      <td>0</td>\n      <td>0</td>\n      <td>0</td>\n      <td>0</td>\n      <td>0</td>\n      <td>0</td>\n      <td>0</td>\n      <td>0</td>\n    </tr>\n    <tr>\n      <th>117</th>\n      <td>25000000.0</td>\n      <td>1.52</td>\n      <td>5.1</td>\n      <td>7.0</td>\n      <td>0.251126</td>\n      <td>0</td>\n      <td>0</td>\n      <td>0</td>\n      <td>1</td>\n      <td>0</td>\n      <td>0</td>\n      <td>0</td>\n      <td>0</td>\n      <td>0</td>\n      <td>0</td>\n      <td>0</td>\n      <td>0</td>\n    </tr>\n    <tr>\n      <th>167</th>\n      <td>20000000.0</td>\n      <td>14.81</td>\n      <td>6.2</td>\n      <td>406.0</td>\n      <td>0.378186</td>\n      <td>1</td>\n      <td>0</td>\n      <td>0</td>\n      <td>0</td>\n      <td>0</td>\n      <td>0</td>\n      <td>0</td>\n      <td>0</td>\n      <td>0</td>\n      <td>0</td>\n      <td>0</td>\n      <td>1</td>\n    </tr>\n    <tr>\n      <th>172</th>\n      <td>1500000.0</td>\n      <td>4.88</td>\n      <td>6.8</td>\n      <td>280.0</td>\n      <td>4.941477</td>\n      <td>0</td>\n      <td>0</td>\n      <td>0</td>\n      <td>0</td>\n      <td>0</td>\n      <td>1</td>\n      <td>0</td>\n      <td>0</td>\n      <td>0</td>\n      <td>0</td>\n      <td>0</td>\n      <td>1</td>\n    </tr>\n    <tr>\n      <th>...</th>\n      <td>...</td>\n      <td>...</td>\n      <td>...</td>\n      <td>...</td>\n      <td>...</td>\n      <td>...</td>\n      <td>...</td>\n      <td>...</td>\n      <td>...</td>\n      <td>...</td>\n      <td>...</td>\n      <td>...</td>\n      <td>...</td>\n      <td>...</td>\n      <td>...</td>\n      <td>...</td>\n      <td>...</td>\n    </tr>\n    <tr>\n      <th>44103</th>\n      <td>5000000.0</td>\n      <td>0.41</td>\n      <td>5.6</td>\n      <td>7.0</td>\n      <td>0.783946</td>\n      <td>1</td>\n      <td>0</td>\n      <td>0</td>\n      <td>0</td>\n      <td>0</td>\n      <td>0</td>\n      <td>0</td>\n      <td>0</td>\n      <td>0</td>\n      <td>0</td>\n      <td>0</td>\n      <td>0</td>\n    </tr>\n    <tr>\n      <th>44129</th>\n      <td>5000000.0</td>\n      <td>8.97</td>\n      <td>6.4</td>\n      <td>25.0</td>\n      <td>1.340000</td>\n      <td>0</td>\n      <td>0</td>\n      <td>0</td>\n      <td>0</td>\n      <td>0</td>\n      <td>1</td>\n      <td>0</td>\n      <td>0</td>\n      <td>0</td>\n      <td>0</td>\n      <td>0</td>\n      <td>0</td>\n    </tr>\n    <tr>\n      <th>44711</th>\n      <td>8500000.0</td>\n      <td>1.54</td>\n      <td>4.7</td>\n      <td>14.0</td>\n      <td>0.674188</td>\n      <td>1</td>\n      <td>0</td>\n      <td>0</td>\n      <td>0</td>\n      <td>0</td>\n      <td>0</td>\n      <td>0</td>\n      <td>0</td>\n      <td>0</td>\n      <td>0</td>\n      <td>0</td>\n      <td>0</td>\n    </tr>\n    <tr>\n      <th>44848</th>\n      <td>2000000.0</td>\n      <td>1.46</td>\n      <td>5.3</td>\n      <td>9.0</td>\n      <td>5.833044</td>\n      <td>0</td>\n      <td>0</td>\n      <td>0</td>\n      <td>1</td>\n      <td>0</td>\n      <td>0</td>\n      <td>0</td>\n      <td>0</td>\n      <td>0</td>\n      <td>0</td>\n      <td>0</td>\n      <td>1</td>\n    </tr>\n    <tr>\n      <th>44970</th>\n      <td>2196531.0</td>\n      <td>0.95</td>\n      <td>5.6</td>\n      <td>10.0</td>\n      <td>1.097910</td>\n      <td>0</td>\n      <td>0</td>\n      <td>0</td>\n      <td>1</td>\n      <td>0</td>\n      <td>0</td>\n      <td>0</td>\n      <td>0</td>\n      <td>0</td>\n      <td>0</td>\n      <td>0</td>\n      <td>0</td>\n    </tr>\n  </tbody>\n</table>\n<p>624 rows × 17 columns</p>\n</div>"
     },
     "execution_count": 50,
     "metadata": {},
     "output_type": "execute_result"
    }
   ]
  },
  {
   "cell_type": "markdown",
   "source": [
    "# 3) Split Data into X and Y"
   ],
   "metadata": {}
  },
  {
   "cell_type": "code",
   "source": [
    "# Assign X and Y\n",
    "X = df_out.drop(['Revenue'], axis=1)\n",
    "y = df_out['Revenue']\n",
    "\n",
    "print(X.shape)\n",
    "print(y.shape)"
   ],
   "metadata": {
    "trusted": true
   },
   "execution_count": 51,
   "outputs": [
    {
     "name": "stdout",
     "output_type": "stream",
     "text": [
      "(624, 16)\n",
      "(624,)\n"
     ]
    }
   ]
  },
  {
   "cell_type": "code",
   "source": [
    "import imblearn.under_sampling as u\n",
    "# example of random oversampling to balance the class distribution\n",
    "from collections import Counter\n",
    "from sklearn.datasets import make_classification\n",
    "from imblearn.over_sampling import RandomOverSampler\n",
    "\n",
    "X,y = make_classification(n_features = 16, n_samples=312) \n",
    "# Make classification default = 20, so I need to set the number\n",
    "ros = u.RandomUnderSampler(sampling_strategy='majority')\n",
    "X_resampled, Y_resampled = ros.fit_resample(X, y)"
   ],
   "metadata": {
    "trusted": true
   },
   "execution_count": 52,
   "outputs": []
  },
  {
   "cell_type": "code",
   "source": [
    "X_resampled = pd.DataFrame(X_resampled)\n",
    "print(X_resampled.shape)\n",
    "\n",
    "Y_resampled = pd.DataFrame(Y_resampled)\n",
    "print(Y_resampled.shape)"
   ],
   "metadata": {
    "trusted": true
   },
   "execution_count": 53,
   "outputs": [
    {
     "name": "stdout",
     "output_type": "stream",
     "text": [
      "(312, 16)\n",
      "(312, 1)\n"
     ]
    }
   ]
  },
  {
   "cell_type": "code",
   "source": [
    "X_resampled.columns = ['budget', 'popularity', 'vote_average', 'vote_count','return',\n",
    "       'genre_ed_Action', 'genre_ed_Adventure', 'genre_ed_Animation',\n",
    "       'genre_ed_Comedy', 'genre_ed_Crime', 'genre_ed_Drama',\n",
    "       'genre_ed_Fantasy', 'genre_ed_Horror', 'genre_ed_Romance',\n",
    "       'genre_ed_Science Fiction', 'genre_ed_Thriller']"
   ],
   "metadata": {
    "trusted": true
   },
   "execution_count": 54,
   "outputs": []
  },
  {
   "cell_type": "code",
   "source": [
    "X_resampled"
   ],
   "metadata": {
    "trusted": true
   },
   "execution_count": 55,
   "outputs": [
    {
     "data": {
      "text/plain": "       budget  popularity  vote_average  vote_count    return  \\\n0   -0.613646    0.051830     -0.921799    0.487759  1.355984   \n1   -0.927175   -0.374972      0.239947   -0.147085 -0.868666   \n2   -0.299654    0.017333      0.216275    1.500457 -0.616624   \n3   -2.475712   -1.330734      0.049623    2.689905 -0.199823   \n4    0.400974    0.554282      0.339762   -0.396286 -0.605073   \n..        ...         ...           ...         ...       ...   \n307  1.880336    1.159296      1.008045   -1.005029 -1.178666   \n308  2.674684    0.899450      0.858897    0.552777  1.760201   \n309  1.104582    1.670398     -0.142746    1.948601 -1.072585   \n310  1.296999    0.186538      0.056103    1.657828  1.723546   \n311  0.326463    0.992378     -0.836102    2.131748 -0.342342   \n\n     genre_ed_Action  genre_ed_Adventure  genre_ed_Animation  genre_ed_Comedy  \\\n0          -0.550066            1.634755           -0.442464         1.079011   \n1           0.427868           -0.079209            0.640139         0.337486   \n2          -0.317598            0.383148            0.318080        -0.693635   \n3          -0.942619           -1.036342            1.235515         1.272080   \n4           1.925044           -2.572336            0.078663         0.107509   \n..               ...                 ...                 ...              ...   \n307        -0.824126           -0.904039           -0.100205         0.350052   \n308        -0.904145           -0.179523           -0.603412        -0.542409   \n309         0.436789            0.355289           -0.647916         0.779782   \n310         0.506392           -0.419671           -0.581468         0.269887   \n311        -0.381425           -0.239484           -0.827838        -0.179415   \n\n     genre_ed_Crime  genre_ed_Drama  genre_ed_Fantasy  genre_ed_Horror  \\\n0         -0.491755        0.091546         -1.583701         0.031536   \n1         -0.596705        1.215293          0.729914         1.734913   \n2          0.945912        0.829102          1.643180         1.253300   \n3          0.249483       -0.119403         -0.929195         0.812358   \n4         -1.802146       -1.162280         -1.676553        -0.194607   \n..              ...             ...               ...              ...   \n307        0.425119        0.465800          0.401434         0.244502   \n308       -0.737129       -1.434399          0.178834        -0.737879   \n309        0.308243        0.102716         -0.811063        -0.284254   \n310       -0.558065        1.025938         -0.215108         0.105475   \n311       -0.041787       -1.768601         -0.428678         0.471932   \n\n     genre_ed_Romance  genre_ed_Science Fiction  genre_ed_Thriller  \n0            1.740316                  0.173850          -2.280449  \n1           -0.988549                 -1.334599           0.985347  \n2            1.034042                  1.516108           0.694936  \n3           -0.580773                 -0.589772           1.026956  \n4            0.153694                 -1.347402           0.777543  \n..                ...                       ...                ...  \n307          1.947990                  1.012680           2.057969  \n308         -1.234637                 -0.627419           1.366910  \n309          0.382131                  1.432485          -0.785501  \n310         -0.532954                 -0.482132          -0.315205  \n311          0.119156                  1.205560          -2.386712  \n\n[312 rows x 16 columns]",
      "text/html": "<div>\n<style scoped>\n    .dataframe tbody tr th:only-of-type {\n        vertical-align: middle;\n    }\n\n    .dataframe tbody tr th {\n        vertical-align: top;\n    }\n\n    .dataframe thead th {\n        text-align: right;\n    }\n</style>\n<table border=\"1\" class=\"dataframe\">\n  <thead>\n    <tr style=\"text-align: right;\">\n      <th></th>\n      <th>budget</th>\n      <th>popularity</th>\n      <th>vote_average</th>\n      <th>vote_count</th>\n      <th>return</th>\n      <th>genre_ed_Action</th>\n      <th>genre_ed_Adventure</th>\n      <th>genre_ed_Animation</th>\n      <th>genre_ed_Comedy</th>\n      <th>genre_ed_Crime</th>\n      <th>genre_ed_Drama</th>\n      <th>genre_ed_Fantasy</th>\n      <th>genre_ed_Horror</th>\n      <th>genre_ed_Romance</th>\n      <th>genre_ed_Science Fiction</th>\n      <th>genre_ed_Thriller</th>\n    </tr>\n  </thead>\n  <tbody>\n    <tr>\n      <th>0</th>\n      <td>-0.613646</td>\n      <td>0.051830</td>\n      <td>-0.921799</td>\n      <td>0.487759</td>\n      <td>1.355984</td>\n      <td>-0.550066</td>\n      <td>1.634755</td>\n      <td>-0.442464</td>\n      <td>1.079011</td>\n      <td>-0.491755</td>\n      <td>0.091546</td>\n      <td>-1.583701</td>\n      <td>0.031536</td>\n      <td>1.740316</td>\n      <td>0.173850</td>\n      <td>-2.280449</td>\n    </tr>\n    <tr>\n      <th>1</th>\n      <td>-0.927175</td>\n      <td>-0.374972</td>\n      <td>0.239947</td>\n      <td>-0.147085</td>\n      <td>-0.868666</td>\n      <td>0.427868</td>\n      <td>-0.079209</td>\n      <td>0.640139</td>\n      <td>0.337486</td>\n      <td>-0.596705</td>\n      <td>1.215293</td>\n      <td>0.729914</td>\n      <td>1.734913</td>\n      <td>-0.988549</td>\n      <td>-1.334599</td>\n      <td>0.985347</td>\n    </tr>\n    <tr>\n      <th>2</th>\n      <td>-0.299654</td>\n      <td>0.017333</td>\n      <td>0.216275</td>\n      <td>1.500457</td>\n      <td>-0.616624</td>\n      <td>-0.317598</td>\n      <td>0.383148</td>\n      <td>0.318080</td>\n      <td>-0.693635</td>\n      <td>0.945912</td>\n      <td>0.829102</td>\n      <td>1.643180</td>\n      <td>1.253300</td>\n      <td>1.034042</td>\n      <td>1.516108</td>\n      <td>0.694936</td>\n    </tr>\n    <tr>\n      <th>3</th>\n      <td>-2.475712</td>\n      <td>-1.330734</td>\n      <td>0.049623</td>\n      <td>2.689905</td>\n      <td>-0.199823</td>\n      <td>-0.942619</td>\n      <td>-1.036342</td>\n      <td>1.235515</td>\n      <td>1.272080</td>\n      <td>0.249483</td>\n      <td>-0.119403</td>\n      <td>-0.929195</td>\n      <td>0.812358</td>\n      <td>-0.580773</td>\n      <td>-0.589772</td>\n      <td>1.026956</td>\n    </tr>\n    <tr>\n      <th>4</th>\n      <td>0.400974</td>\n      <td>0.554282</td>\n      <td>0.339762</td>\n      <td>-0.396286</td>\n      <td>-0.605073</td>\n      <td>1.925044</td>\n      <td>-2.572336</td>\n      <td>0.078663</td>\n      <td>0.107509</td>\n      <td>-1.802146</td>\n      <td>-1.162280</td>\n      <td>-1.676553</td>\n      <td>-0.194607</td>\n      <td>0.153694</td>\n      <td>-1.347402</td>\n      <td>0.777543</td>\n    </tr>\n    <tr>\n      <th>...</th>\n      <td>...</td>\n      <td>...</td>\n      <td>...</td>\n      <td>...</td>\n      <td>...</td>\n      <td>...</td>\n      <td>...</td>\n      <td>...</td>\n      <td>...</td>\n      <td>...</td>\n      <td>...</td>\n      <td>...</td>\n      <td>...</td>\n      <td>...</td>\n      <td>...</td>\n      <td>...</td>\n    </tr>\n    <tr>\n      <th>307</th>\n      <td>1.880336</td>\n      <td>1.159296</td>\n      <td>1.008045</td>\n      <td>-1.005029</td>\n      <td>-1.178666</td>\n      <td>-0.824126</td>\n      <td>-0.904039</td>\n      <td>-0.100205</td>\n      <td>0.350052</td>\n      <td>0.425119</td>\n      <td>0.465800</td>\n      <td>0.401434</td>\n      <td>0.244502</td>\n      <td>1.947990</td>\n      <td>1.012680</td>\n      <td>2.057969</td>\n    </tr>\n    <tr>\n      <th>308</th>\n      <td>2.674684</td>\n      <td>0.899450</td>\n      <td>0.858897</td>\n      <td>0.552777</td>\n      <td>1.760201</td>\n      <td>-0.904145</td>\n      <td>-0.179523</td>\n      <td>-0.603412</td>\n      <td>-0.542409</td>\n      <td>-0.737129</td>\n      <td>-1.434399</td>\n      <td>0.178834</td>\n      <td>-0.737879</td>\n      <td>-1.234637</td>\n      <td>-0.627419</td>\n      <td>1.366910</td>\n    </tr>\n    <tr>\n      <th>309</th>\n      <td>1.104582</td>\n      <td>1.670398</td>\n      <td>-0.142746</td>\n      <td>1.948601</td>\n      <td>-1.072585</td>\n      <td>0.436789</td>\n      <td>0.355289</td>\n      <td>-0.647916</td>\n      <td>0.779782</td>\n      <td>0.308243</td>\n      <td>0.102716</td>\n      <td>-0.811063</td>\n      <td>-0.284254</td>\n      <td>0.382131</td>\n      <td>1.432485</td>\n      <td>-0.785501</td>\n    </tr>\n    <tr>\n      <th>310</th>\n      <td>1.296999</td>\n      <td>0.186538</td>\n      <td>0.056103</td>\n      <td>1.657828</td>\n      <td>1.723546</td>\n      <td>0.506392</td>\n      <td>-0.419671</td>\n      <td>-0.581468</td>\n      <td>0.269887</td>\n      <td>-0.558065</td>\n      <td>1.025938</td>\n      <td>-0.215108</td>\n      <td>0.105475</td>\n      <td>-0.532954</td>\n      <td>-0.482132</td>\n      <td>-0.315205</td>\n    </tr>\n    <tr>\n      <th>311</th>\n      <td>0.326463</td>\n      <td>0.992378</td>\n      <td>-0.836102</td>\n      <td>2.131748</td>\n      <td>-0.342342</td>\n      <td>-0.381425</td>\n      <td>-0.239484</td>\n      <td>-0.827838</td>\n      <td>-0.179415</td>\n      <td>-0.041787</td>\n      <td>-1.768601</td>\n      <td>-0.428678</td>\n      <td>0.471932</td>\n      <td>0.119156</td>\n      <td>1.205560</td>\n      <td>-2.386712</td>\n    </tr>\n  </tbody>\n</table>\n<p>312 rows × 16 columns</p>\n</div>"
     },
     "execution_count": 55,
     "metadata": {},
     "output_type": "execute_result"
    }
   ]
  },
  {
   "cell_type": "code",
   "source": [
    "# I will be performing 80/20 split\n",
    "X_train, X_test, y_train, y_test = train_test_split(X_resampled, Y_resampled,\n",
    "                                                    test_size = 0.20,\n",
    "                                                    shuffle = True,\n",
    "                                                    random_state = 42)"
   ],
   "metadata": {
    "trusted": true
   },
   "execution_count": 56,
   "outputs": []
  },
  {
   "cell_type": "code",
   "source": [
    "X_train"
   ],
   "metadata": {
    "trusted": true
   },
   "execution_count": 57,
   "outputs": [
    {
     "data": {
      "text/plain": "       budget  popularity  vote_average  vote_count    return  \\\n111  0.129741    0.189957     -0.579540   -1.780822 -0.247606   \n208  2.129011   -1.023594      0.919400   -0.181585 -1.240843   \n145 -2.275710    0.059930      0.108589    0.513176  0.006135   \n203  1.988279    0.731009      0.308971    0.685902 -0.555399   \n78  -1.214517    0.988947     -0.425462    0.086951  0.757271   \n..        ...         ...           ...         ...       ...   \n188  1.121845   -0.222323      0.251078    1.374211 -0.285772   \n71   0.635880    0.778340      0.652271    1.817743  1.616202   \n106 -0.916317    0.103222     -0.260818   -0.454751 -1.101601   \n270  1.220370   -0.896663      0.251810   -0.319657 -0.129005   \n102 -0.207223    0.479861     -0.887284   -0.457534 -0.339347   \n\n     genre_ed_Action  genre_ed_Adventure  genre_ed_Animation  genre_ed_Comedy  \\\n111        -0.058995           -1.401780           -0.527182         0.952535   \n208         0.761574           -0.223249           -0.291363        -1.651755   \n145        -0.585076           -0.096795            1.186180         1.081887   \n203        -0.384346           -1.746764           -0.712668         0.620363   \n78         -1.165715            0.812754            0.245578         0.554427   \n..               ...                 ...                 ...              ...   \n188         0.427927            0.787841           -0.340592         0.541202   \n71         -0.269496            1.104138            0.215691        -0.066598   \n106        -0.070504            0.668687            0.233518         0.676707   \n270         1.235338           -0.395030           -0.387592        -1.073051   \n102         0.509721            2.908474           -0.611097        -2.095080   \n\n     genre_ed_Crime  genre_ed_Drama  genre_ed_Fantasy  genre_ed_Horror  \\\n111       -0.139474       -0.727190         -1.149606        -0.400388   \n208       -0.072967       -0.198659         -0.760931         0.349510   \n145        0.745949        2.891952          1.520940        -0.798597   \n203        0.922513        1.740549         -0.132357        -1.091880   \n78         0.409002        1.385857          0.678215        -0.712006   \n..              ...             ...               ...              ...   \n188        0.374753        0.042754         -0.118324         0.002923   \n71        -0.440770       -0.636451         -0.924354         1.318107   \n106       -0.257195       -0.586189          1.431320         0.448174   \n270       -0.557430       -0.646015         -0.915989         0.030030   \n102        0.110719       -0.048245          0.662064         0.673031   \n\n     genre_ed_Romance  genre_ed_Science Fiction  genre_ed_Thriller  \n111          1.453265                  0.307689          -1.619542  \n208         -0.293169                  0.561019           1.727774  \n145          0.717922                 -0.542347           1.114898  \n203          0.195841                  0.143508           0.121888  \n78           0.354650                 -1.237586          -0.716904  \n..                ...                       ...                ...  \n188          0.537697                 -0.388595           0.277054  \n71           1.011627                  1.282663           1.540978  \n106         -0.418960                 -0.704409          -0.377563  \n270          0.081600                  0.586136           0.243530  \n102          1.322503                  1.794467          -2.333260  \n\n[249 rows x 16 columns]",
      "text/html": "<div>\n<style scoped>\n    .dataframe tbody tr th:only-of-type {\n        vertical-align: middle;\n    }\n\n    .dataframe tbody tr th {\n        vertical-align: top;\n    }\n\n    .dataframe thead th {\n        text-align: right;\n    }\n</style>\n<table border=\"1\" class=\"dataframe\">\n  <thead>\n    <tr style=\"text-align: right;\">\n      <th></th>\n      <th>budget</th>\n      <th>popularity</th>\n      <th>vote_average</th>\n      <th>vote_count</th>\n      <th>return</th>\n      <th>genre_ed_Action</th>\n      <th>genre_ed_Adventure</th>\n      <th>genre_ed_Animation</th>\n      <th>genre_ed_Comedy</th>\n      <th>genre_ed_Crime</th>\n      <th>genre_ed_Drama</th>\n      <th>genre_ed_Fantasy</th>\n      <th>genre_ed_Horror</th>\n      <th>genre_ed_Romance</th>\n      <th>genre_ed_Science Fiction</th>\n      <th>genre_ed_Thriller</th>\n    </tr>\n  </thead>\n  <tbody>\n    <tr>\n      <th>111</th>\n      <td>0.129741</td>\n      <td>0.189957</td>\n      <td>-0.579540</td>\n      <td>-1.780822</td>\n      <td>-0.247606</td>\n      <td>-0.058995</td>\n      <td>-1.401780</td>\n      <td>-0.527182</td>\n      <td>0.952535</td>\n      <td>-0.139474</td>\n      <td>-0.727190</td>\n      <td>-1.149606</td>\n      <td>-0.400388</td>\n      <td>1.453265</td>\n      <td>0.307689</td>\n      <td>-1.619542</td>\n    </tr>\n    <tr>\n      <th>208</th>\n      <td>2.129011</td>\n      <td>-1.023594</td>\n      <td>0.919400</td>\n      <td>-0.181585</td>\n      <td>-1.240843</td>\n      <td>0.761574</td>\n      <td>-0.223249</td>\n      <td>-0.291363</td>\n      <td>-1.651755</td>\n      <td>-0.072967</td>\n      <td>-0.198659</td>\n      <td>-0.760931</td>\n      <td>0.349510</td>\n      <td>-0.293169</td>\n      <td>0.561019</td>\n      <td>1.727774</td>\n    </tr>\n    <tr>\n      <th>145</th>\n      <td>-2.275710</td>\n      <td>0.059930</td>\n      <td>0.108589</td>\n      <td>0.513176</td>\n      <td>0.006135</td>\n      <td>-0.585076</td>\n      <td>-0.096795</td>\n      <td>1.186180</td>\n      <td>1.081887</td>\n      <td>0.745949</td>\n      <td>2.891952</td>\n      <td>1.520940</td>\n      <td>-0.798597</td>\n      <td>0.717922</td>\n      <td>-0.542347</td>\n      <td>1.114898</td>\n    </tr>\n    <tr>\n      <th>203</th>\n      <td>1.988279</td>\n      <td>0.731009</td>\n      <td>0.308971</td>\n      <td>0.685902</td>\n      <td>-0.555399</td>\n      <td>-0.384346</td>\n      <td>-1.746764</td>\n      <td>-0.712668</td>\n      <td>0.620363</td>\n      <td>0.922513</td>\n      <td>1.740549</td>\n      <td>-0.132357</td>\n      <td>-1.091880</td>\n      <td>0.195841</td>\n      <td>0.143508</td>\n      <td>0.121888</td>\n    </tr>\n    <tr>\n      <th>78</th>\n      <td>-1.214517</td>\n      <td>0.988947</td>\n      <td>-0.425462</td>\n      <td>0.086951</td>\n      <td>0.757271</td>\n      <td>-1.165715</td>\n      <td>0.812754</td>\n      <td>0.245578</td>\n      <td>0.554427</td>\n      <td>0.409002</td>\n      <td>1.385857</td>\n      <td>0.678215</td>\n      <td>-0.712006</td>\n      <td>0.354650</td>\n      <td>-1.237586</td>\n      <td>-0.716904</td>\n    </tr>\n    <tr>\n      <th>...</th>\n      <td>...</td>\n      <td>...</td>\n      <td>...</td>\n      <td>...</td>\n      <td>...</td>\n      <td>...</td>\n      <td>...</td>\n      <td>...</td>\n      <td>...</td>\n      <td>...</td>\n      <td>...</td>\n      <td>...</td>\n      <td>...</td>\n      <td>...</td>\n      <td>...</td>\n      <td>...</td>\n    </tr>\n    <tr>\n      <th>188</th>\n      <td>1.121845</td>\n      <td>-0.222323</td>\n      <td>0.251078</td>\n      <td>1.374211</td>\n      <td>-0.285772</td>\n      <td>0.427927</td>\n      <td>0.787841</td>\n      <td>-0.340592</td>\n      <td>0.541202</td>\n      <td>0.374753</td>\n      <td>0.042754</td>\n      <td>-0.118324</td>\n      <td>0.002923</td>\n      <td>0.537697</td>\n      <td>-0.388595</td>\n      <td>0.277054</td>\n    </tr>\n    <tr>\n      <th>71</th>\n      <td>0.635880</td>\n      <td>0.778340</td>\n      <td>0.652271</td>\n      <td>1.817743</td>\n      <td>1.616202</td>\n      <td>-0.269496</td>\n      <td>1.104138</td>\n      <td>0.215691</td>\n      <td>-0.066598</td>\n      <td>-0.440770</td>\n      <td>-0.636451</td>\n      <td>-0.924354</td>\n      <td>1.318107</td>\n      <td>1.011627</td>\n      <td>1.282663</td>\n      <td>1.540978</td>\n    </tr>\n    <tr>\n      <th>106</th>\n      <td>-0.916317</td>\n      <td>0.103222</td>\n      <td>-0.260818</td>\n      <td>-0.454751</td>\n      <td>-1.101601</td>\n      <td>-0.070504</td>\n      <td>0.668687</td>\n      <td>0.233518</td>\n      <td>0.676707</td>\n      <td>-0.257195</td>\n      <td>-0.586189</td>\n      <td>1.431320</td>\n      <td>0.448174</td>\n      <td>-0.418960</td>\n      <td>-0.704409</td>\n      <td>-0.377563</td>\n    </tr>\n    <tr>\n      <th>270</th>\n      <td>1.220370</td>\n      <td>-0.896663</td>\n      <td>0.251810</td>\n      <td>-0.319657</td>\n      <td>-0.129005</td>\n      <td>1.235338</td>\n      <td>-0.395030</td>\n      <td>-0.387592</td>\n      <td>-1.073051</td>\n      <td>-0.557430</td>\n      <td>-0.646015</td>\n      <td>-0.915989</td>\n      <td>0.030030</td>\n      <td>0.081600</td>\n      <td>0.586136</td>\n      <td>0.243530</td>\n    </tr>\n    <tr>\n      <th>102</th>\n      <td>-0.207223</td>\n      <td>0.479861</td>\n      <td>-0.887284</td>\n      <td>-0.457534</td>\n      <td>-0.339347</td>\n      <td>0.509721</td>\n      <td>2.908474</td>\n      <td>-0.611097</td>\n      <td>-2.095080</td>\n      <td>0.110719</td>\n      <td>-0.048245</td>\n      <td>0.662064</td>\n      <td>0.673031</td>\n      <td>1.322503</td>\n      <td>1.794467</td>\n      <td>-2.333260</td>\n    </tr>\n  </tbody>\n</table>\n<p>249 rows × 16 columns</p>\n</div>"
     },
     "execution_count": 57,
     "metadata": {},
     "output_type": "execute_result"
    }
   ]
  },
  {
   "cell_type": "code",
   "source": [
    "# check your work - does the shape match what you think it should be?\n",
    "print(X_train.shape, X_test.shape, y_train.shape, y_test.shape)"
   ],
   "metadata": {
    "trusted": true
   },
   "execution_count": 58,
   "outputs": [
    {
     "name": "stdout",
     "output_type": "stream",
     "text": [
      "(249, 16) (63, 16) (249, 1) (63, 1)\n"
     ]
    }
   ]
  },
  {
   "cell_type": "markdown",
   "source": [
    "# 4) Modeling"
   ],
   "metadata": {}
  },
  {
   "cell_type": "markdown",
   "source": [
    "# 4-4) Deep Learning Model #3: Dense Neural Network"
   ],
   "metadata": {}
  },
  {
   "cell_type": "code",
   "source": [
    "# Setting up the model\n",
    "model3 = Sequential()\n",
    "# this is hidden layer 1\n",
    "model3.add(Dense(20,activation='relu', input_shape=(X.shape[1],))) # input shape is = (features,)\n",
    "# this is hidden layer 2\n",
    "model3.add(Dense(50, activation='relu'))\n",
    "# this is hidden layer 3\n",
    "model3.add(Dense(50, activation='relu'))\n",
    "# this is hidden layer 4\n",
    "model3.add(Dense(20, activation='relu'))\n",
    "# this is the output node\n",
    "model3.add(Dense(1, activation='sigmoid')) # the activation function here is 'linear' by default\n",
    "model3.summary()"
   ],
   "metadata": {
    "trusted": true
   },
   "execution_count": 59,
   "outputs": [
    {
     "name": "stdout",
     "output_type": "stream",
     "text": [
      "Model: \"sequential\"\n",
      "_________________________________________________________________\n",
      " Layer (type)                Output Shape              Param #   \n",
      "=================================================================\n",
      " dense (Dense)               (None, 20)                340       \n",
      "                                                                 \n",
      " dense_1 (Dense)             (None, 50)                1050      \n",
      "                                                                 \n",
      " dense_2 (Dense)             (None, 50)                2550      \n",
      "                                                                 \n",
      " dense_3 (Dense)             (None, 20)                1020      \n",
      "                                                                 \n",
      " dense_4 (Dense)             (None, 1)                 21        \n",
      "                                                                 \n",
      "=================================================================\n",
      "Total params: 4,981\n",
      "Trainable params: 4,981\n",
      "Non-trainable params: 0\n",
      "_________________________________________________________________\n"
     ]
    }
   ]
  },
  {
   "cell_type": "code",
   "source": [
    "#  this compiles the model, specifies model evaluation metrics\n",
    "model3.compile(optimizer='Adam', loss='binary_crossentropy',\n",
    "              metrics=['accuracy'])"
   ],
   "metadata": {
    "trusted": true
   },
   "execution_count": 60,
   "outputs": []
  },
  {
   "cell_type": "code",
   "source": [
    "from keras.callbacks import EarlyStopping\n",
    "es3 = EarlyStopping(monitor='val_loss', mode='min', \n",
    "                   patience=10, \n",
    "                   verbose=1,\n",
    "                   restore_best_weights=True)\n",
    "# fit model\n",
    "history3 = model3.fit(X_train, y_train, \n",
    "                    validation_data=(X_test, y_test),\n",
    "                    epochs=4000, \n",
    "                    batch_size = 44,\n",
    "                    verbose=1, \n",
    "                    callbacks=[es3]) #notice we won't have to manually watch it\n",
    "model3.save('models/trained_model')"
   ],
   "metadata": {
    "trusted": true
   },
   "execution_count": 61,
   "outputs": [
    {
     "name": "stdout",
     "output_type": "stream",
     "text": [
      "Epoch 1/4000\n",
      "6/6 [==============================] - 1s 33ms/step - loss: 0.6962 - accuracy: 0.5060 - val_loss: 0.6591 - val_accuracy: 0.6667\n",
      "Epoch 2/4000\n",
      "6/6 [==============================] - 0s 6ms/step - loss: 0.6300 - accuracy: 0.7309 - val_loss: 0.6083 - val_accuracy: 0.7937\n",
      "Epoch 3/4000\n",
      "6/6 [==============================] - 0s 8ms/step - loss: 0.5777 - accuracy: 0.7831 - val_loss: 0.5555 - val_accuracy: 0.7937\n",
      "Epoch 4/4000\n",
      "6/6 [==============================] - 0s 6ms/step - loss: 0.5229 - accuracy: 0.8072 - val_loss: 0.5038 - val_accuracy: 0.8095\n",
      "Epoch 5/4000\n",
      "6/6 [==============================] - 0s 6ms/step - loss: 0.4699 - accuracy: 0.8233 - val_loss: 0.4601 - val_accuracy: 0.8254\n",
      "Epoch 6/4000\n",
      "6/6 [==============================] - 0s 6ms/step - loss: 0.4259 - accuracy: 0.8434 - val_loss: 0.4240 - val_accuracy: 0.8413\n",
      "Epoch 7/4000\n",
      "6/6 [==============================] - 0s 6ms/step - loss: 0.3866 - accuracy: 0.8554 - val_loss: 0.3978 - val_accuracy: 0.8413\n",
      "Epoch 8/4000\n",
      "6/6 [==============================] - 0s 6ms/step - loss: 0.3548 - accuracy: 0.8675 - val_loss: 0.3779 - val_accuracy: 0.8571\n",
      "Epoch 9/4000\n",
      "6/6 [==============================] - 0s 7ms/step - loss: 0.3311 - accuracy: 0.8755 - val_loss: 0.3616 - val_accuracy: 0.8571\n",
      "Epoch 10/4000\n",
      "6/6 [==============================] - 0s 5ms/step - loss: 0.3094 - accuracy: 0.8795 - val_loss: 0.3523 - val_accuracy: 0.8730\n",
      "Epoch 11/4000\n",
      "6/6 [==============================] - 0s 6ms/step - loss: 0.2948 - accuracy: 0.8835 - val_loss: 0.3453 - val_accuracy: 0.8730\n",
      "Epoch 12/4000\n",
      "6/6 [==============================] - 0s 8ms/step - loss: 0.2817 - accuracy: 0.8916 - val_loss: 0.3351 - val_accuracy: 0.8730\n",
      "Epoch 13/4000\n",
      "6/6 [==============================] - 0s 6ms/step - loss: 0.2664 - accuracy: 0.8956 - val_loss: 0.3329 - val_accuracy: 0.8730\n",
      "Epoch 14/4000\n",
      "6/6 [==============================] - 0s 6ms/step - loss: 0.2570 - accuracy: 0.8956 - val_loss: 0.3364 - val_accuracy: 0.8889\n",
      "Epoch 15/4000\n",
      "6/6 [==============================] - 0s 6ms/step - loss: 0.2470 - accuracy: 0.8996 - val_loss: 0.3207 - val_accuracy: 0.8889\n",
      "Epoch 16/4000\n",
      "6/6 [==============================] - 0s 6ms/step - loss: 0.2345 - accuracy: 0.9116 - val_loss: 0.3202 - val_accuracy: 0.8889\n",
      "Epoch 17/4000\n",
      "6/6 [==============================] - 0s 6ms/step - loss: 0.2249 - accuracy: 0.9157 - val_loss: 0.3259 - val_accuracy: 0.8889\n",
      "Epoch 18/4000\n",
      "6/6 [==============================] - 0s 8ms/step - loss: 0.2149 - accuracy: 0.9157 - val_loss: 0.3229 - val_accuracy: 0.8889\n",
      "Epoch 19/4000\n",
      "6/6 [==============================] - 0s 5ms/step - loss: 0.2064 - accuracy: 0.9197 - val_loss: 0.3264 - val_accuracy: 0.8889\n",
      "Epoch 20/4000\n",
      "6/6 [==============================] - 0s 3ms/step - loss: 0.1984 - accuracy: 0.9237 - val_loss: 0.3389 - val_accuracy: 0.8889\n",
      "Epoch 21/4000\n",
      "6/6 [==============================] - 0s 6ms/step - loss: 0.1908 - accuracy: 0.9317 - val_loss: 0.3385 - val_accuracy: 0.8889\n",
      "Epoch 22/4000\n",
      "6/6 [==============================] - 0s 6ms/step - loss: 0.1854 - accuracy: 0.9277 - val_loss: 0.3248 - val_accuracy: 0.8889\n",
      "Epoch 23/4000\n",
      "6/6 [==============================] - 0s 6ms/step - loss: 0.1750 - accuracy: 0.9357 - val_loss: 0.3476 - val_accuracy: 0.8889\n",
      "Epoch 24/4000\n",
      "6/6 [==============================] - 0s 7ms/step - loss: 0.1696 - accuracy: 0.9357 - val_loss: 0.3578 - val_accuracy: 0.8889\n",
      "Epoch 25/4000\n",
      "6/6 [==============================] - 0s 6ms/step - loss: 0.1601 - accuracy: 0.9398 - val_loss: 0.3469 - val_accuracy: 0.8889\n",
      "Epoch 26/4000\n",
      "1/6 [====>.........................] - ETA: 0s - loss: 0.1369 - accuracy: 0.9318Restoring model weights from the end of the best epoch: 16.\n",
      "6/6 [==============================] - 0s 6ms/step - loss: 0.1541 - accuracy: 0.9398 - val_loss: 0.3437 - val_accuracy: 0.8889\n",
      "Epoch 26: early stopping\n"
     ]
    },
    {
     "name": "stderr",
     "output_type": "stream",
     "text": [
      "WARNING:absl:Found untraced functions such as _update_step_xla while saving (showing 1 of 1). These functions will not be directly callable after loading.\n"
     ]
    },
    {
     "name": "stdout",
     "output_type": "stream",
     "text": [
      "INFO:tensorflow:Assets written to: models/trained_model\\assets\n"
     ]
    },
    {
     "name": "stderr",
     "output_type": "stream",
     "text": [
      "INFO:tensorflow:Assets written to: models/trained_model\\assets\n"
     ]
    }
   ]
  },
  {
   "cell_type": "code",
   "source": [
    "history_dict3 = history3.history\n",
    "history_dict3.keys() \n",
    "\n",
    "# out of all of these, let's plot the val_mean_absolute_error"
   ],
   "metadata": {
    "trusted": true
   },
   "execution_count": 62,
   "outputs": [
    {
     "data": {
      "text/plain": "dict_keys(['loss', 'accuracy', 'val_loss', 'val_accuracy'])"
     },
     "execution_count": 62,
     "metadata": {},
     "output_type": "execute_result"
    }
   ]
  },
  {
   "cell_type": "code",
   "source": [
    "acc3 = history3.history['accuracy']\n",
    "val_acc3 = history3.history['val_accuracy']\n",
    "loss3 = history3.history['loss']\n",
    "val_loss3 = history3.history['val_loss']\n",
    "\n",
    "epochs3 = range(1, len(acc3) + 1)\n",
    "\n",
    "# \"bo\" is for \"blue dot\"\n",
    "plt.plot(epochs3, loss3, 'bo', label='Training loss')\n",
    "# b is for \"solid blue line\"\n",
    "plt.plot(epochs3, val_loss3, 'b', label='Validation loss')\n",
    "plt.title('Training and validation loss')\n",
    "plt.xlabel('Epochs')\n",
    "plt.ylabel('Loss')\n",
    "plt.legend()\n",
    "\n",
    "# plt.savefig(\"trial2_train_valid__loss.png\")\n",
    "# images_dir = '/content/drive/Shared drives/Deep Learning Group Projects/Project #1 /Work'\n",
    "# plt.savefig(f\"{images_dir}/trial2_train_valid__loss.png\")\n"
   ],
   "metadata": {
    "trusted": true
   },
   "execution_count": 63,
   "outputs": [
    {
     "data": {
      "text/plain": "<matplotlib.legend.Legend at 0x290d5d28550>"
     },
     "execution_count": 63,
     "metadata": {},
     "output_type": "execute_result"
    },
    {
     "data": {
      "text/plain": "<Figure size 640x480 with 1 Axes>",
      "image/png": "[encoded data removed]"
     },
     "metadata": {},
     "output_type": "display_data"
    }
   ]
  },
  {
   "cell_type": "code",
   "source": [
    "plt.clf()   # clear figure\n",
    "acc_values3 = history_dict3['accuracy']\n",
    "val_acc_values3 = history_dict3['val_accuracy']\n",
    "\n",
    "plt.plot(epochs3, acc3, 'bo', label='Training acc')\n",
    "plt.plot(epochs3, val_acc3, 'b', label='Validation acc')\n",
    "plt.title('Training and validation accuracy')\n",
    "plt.xlabel('Epochs')\n",
    "plt.ylabel('Loss')\n",
    "plt.legend()\n",
    "\n",
    "# plt.savefig(\"trial2_accuracy.png\")\n",
    "# images_dir = '/content/drive/Shared drives/Deep Learning Group Projects/Project #1 /Work'\n",
    "# plt.savefig(f\"{images_dir}/trial2_accuracy.png\")"
   ],
   "metadata": {
    "trusted": true
   },
   "execution_count": 64,
   "outputs": [
    {
     "data": {
      "text/plain": "<matplotlib.legend.Legend at 0x290d8105790>"
     },
     "execution_count": 64,
     "metadata": {},
     "output_type": "execute_result"
    },
    {
     "data": {
      "text/plain": "<Figure size 640x480 with 1 Axes>",
      "image/png": "[encoded data removed]"
     },
     "metadata": {},
     "output_type": "display_data"
    }
   ]
  },
  {
   "cell_type": "code",
   "source": [
    "# see how the model did!\n",
    "# if you don't round to a whole number (0 or 1), the confusion matrix won't work!\n",
    "preds3 = np.round(model3.predict(X_test),0)\n",
    "\n",
    "# confusion matrix\n",
    "confusion_matrix(y_test, preds3) # order matters! (actual, predicted)\n",
    "\n",
    "# TP is bottom right\n",
    "# TN is top left\n",
    "# FP is top right\n",
    "# FN is bottom left\n",
    "\n",
    "# look at documentation for conf matrix on sklearn if you have questions!"
   ],
   "metadata": {
    "trusted": true
   },
   "execution_count": 65,
   "outputs": [
    {
     "name": "stdout",
     "output_type": "stream",
     "text": [
      "2/2 [==============================] - 0s 16ms/step\n"
     ]
    },
    {
     "data": {
      "text/plain": "array([[26,  5],\n       [ 2, 30]], dtype=int64)"
     },
     "execution_count": 65,
     "metadata": {},
     "output_type": "execute_result"
    }
   ]
  },
  {
   "cell_type": "code",
   "source": [
    "print(classification_report(y_test, preds3))"
   ],
   "metadata": {
    "trusted": true
   },
   "execution_count": 66,
   "outputs": [
    {
     "name": "stdout",
     "output_type": "stream",
     "text": [
      "              precision    recall  f1-score   support\n",
      "\n",
      "           0       0.93      0.84      0.88        31\n",
      "           1       0.86      0.94      0.90        32\n",
      "\n",
      "    accuracy                           0.89        63\n",
      "   macro avg       0.89      0.89      0.89        63\n",
      "weighted avg       0.89      0.89      0.89        63\n",
      "\n"
     ]
    }
   ]
  },
  {
   "cell_type": "code",
   "source": [
    "cm = confusion_matrix(y_test, preds3)\n",
    "plt.clf()\n",
    "plt.imshow(cm, interpolation='nearest', cmap=plt.cm.Blues)\n",
    "classNames = ['False','True']\n",
    "plt.title('DNN without callback')\n",
    "plt.ylabel('True label')\n",
    "plt.xlabel('Predicted label')\n",
    "tick_marks = np.arange(len(classNames))\n",
    "plt.xticks(tick_marks, classNames)\n",
    "plt.yticks(tick_marks, classNames)\n",
    "s = [['TN','FP'], ['FN', 'TP']]\n",
    "for i in range(2):\n",
    "    for j in range(2):\n",
    "        plt.text(j,i, str(s[i][j])+\" = \"+str(cm[i][j]))\n",
    "\n",
    "# plt.savefig(\"Trail2_confusion_matrix.png\")\n",
    "# images_dir = '/content/drive/Shared drives/Deep Learning Group Projects/Project #1 /Work'\n",
    "# plt.savefig(f\"{images_dir}/Trail2_confusion_matrix.png\")\n",
    "plt.show()"
   ],
   "metadata": {
    "trusted": true
   },
   "execution_count": 67,
   "outputs": [
    {
     "data": {
      "text/plain": "<Figure size 640x480 with 1 Axes>",
      "image/png": "[encoded data removed]"
     },
     "metadata": {},
     "output_type": "display_data"
    }
   ]
  },
  {
   "cell_type": "code",
   "execution_count": 67,
   "outputs": [],
   "source": [],
   "metadata": {
    "collapsed": false
   }
  }
 ]
}
