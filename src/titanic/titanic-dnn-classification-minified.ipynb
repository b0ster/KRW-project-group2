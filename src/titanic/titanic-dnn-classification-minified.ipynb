{
 "metadata": {
  "kernelspec": {
   "language": "python",
   "display_name": "Python 3",
   "name": "python3"
  },
  "language_info": {
   "pygments_lexer": "ipython3",
   "nbconvert_exporter": "python",
   "version": "3.6.4",
   "file_extension": ".py",
   "codemirror_mode": {
    "name": "ipython",
    "version": 3
   },
   "name": "python",
   "mimetype": "text/x-python"
  }
 },
 "nbformat_minor": 4,
 "nbformat": 4,
 "cells": [
  {
   "cell_type": "markdown",
   "source": [
    "<img src = 'https://media.nationalgeographic.org/assets/photos/000/273/27302_c0-41-990-701_r1050x700.jpg?d4ccf3044d9da0d0118103be3a76bd1319370847' >"
   ],
   "metadata": {}
  },
  {
   "cell_type": "markdown",
   "source": [
    "## Brief Introduction about Titanic Ship\n",
    "Titanic was a British passenger liner operated by the White Star Line that sank in the North Atlantic Ocean in the early morning hours of 15 April 1912, after striking an iceberg during her maiden voyage from Southampton to New York City. Of the estimated 2,224 passengers and crew aboard, more than 1,500 died, making the sinking one of modern history's deadliest peacetime commercial marine disasters.\n",
    "Though there were about 2,224 passengers and crew members, we are given data of about 1,300 passengers. Out of these 1,300 passengers details, about 9000 data is used for training purpose and remaining 400 is used for test purpose. In this competition we are given about 400 test data with missing survived column and we have to use different machine learning algorithms to predict whether the passengers in the test data survived or not.\n",
    "Both training and test data arenot clean(contains lots of missing values), so main goal of this competition is to clean the data and build the model with best accuracy."
   ],
   "metadata": {
    "papermill": {
     "duration": 0.053444,
     "end_time": "2020-12-21T07:56:52.959762",
     "exception": false,
     "start_time": "2020-12-21T07:56:52.906318",
     "status": "completed"
    },
    "tags": []
   }
  },
  {
   "cell_type": "markdown",
   "source": [
    "## Understanding the data\n",
    "\n",
    "\n",
    "\n",
    "Survival : 0 = No, 1 = Yes\n",
    "\n",
    "Pclass : A proxy for socio-economic status (SES) 1st = Upper 2nd = Middle 3rd = Lower\n",
    "\n",
    "sibsp : The # of siblings / spouses aboard the Titanic Sibling = brother, sister, stepbrother, stepsister Spouse = \n",
    "\n",
    "husband, wife (mistresses and fiancés were ignored)\n",
    "\n",
    "parch : The # of parents / children aboard the Titanic Parent = mother, father Child = daughter, son, \n",
    "stepdaughter, stepson Some children travelled only with a nanny, therefore parch=0 for them.\n",
    "\n",
    "Ticket : Ticket number\n",
    "\n",
    "Fare : Passenger fare\n",
    "\n",
    "Cabin : Cabin number embarked\n",
    "\n",
    "Port of Embarkation: C = Cherbourg, Q = Queenstown, S = Southampton\n",
    "\n",
    "Name, Sex , Age are self-explanatory\n",
    "\n"
   ],
   "metadata": {
    "papermill": {
     "duration": 0.051447,
     "end_time": "2020-12-21T07:56:53.065118",
     "exception": false,
     "start_time": "2020-12-21T07:56:53.013671",
     "status": "completed"
    },
    "tags": []
   }
  },
  {
   "cell_type": "markdown",
   "source": [
    "## Importing all necessary libraries\n"
   ],
   "metadata": {
    "collapsed": false
   }
  },
  {
   "cell_type": "code",
   "execution_count": 1,
   "outputs": [
    {
     "name": "stderr",
     "output_type": "stream",
     "text": [
      "UsageError: Line magic function `%` not found.\n"
     ]
    }
   ],
   "source": [
    "import matplotlib.pyplot as plt\n",
    "import numpy as np\n",
    "import pandas as pd\n",
    "import seaborn as sns\n",
    "import enum\n",
    "% matplotlib inline"
   ],
   "metadata": {
    "collapsed": false
   }
  },
  {
   "cell_type": "code",
   "execution_count": 3,
   "outputs": [],
   "source": [
    "class Mode(enum.Enum):\n",
    "    TRAIN = \"TRAIN\"\n",
    "    TEST = \"TEST\""
   ],
   "metadata": {
    "collapsed": false
   }
  },
  {
   "cell_type": "markdown",
   "source": [
    "## Define the current run-mode"
   ],
   "metadata": {
    "collapsed": false
   }
  },
  {
   "cell_type": "code",
   "execution_count": 4,
   "outputs": [],
   "source": [
    "MODE=Mode.TEST"
   ],
   "metadata": {
    "collapsed": false
   }
  },
  {
   "cell_type": "markdown",
   "source": [
    "### Load the data"
   ],
   "metadata": {
    "collapsed": false
   }
  },
  {
   "cell_type": "code",
   "source": [
    "train_data = pd.read_csv('../../input/titanic/train.csv')\n",
    "test_data = pd.read_csv('../../input/titanic/test.csv')"
   ],
   "metadata": {
    "execution": {
     "iopub.execute_input": "2020-12-21T07:56:54.644559Z",
     "iopub.status.busy": "2020-12-21T07:56:54.643797Z",
     "iopub.status.idle": "2020-12-21T07:56:54.670022Z",
     "shell.execute_reply": "2020-12-21T07:56:54.66937Z"
    },
    "papermill": {
     "duration": 0.086845,
     "end_time": "2020-12-21T07:56:54.670163",
     "exception": false,
     "start_time": "2020-12-21T07:56:54.583318",
     "status": "completed"
    },
    "tags": [],
    "trusted": true
   },
   "execution_count": 5,
   "outputs": []
  },
  {
   "cell_type": "markdown",
   "source": [
    "# Dealing with the Missing values"
   ],
   "metadata": {
    "papermill": {
     "duration": 0.066832,
     "end_time": "2020-12-21T07:57:04.129072",
     "exception": false,
     "start_time": "2020-12-21T07:57:04.06224",
     "status": "completed"
    },
    "tags": []
   }
  },
  {
   "cell_type": "code",
   "source": [
    "# before filling the missing values, let's drop Cabin column from both data.\n",
    "train_data.drop('Cabin', axis=1, inplace=True)\n",
    "test_data.drop('Cabin', axis=1, inplace=True)"
   ],
   "metadata": {
    "execution": {
     "iopub.execute_input": "2020-12-21T07:57:04.271348Z",
     "iopub.status.busy": "2020-12-21T07:57:04.270271Z",
     "iopub.status.idle": "2020-12-21T07:57:04.273478Z",
     "shell.execute_reply": "2020-12-21T07:57:04.27284Z"
    },
    "papermill": {
     "duration": 0.078106,
     "end_time": "2020-12-21T07:57:04.27359",
     "exception": false,
     "start_time": "2020-12-21T07:57:04.195484",
     "status": "completed"
    },
    "tags": [],
    "trusted": true
   },
   "execution_count": 6,
   "outputs": []
  },
  {
   "cell_type": "code",
   "source": [
    "combined_data = [train_data, test_data]\n",
    "for data in combined_data:\n",
    "    print(data.isnull().sum())\n",
    "    print('*' * 20)"
   ],
   "metadata": {
    "execution": {
     "iopub.execute_input": "2020-12-21T07:57:04.419004Z",
     "iopub.status.busy": "2020-12-21T07:57:04.416279Z",
     "iopub.status.idle": "2020-12-21T07:57:04.423155Z",
     "shell.execute_reply": "2020-12-21T07:57:04.423645Z"
    },
    "papermill": {
     "duration": 0.083703,
     "end_time": "2020-12-21T07:57:04.423807",
     "exception": false,
     "start_time": "2020-12-21T07:57:04.340104",
     "status": "completed"
    },
    "tags": [],
    "trusted": true
   },
   "execution_count": 7,
   "outputs": [
    {
     "name": "stdout",
     "output_type": "stream",
     "text": [
      "PassengerId      0\n",
      "Survived         0\n",
      "Pclass           0\n",
      "Name             0\n",
      "Sex              0\n",
      "Age            177\n",
      "SibSp            0\n",
      "Parch            0\n",
      "Ticket           0\n",
      "Fare             0\n",
      "Embarked         2\n",
      "dtype: int64\n",
      "********************\n",
      "PassengerId     0\n",
      "Pclass          0\n",
      "Name            0\n",
      "Sex             0\n",
      "Age            86\n",
      "SibSp           0\n",
      "Parch           0\n",
      "Ticket          0\n",
      "Fare            1\n",
      "Embarked        0\n",
      "dtype: int64\n",
      "********************\n"
     ]
    }
   ]
  },
  {
   "cell_type": "code",
   "source": [
    "# filling the nan values fo Age and fare column with the mean while Embarked column with most_frequent value\n",
    "for data in combined_data:\n",
    "    data.Age.fillna(data.Age.mean(), inplace=True)\n",
    "    data.Fare.fillna(data.Fare.mean(), inplace=True)\n",
    "\n",
    "# from visualization we know that Southamptom is most frequent Embarked place so, filling the missing value \n",
    "# with 'S'\n",
    "train_data.Embarked.fillna('S', inplace=True)"
   ],
   "metadata": {
    "execution": {
     "iopub.execute_input": "2020-12-21T07:57:04.569428Z",
     "iopub.status.busy": "2020-12-21T07:57:04.56868Z",
     "iopub.status.idle": "2020-12-21T07:57:04.57178Z",
     "shell.execute_reply": "2020-12-21T07:57:04.571229Z"
    },
    "papermill": {
     "duration": 0.080426,
     "end_time": "2020-12-21T07:57:04.571922",
     "exception": false,
     "start_time": "2020-12-21T07:57:04.491496",
     "status": "completed"
    },
    "tags": [],
    "trusted": true
   },
   "execution_count": 8,
   "outputs": []
  },
  {
   "cell_type": "markdown",
   "source": [
    "## Converting a categorical feature¶\n",
    "\n"
   ],
   "metadata": {
    "papermill": {
     "duration": 0.069996,
     "end_time": "2020-12-21T07:57:04.709231",
     "exception": false,
     "start_time": "2020-12-21T07:57:04.639235",
     "status": "completed"
    },
    "tags": []
   }
  },
  {
   "cell_type": "markdown",
   "source": [
    "##### Let's  start by converting Sex feature to categorical  female=1 and male=0"
   ],
   "metadata": {
    "papermill": {
     "duration": 0.071328,
     "end_time": "2020-12-21T07:57:04.849133",
     "exception": false,
     "start_time": "2020-12-21T07:57:04.777805",
     "status": "completed"
    },
    "tags": []
   }
  },
  {
   "cell_type": "code",
   "source": [
    "def change_gender(x):\n",
    "    if x == 'male':\n",
    "        return 0\n",
    "    elif x == 'female':\n",
    "        return 1\n",
    "\n",
    "\n",
    "train_data.Sex = train_data.Sex.apply(change_gender)\n",
    "test_data.Sex = test_data.Sex.apply(change_gender)"
   ],
   "metadata": {
    "execution": {
     "iopub.execute_input": "2020-12-21T07:57:04.996686Z",
     "iopub.status.busy": "2020-12-21T07:57:04.995975Z",
     "iopub.status.idle": "2020-12-21T07:57:04.999068Z",
     "shell.execute_reply": "2020-12-21T07:57:04.998381Z"
    },
    "papermill": {
     "duration": 0.082728,
     "end_time": "2020-12-21T07:57:04.999192",
     "exception": false,
     "start_time": "2020-12-21T07:57:04.916464",
     "status": "completed"
    },
    "tags": [],
    "trusted": true
   },
   "execution_count": 9,
   "outputs": []
  },
  {
   "cell_type": "markdown",
   "source": [
    "**using map funcion to change the Embarked column S = 1, C = 2, Q = 0**"
   ],
   "metadata": {
    "papermill": {
     "duration": 0.067891,
     "end_time": "2020-12-21T07:57:05.135267",
     "exception": false,
     "start_time": "2020-12-21T07:57:05.067376",
     "status": "completed"
    },
    "tags": []
   }
  },
  {
   "cell_type": "code",
   "source": [
    "change = {'S': 1, 'C': 2, 'Q': 0}\n",
    "train_data.Embarked = train_data.Embarked.map(change)\n",
    "test_data.Embarked = test_data.Embarked.map(change)"
   ],
   "metadata": {
    "execution": {
     "iopub.execute_input": "2020-12-21T07:57:05.279529Z",
     "iopub.status.busy": "2020-12-21T07:57:05.278788Z",
     "iopub.status.idle": "2020-12-21T07:57:05.282219Z",
     "shell.execute_reply": "2020-12-21T07:57:05.282708Z"
    },
    "papermill": {
     "duration": 0.07998,
     "end_time": "2020-12-21T07:57:05.282878",
     "exception": false,
     "start_time": "2020-12-21T07:57:05.202898",
     "status": "completed"
    },
    "tags": [],
    "trusted": true
   },
   "execution_count": 10,
   "outputs": []
  },
  {
   "cell_type": "markdown",
   "source": [
    "# Feature Extraction\n"
   ],
   "metadata": {
    "papermill": {
     "duration": 0.066673,
     "end_time": "2020-12-21T07:57:05.416804",
     "exception": false,
     "start_time": "2020-12-21T07:57:05.350131",
     "status": "completed"
    },
    "tags": []
   }
  },
  {
   "cell_type": "markdown",
   "source": [
    "while visualizing the correlation heatmap we came to know that Sibsp and Parch columns were closely related \n",
    "so lets created new column called Alone using this two columns\n",
    "-------> 1 = Alone , 0 = not Alone"
   ],
   "metadata": {
    "papermill": {
     "duration": 0.067828,
     "end_time": "2020-12-21T07:57:05.55123",
     "exception": false,
     "start_time": "2020-12-21T07:57:05.483402",
     "status": "completed"
    },
    "tags": []
   }
  },
  {
   "cell_type": "code",
   "source": [
    "train_data['Alone'] = train_data.SibSp + train_data.Parch\n",
    "test_data['Alone'] = test_data.SibSp + test_data.Parch\n",
    "\n",
    "train_data.Alone = train_data.Alone.apply(lambda x: 1 if x == 0 else 0)\n",
    "test_data.Alone = test_data.Alone.apply(lambda x: 1 if x == 0 else 0)"
   ],
   "metadata": {
    "execution": {
     "iopub.execute_input": "2020-12-21T07:57:05.701119Z",
     "iopub.status.busy": "2020-12-21T07:57:05.700033Z",
     "iopub.status.idle": "2020-12-21T07:57:05.703792Z",
     "shell.execute_reply": "2020-12-21T07:57:05.703246Z"
    },
    "papermill": {
     "duration": 0.08468,
     "end_time": "2020-12-21T07:57:05.703931",
     "exception": false,
     "start_time": "2020-12-21T07:57:05.619251",
     "status": "completed"
    },
    "tags": [],
    "trusted": true
   },
   "execution_count": 11,
   "outputs": []
  },
  {
   "cell_type": "code",
   "source": [
    "# now lets drop SibSp and Parch column for both training and testing data\n",
    "train_data.drop(['SibSp', 'Parch'], axis=1, inplace=True)\n",
    "test_data.drop(['SibSp', 'Parch'], axis=1, inplace=True)"
   ],
   "metadata": {
    "execution": {
     "iopub.execute_input": "2020-12-21T07:57:05.847462Z",
     "iopub.status.busy": "2020-12-21T07:57:05.845345Z",
     "iopub.status.idle": "2020-12-21T07:57:05.853039Z",
     "shell.execute_reply": "2020-12-21T07:57:05.85245Z"
    },
    "papermill": {
     "duration": 0.080952,
     "end_time": "2020-12-21T07:57:05.853155",
     "exception": false,
     "start_time": "2020-12-21T07:57:05.772203",
     "status": "completed"
    },
    "tags": [],
    "trusted": true
   },
   "execution_count": 12,
   "outputs": []
  },
  {
   "cell_type": "markdown",
   "source": [
    "# Creating new feature Title extracting from existing feature Name\n"
   ],
   "metadata": {
    "papermill": {
     "duration": 0.067763,
     "end_time": "2020-12-21T07:57:05.991054",
     "exception": false,
     "start_time": "2020-12-21T07:57:05.923291",
     "status": "completed"
    },
    "tags": []
   }
  },
  {
   "cell_type": "code",
   "source": [
    "train_data.Name.str.extract(' ([A-Za-z]+)\\.', expand=False).unique().size"
   ],
   "metadata": {
    "execution": {
     "iopub.execute_input": "2020-12-21T07:57:06.136118Z",
     "iopub.status.busy": "2020-12-21T07:57:06.135394Z",
     "iopub.status.idle": "2020-12-21T07:57:06.139772Z",
     "shell.execute_reply": "2020-12-21T07:57:06.140326Z"
    },
    "papermill": {
     "duration": 0.080552,
     "end_time": "2020-12-21T07:57:06.140481",
     "exception": false,
     "start_time": "2020-12-21T07:57:06.059929",
     "status": "completed"
    },
    "tags": [],
    "trusted": true
   },
   "execution_count": 13,
   "outputs": [
    {
     "data": {
      "text/plain": "17"
     },
     "execution_count": 13,
     "metadata": {},
     "output_type": "execute_result"
    }
   ]
  },
  {
   "cell_type": "code",
   "source": [
    "# lets create the Title feature which contain the title of the passenger and drop Name column\n",
    "for data in combined_data:\n",
    "    data['Title'] = data.Name.str.extract('([A-Za-z]+)\\.', expand=False)\n",
    "    data.drop('Name', axis=1, inplace=True)"
   ],
   "metadata": {
    "execution": {
     "iopub.execute_input": "2020-12-21T07:57:06.292081Z",
     "iopub.status.busy": "2020-12-21T07:57:06.291343Z",
     "iopub.status.idle": "2020-12-21T07:57:06.295023Z",
     "shell.execute_reply": "2020-12-21T07:57:06.294485Z"
    },
    "papermill": {
     "duration": 0.086855,
     "end_time": "2020-12-21T07:57:06.295143",
     "exception": false,
     "start_time": "2020-12-21T07:57:06.208288",
     "status": "completed"
    },
    "tags": [],
    "trusted": true
   },
   "execution_count": 14,
   "outputs": []
  },
  {
   "cell_type": "code",
   "source": [
    "train_data.Title.value_counts()"
   ],
   "metadata": {
    "execution": {
     "iopub.execute_input": "2020-12-21T07:57:06.439131Z",
     "iopub.status.busy": "2020-12-21T07:57:06.438402Z",
     "iopub.status.idle": "2020-12-21T07:57:06.441369Z",
     "shell.execute_reply": "2020-12-21T07:57:06.442071Z"
    },
    "papermill": {
     "duration": 0.079029,
     "end_time": "2020-12-21T07:57:06.442215",
     "exception": false,
     "start_time": "2020-12-21T07:57:06.363186",
     "status": "completed"
    },
    "tags": [],
    "trusted": true
   },
   "execution_count": 15,
   "outputs": [
    {
     "data": {
      "text/plain": "Mr          517\nMiss        182\nMrs         125\nMaster       40\nDr            7\nRev           6\nMlle          2\nMajor         2\nCol           2\nCountess      1\nCapt          1\nMs            1\nSir           1\nLady          1\nMme           1\nDon           1\nJonkheer      1\nName: Title, dtype: int64"
     },
     "execution_count": 15,
     "metadata": {},
     "output_type": "execute_result"
    }
   ]
  },
  {
   "cell_type": "code",
   "source": [
    "test_data.Title.unique()"
   ],
   "metadata": {
    "execution": {
     "iopub.execute_input": "2020-12-21T07:57:06.582638Z",
     "iopub.status.busy": "2020-12-21T07:57:06.581991Z",
     "iopub.status.idle": "2020-12-21T07:57:06.58968Z",
     "shell.execute_reply": "2020-12-21T07:57:06.589127Z"
    },
    "papermill": {
     "duration": 0.079904,
     "end_time": "2020-12-21T07:57:06.589802",
     "exception": false,
     "start_time": "2020-12-21T07:57:06.509898",
     "status": "completed"
    },
    "tags": [],
    "trusted": true
   },
   "execution_count": 16,
   "outputs": [
    {
     "data": {
      "text/plain": "array(['Mr', 'Mrs', 'Miss', 'Master', 'Ms', 'Col', 'Rev', 'Dr', 'Dona'],\n      dtype=object)"
     },
     "execution_count": 16,
     "metadata": {},
     "output_type": "execute_result"
    }
   ]
  },
  {
   "cell_type": "code",
   "source": [
    "#lets replace least occuring title in the data with rare\n",
    "least_occuring = ['Don', 'Rev', 'Dr', 'Mme', 'Ms',\n",
    "                  'Major', 'Lady', 'Sir', 'Mlle', 'Col', 'Capt', 'Countess', 'Dona',\n",
    "                  'Jonkheer']\n",
    "for data in combined_data:\n",
    "    data.Title = data.Title.replace(least_occuring, 'Rare')"
   ],
   "metadata": {
    "execution": {
     "iopub.execute_input": "2020-12-21T07:57:06.737835Z",
     "iopub.status.busy": "2020-12-21T07:57:06.737158Z",
     "iopub.status.idle": "2020-12-21T07:57:06.739305Z",
     "shell.execute_reply": "2020-12-21T07:57:06.739785Z"
    },
    "papermill": {
     "duration": 0.081614,
     "end_time": "2020-12-21T07:57:06.739948",
     "exception": false,
     "start_time": "2020-12-21T07:57:06.658334",
     "status": "completed"
    },
    "scrolled": true,
    "tags": [],
    "trusted": true
   },
   "execution_count": 17,
   "outputs": []
  },
  {
   "cell_type": "code",
   "source": [
    "# lets perform title mapping in order to change to ordinal\n",
    "title_mapping = {\"Mr\": 1, \"Miss\": 2, \"Mrs\": 3, \"Master\": 4, \"Rare\": 5}\n",
    "for data in combined_data:\n",
    "    data['Title'] = data['Title'].map(title_mapping)"
   ],
   "metadata": {
    "execution": {
     "iopub.execute_input": "2020-12-21T07:57:06.884786Z",
     "iopub.status.busy": "2020-12-21T07:57:06.883547Z",
     "iopub.status.idle": "2020-12-21T07:57:06.892479Z",
     "shell.execute_reply": "2020-12-21T07:57:06.89164Z"
    },
    "papermill": {
     "duration": 0.084546,
     "end_time": "2020-12-21T07:57:06.892607",
     "exception": false,
     "start_time": "2020-12-21T07:57:06.808061",
     "status": "completed"
    },
    "tags": [],
    "trusted": true
   },
   "execution_count": 18,
   "outputs": []
  },
  {
   "cell_type": "markdown",
   "source": [
    "# Dropping PassengerId and Ticket column"
   ],
   "metadata": {
    "papermill": {
     "duration": 0.080767,
     "end_time": "2020-12-21T07:57:07.057158",
     "exception": false,
     "start_time": "2020-12-21T07:57:06.976391",
     "status": "completed"
    },
    "tags": []
   }
  },
  {
   "cell_type": "code",
   "source": [
    "columns_to_drop = ['PassengerId', 'Ticket']\n",
    "train_data.drop(columns_to_drop, axis=1, inplace=True)\n",
    "test_data.drop(columns_to_drop[1], axis=1, inplace=True)"
   ],
   "metadata": {
    "execution": {
     "iopub.execute_input": "2020-12-21T07:57:07.198204Z",
     "iopub.status.busy": "2020-12-21T07:57:07.197136Z",
     "iopub.status.idle": "2020-12-21T07:57:07.206713Z",
     "shell.execute_reply": "2020-12-21T07:57:07.206079Z"
    },
    "papermill": {
     "duration": 0.080969,
     "end_time": "2020-12-21T07:57:07.206845",
     "exception": false,
     "start_time": "2020-12-21T07:57:07.125876",
     "status": "completed"
    },
    "tags": [],
    "trusted": true
   },
   "execution_count": 19,
   "outputs": []
  },
  {
   "cell_type": "markdown",
   "source": [
    "## Binning Age and Fare columns"
   ],
   "metadata": {
    "papermill": {
     "duration": 0.0677,
     "end_time": "2020-12-21T07:57:07.343585",
     "exception": false,
     "start_time": "2020-12-21T07:57:07.275885",
     "status": "completed"
    },
    "tags": []
   }
  },
  {
   "cell_type": "code",
   "source": [
    "for dataset in combined_data:\n",
    "    dataset.loc[dataset['Age'] <= 16, 'Age'] = 0\n",
    "    dataset.loc[(dataset['Age'] > 16) & (dataset['Age'] <= 32), 'Age'] = 1\n",
    "    dataset.loc[(dataset['Age'] > 32) & (dataset['Age'] <= 48), 'Age'] = 2\n",
    "    dataset.loc[(dataset['Age'] > 48) & (dataset['Age'] <= 64), 'Age'] = 3\n",
    "    dataset.loc[dataset['Age'] > 64, 'Age'] = 4"
   ],
   "metadata": {
    "execution": {
     "iopub.execute_input": "2020-12-21T07:57:07.483921Z",
     "iopub.status.busy": "2020-12-21T07:57:07.482886Z",
     "iopub.status.idle": "2020-12-21T07:57:07.500761Z",
     "shell.execute_reply": "2020-12-21T07:57:07.501382Z"
    },
    "papermill": {
     "duration": 0.089721,
     "end_time": "2020-12-21T07:57:07.501533",
     "exception": false,
     "start_time": "2020-12-21T07:57:07.411812",
     "status": "completed"
    },
    "tags": [],
    "trusted": true
   },
   "execution_count": 20,
   "outputs": []
  },
  {
   "cell_type": "code",
   "source": [
    "for data in combined_data:\n",
    "    data.loc[data['Fare'] < 30, 'Fare'] = 1\n",
    "    data.loc[(data['Fare'] >= 30) & (data['Fare'] < 50), 'Fare'] = 2\n",
    "    data.loc[(data['Fare'] >= 50) & (data['Fare'] < 100), 'Fare'] = 3\n",
    "    data.loc[(data['Fare'] >= 100), 'Fare'] = 4"
   ],
   "metadata": {
    "execution": {
     "iopub.execute_input": "2020-12-21T07:57:07.64397Z",
     "iopub.status.busy": "2020-12-21T07:57:07.642953Z",
     "iopub.status.idle": "2020-12-21T07:57:07.657071Z",
     "shell.execute_reply": "2020-12-21T07:57:07.657572Z"
    },
    "papermill": {
     "duration": 0.087047,
     "end_time": "2020-12-21T07:57:07.657748",
     "exception": false,
     "start_time": "2020-12-21T07:57:07.570701",
     "status": "completed"
    },
    "tags": [],
    "trusted": true
   },
   "execution_count": 21,
   "outputs": []
  },
  {
   "cell_type": "code",
   "source": [
    "corr_train = train_data.corr()\n",
    "sns.heatmap(corr_train)\n",
    "plt.show()"
   ],
   "metadata": {
    "trusted": true
   },
   "execution_count": 22,
   "outputs": [
    {
     "data": {
      "text/plain": "<Figure size 640x480 with 2 Axes>",
      "image/png": "[encoded data removed]"
     },
     "metadata": {},
     "output_type": "display_data"
    }
   ]
  },
  {
   "cell_type": "markdown",
   "source": [
    "# preparing training and testing data"
   ],
   "metadata": {
    "papermill": {
     "duration": 0.069583,
     "end_time": "2020-12-21T07:57:07.798284",
     "exception": false,
     "start_time": "2020-12-21T07:57:07.728701",
     "status": "completed"
    },
    "tags": []
   }
  },
  {
   "cell_type": "code",
   "source": [
    "X_train = train_data.drop(\"Survived\", axis=1)\n",
    "Y_train = train_data[\"Survived\"]\n",
    "X_test = test_data.drop(\"PassengerId\", axis=1)"
   ],
   "metadata": {
    "execution": {
     "iopub.execute_input": "2020-12-21T07:57:07.946351Z",
     "iopub.status.busy": "2020-12-21T07:57:07.945639Z",
     "iopub.status.idle": "2020-12-21T07:57:07.952802Z",
     "shell.execute_reply": "2020-12-21T07:57:07.95181Z"
    },
    "papermill": {
     "duration": 0.085601,
     "end_time": "2020-12-21T07:57:07.952993",
     "exception": false,
     "start_time": "2020-12-21T07:57:07.867392",
     "status": "completed"
    },
    "tags": [],
    "trusted": true
   },
   "execution_count": 23,
   "outputs": []
  },
  {
   "cell_type": "markdown",
   "source": [
    "# Neural Network\n",
    "<img src = 'https://i.imgur.com/mIsGh53.jpg'>"
   ],
   "metadata": {}
  },
  {
   "cell_type": "markdown",
   "source": [
    "## Import necessary libraries"
   ],
   "metadata": {}
  },
  {
   "cell_type": "code",
   "source": [
    "import tensorflow as tf\n",
    "from keras.layers import Dense, Dropout\n",
    "from keras.models import Sequential"
   ],
   "metadata": {
    "trusted": true
   },
   "execution_count": 24,
   "outputs": [
    {
     "name": "stderr",
     "output_type": "stream",
     "text": [
      "2023-02-23 10:08:11.426706: I tensorflow/core/platform/cpu_feature_guard.cc:193] This TensorFlow binary is optimized with oneAPI Deep Neural Network Library (oneDNN) to use the following CPU instructions in performance-critical operations:  AVX2 FMA\n",
      "To enable them in other operations, rebuild TensorFlow with the appropriate compiler flags.\n"
     ]
    }
   ]
  },
  {
   "cell_type": "markdown",
   "source": [
    "## Defining model\n",
    "Here, I have used different number of neurons for each layer and different value for dropout. You can play with these hyperparameter for better outut."
   ],
   "metadata": {}
  },
  {
   "cell_type": "code",
   "execution_count": 25,
   "outputs": [
    {
     "name": "stderr",
     "output_type": "stream",
     "text": [
      "2023-02-23 10:08:19.329824: I tensorflow/core/platform/cpu_feature_guard.cc:193] This TensorFlow binary is optimized with oneAPI Deep Neural Network Library (oneDNN) to use the following CPU instructions in performance-critical operations:  AVX2 FMA\n",
      "To enable them in other operations, rebuild TensorFlow with the appropriate compiler flags.\n"
     ]
    }
   ],
   "source": [
    "def make_model():\n",
    "    model = Sequential()\n",
    "    model.add(Dense(units=16, input_shape=(7,), activation='relu'))\n",
    "    model.add(tf.keras.layers.BatchNormalization())\n",
    "    model.add(Dense(units=32, activation='relu', kernel_initializer='he_normal', use_bias=False))\n",
    "    model.add(Dense(units=1, activation='sigmoid'))\n",
    "    return model\n",
    "\n",
    "\n",
    "model = make_model()"
   ],
   "metadata": {
    "collapsed": false
   }
  },
  {
   "cell_type": "markdown",
   "source": [
    "### Model summary"
   ],
   "metadata": {
    "collapsed": false
   }
  },
  {
   "cell_type": "code",
   "source": [
    "model.summary()"
   ],
   "metadata": {
    "trusted": true
   },
   "execution_count": 26,
   "outputs": [
    {
     "name": "stdout",
     "output_type": "stream",
     "text": [
      "Model: \"sequential\"\n",
      "_________________________________________________________________\n",
      " Layer (type)                Output Shape              Param #   \n",
      "=================================================================\n",
      " dense (Dense)               (None, 16)                128       \n",
      "                                                                 \n",
      " batch_normalization (BatchN  (None, 16)               64        \n",
      " ormalization)                                                   \n",
      "                                                                 \n",
      " dense_1 (Dense)             (None, 32)                512       \n",
      "                                                                 \n",
      " dense_2 (Dense)             (None, 1)                 33        \n",
      "                                                                 \n",
      "=================================================================\n",
      "Total params: 737\n",
      "Trainable params: 705\n",
      "Non-trainable params: 32\n",
      "_________________________________________________________________\n"
     ]
    }
   ]
  },
  {
   "cell_type": "markdown",
   "source": [
    "## Compiling and fitting model"
   ],
   "metadata": {}
  },
  {
   "cell_type": "code",
   "source": [
    "if MODE == Mode.TRAIN:\n",
    "    model.compile(loss=tf.keras.losses.binary_crossentropy, optimizer=tf.keras.optimizers.Adam(), metrics=['acc'])\n",
    "    model.fit(X_train, Y_train, batch_size=32, verbose=2, epochs=100)\n",
    "    model.save('../../output/titanic/models/')\n",
    "else:\n",
    "    model.load_weights('../../output/titanic/models')"
   ],
   "metadata": {
    "trusted": true
   },
   "execution_count": 27,
   "outputs": [
    {
     "name": "stdout",
     "output_type": "stream",
     "text": [
      "WARNING:tensorflow:Inconsistent references when loading the checkpoint into this object graph. For example, in the saved checkpoint object, `model.layer.weight` and `model.layer_copy.weight` reference the same variable, while in the current object these are two different variables. The referenced variables are:(<keras.layers.core.dense.Dense object at 0x140af6dc0> and <keras.layers.normalization.batch_normalization.BatchNormalization object at 0x14c55abe0>).\n",
      "WARNING:tensorflow:Inconsistent references when loading the checkpoint into this object graph. For example, in the saved checkpoint object, `model.layer.weight` and `model.layer_copy.weight` reference the same variable, while in the current object these are two different variables. The referenced variables are:(<keras.layers.normalization.batch_normalization.BatchNormalization object at 0x14c55abe0> and <keras.layers.core.dense.Dense object at 0x14c64b130>).\n",
      "WARNING:tensorflow:Inconsistent references when loading the checkpoint into this object graph. For example, in the saved checkpoint object, `model.layer.weight` and `model.layer_copy.weight` reference the same variable, while in the current object these are two different variables. The referenced variables are:(<keras.layers.core.dense.Dense object at 0x14c64b130> and <keras.layers.core.dense.Dense object at 0x14c5edcd0>).\n"
     ]
    },
    {
     "name": "stderr",
     "output_type": "stream",
     "text": [
      "2023-02-23 10:09:00.983046: W tensorflow/core/util/tensor_slice_reader.cc:96] Could not open ../../output/titanic/models: FAILED_PRECONDITION: ../../output/titanic/models; Is a directory: perhaps your file is in a different file format and you need to use a different restore operator?\n"
     ]
    }
   ]
  },
  {
   "cell_type": "markdown",
   "source": [
    "**Prediction for test data**"
   ],
   "metadata": {
    "papermill": {
     "duration": 0.089203,
     "end_time": "2020-12-21T07:57:19.415297",
     "exception": false,
     "start_time": "2020-12-21T07:57:19.326094",
     "status": "completed"
    },
    "tags": []
   }
  },
  {
   "cell_type": "code",
   "source": [
    "predict = model.predict(X_test)\n",
    "predict = (predict > 0.5).astype(int).ravel()"
   ],
   "metadata": {
    "execution": {
     "iopub.execute_input": "2020-12-21T07:57:19.602158Z",
     "iopub.status.busy": "2020-12-21T07:57:19.601033Z",
     "iopub.status.idle": "2020-12-21T07:57:19.754567Z",
     "shell.execute_reply": "2020-12-21T07:57:19.753945Z"
    },
    "papermill": {
     "duration": 0.250125,
     "end_time": "2020-12-21T07:57:19.754696",
     "exception": false,
     "start_time": "2020-12-21T07:57:19.504571",
     "status": "completed"
    },
    "tags": [],
    "trusted": true
   },
   "execution_count": 28,
   "outputs": [
    {
     "name": "stdout",
     "output_type": "stream",
     "text": [
      "14/14 [==============================] - 0s 1ms/step\n"
     ]
    }
   ]
  },
  {
   "cell_type": "markdown",
   "source": [
    "# For submission"
   ],
   "metadata": {
    "papermill": {
     "duration": 0.090122,
     "end_time": "2020-12-21T07:57:19.936582",
     "exception": false,
     "start_time": "2020-12-21T07:57:19.84646",
     "status": "completed"
    },
    "tags": []
   }
  },
  {
   "cell_type": "code",
   "source": [
    "submit = pd.DataFrame({\"PassengerId\": test_data.PassengerId, 'Survived': predict})\n",
    "submit.to_csv(\"../../output/titanic/death_prediction_per_passenger.csv\", index=False)"
   ],
   "metadata": {
    "execution": {
     "iopub.execute_input": "2020-12-21T07:57:20.126638Z",
     "iopub.status.busy": "2020-12-21T07:57:20.125949Z",
     "iopub.status.idle": "2020-12-21T07:57:20.382913Z",
     "shell.execute_reply": "2020-12-21T07:57:20.382298Z"
    },
    "papermill": {
     "duration": 0.354566,
     "end_time": "2020-12-21T07:57:20.383039",
     "exception": false,
     "start_time": "2020-12-21T07:57:20.028473",
     "status": "completed"
    },
    "tags": [],
    "trusted": true
   },
   "execution_count": 29,
   "outputs": []
  },
  {
   "cell_type": "code",
   "source": [
    "from sklearn import metrics\n",
    "\n",
    "Y_pred_rand = (model.predict(X_train) > 0.5).astype(int)\n",
    "print('Precision : ', np.round(metrics.precision_score(Y_train, Y_pred_rand) * 100, 2))\n",
    "print('Accuracy : ', np.round(metrics.accuracy_score(Y_train, Y_pred_rand) * 100, 2))\n",
    "print('Recall : ', np.round(metrics.recall_score(Y_train, Y_pred_rand) * 100, 2))\n",
    "print('F1 score : ', np.round(metrics.f1_score(Y_train, Y_pred_rand) * 100, 2))\n",
    "print('AUC : ', np.round(metrics.roc_auc_score(Y_train, Y_pred_rand) * 100, 2))"
   ],
   "metadata": {
    "execution": {
     "iopub.execute_input": "2020-12-21T07:57:20.572441Z",
     "iopub.status.busy": "2020-12-21T07:57:20.571367Z",
     "iopub.status.idle": "2020-12-21T07:57:20.651419Z",
     "shell.execute_reply": "2020-12-21T07:57:20.65087Z"
    },
    "papermill": {
     "duration": 0.179237,
     "end_time": "2020-12-21T07:57:20.651541",
     "exception": false,
     "start_time": "2020-12-21T07:57:20.472304",
     "status": "completed"
    },
    "tags": [],
    "trusted": true
   },
   "execution_count": 30,
   "outputs": [
    {
     "name": "stdout",
     "output_type": "stream",
     "text": [
      "28/28 [==============================] - 0s 1ms/step\n",
      "Precision :  87.69\n",
      "Accuracy :  84.29\n",
      "Recall :  68.71\n",
      "F1 score :  77.05\n",
      "AUC :  81.35\n"
     ]
    }
   ]
  },
  {
   "cell_type": "code",
   "source": [
    "# plotting the confusion matrix in heatmap\n",
    "matrix = metrics.confusion_matrix(Y_train, Y_pred_rand)\n",
    "sns.heatmap(matrix, annot=True, fmt='g')\n",
    "plt.show()"
   ],
   "metadata": {
    "execution": {
     "iopub.execute_input": "2020-12-21T07:57:20.841145Z",
     "iopub.status.busy": "2020-12-21T07:57:20.840338Z",
     "iopub.status.idle": "2020-12-21T07:57:21.030101Z",
     "shell.execute_reply": "2020-12-21T07:57:21.030647Z"
    },
    "papermill": {
     "duration": 0.286179,
     "end_time": "2020-12-21T07:57:21.030791",
     "exception": false,
     "start_time": "2020-12-21T07:57:20.744612",
     "status": "completed"
    },
    "tags": [],
    "trusted": true
   },
   "execution_count": 31,
   "outputs": [
    {
     "data": {
      "text/plain": "<Figure size 640x480 with 2 Axes>",
      "image/png": "[encoded data removed]"
     },
     "metadata": {},
     "output_type": "display_data"
    }
   ]
  },
  {
   "cell_type": "markdown",
   "source": [
    "# Co-Activation Graph Generation"
   ],
   "metadata": {
    "collapsed": false
   }
  },
  {
   "cell_type": "code",
   "execution_count": 136,
   "outputs": [
    {
     "name": "stdout",
     "output_type": "stream",
     "text": [
      "16/16 [==============================] - 0s 1ms/step\n",
      "[(500, 7), (500, 16), (500, 32), (500, 1)]\n",
      "[array([[ 0.3762495 , -0.2030986 , -1.0633439 , ..., -1.8323823 ,\n",
      "        -1.7274839 ,  1.1638806 ],\n",
      "       [ 1.1925912 ,  0.34621125, -0.370804  , ...,  0.31039047,\n",
      "        -0.3330705 ,  2.3582613 ],\n",
      "       [-0.48505014,  1.2949498 ,  0.06933497, ...,  0.5170387 ,\n",
      "         1.64556   ,  0.13013016],\n",
      "       ...,\n",
      "       [ 0.01888031, -1.0806371 ,  1.7682049 , ..., -1.2272325 ,\n",
      "        -1.505436  , -0.06853178],\n",
      "       [-0.94631433, -0.49294633,  0.51169276, ...,  1.3783377 ,\n",
      "         1.3412077 ,  0.40806413],\n",
      "       [-1.77151   , -2.1712863 ,  1.691604  , ..., -2.3820364 ,\n",
      "         0.7387778 , -1.076336  ]], dtype=float32), array([[0.        , 1.1090039 , 0.31563836, ..., 0.        , 0.        ,\n",
      "        0.        ],\n",
      "       [0.        , 1.4944602 , 0.        , ..., 0.35059327, 0.        ,\n",
      "        0.        ],\n",
      "       [1.261165  , 0.        , 0.        , ..., 1.0734605 , 1.3232086 ,\n",
      "        0.        ],\n",
      "       ...,\n",
      "       [0.        , 0.9510742 , 0.        , ..., 0.        , 0.        ,\n",
      "        0.        ],\n",
      "       [0.37162557, 0.        , 0.        , ..., 0.7836919 , 0.7267354 ,\n",
      "        0.        ],\n",
      "       [0.37725574, 0.3358756 , 0.        , ..., 0.        , 0.        ,\n",
      "        0.        ]], dtype=float32), array([[3.1828550e+01, 5.6970620e+00, 1.2556302e+01, ..., 0.0000000e+00,\n",
      "        0.0000000e+00, 0.0000000e+00],\n",
      "       [4.3861260e+00, 3.6505585e+00, 0.0000000e+00, ..., 0.0000000e+00,\n",
      "        0.0000000e+00, 5.0507713e-02],\n",
      "       [0.0000000e+00, 9.6257620e+00, 0.0000000e+00, ..., 0.0000000e+00,\n",
      "        0.0000000e+00, 0.0000000e+00],\n",
      "       ...,\n",
      "       [1.8451818e+01, 3.5288706e+00, 8.3889198e+00, ..., 0.0000000e+00,\n",
      "        0.0000000e+00, 2.0209763e+00],\n",
      "       [0.0000000e+00, 2.1518197e+00, 0.0000000e+00, ..., 0.0000000e+00,\n",
      "        0.0000000e+00, 2.8417826e-02],\n",
      "       [4.8607075e+01, 1.2639887e+01, 1.4273142e+01, ..., 0.0000000e+00,\n",
      "        0.0000000e+00, 0.0000000e+00]], dtype=float32), array([[1.00063657e-09],\n",
      "       [7.46103764e-01],\n",
      "       [4.40119088e-01],\n",
      "       [8.56711790e-02],\n",
      "       [6.93581998e-03],\n",
      "       [9.59436118e-04],\n",
      "       [1.74354181e-01],\n",
      "       [6.90748617e-02],\n",
      "       [9.73942637e-01],\n",
      "       [9.80039775e-01],\n",
      "       [5.12620835e-09],\n",
      "       [9.66107130e-01],\n",
      "       [7.74030983e-02],\n",
      "       [8.58399007e-22],\n",
      "       [9.62169051e-01],\n",
      "       [4.38721836e-01],\n",
      "       [9.94021520e-02],\n",
      "       [9.99724090e-01],\n",
      "       [4.06397544e-02],\n",
      "       [1.07600727e-06],\n",
      "       [2.77376831e-01],\n",
      "       [8.76400530e-01],\n",
      "       [7.18543887e-01],\n",
      "       [4.51957283e-04],\n",
      "       [5.06100897e-03],\n",
      "       [2.14253664e-01],\n",
      "       [7.57602304e-02],\n",
      "       [8.04614544e-01],\n",
      "       [6.54373222e-11],\n",
      "       [5.38495951e-05],\n",
      "       [7.53883198e-02],\n",
      "       [9.27384019e-01],\n",
      "       [1.61861878e-11],\n",
      "       [2.47439457e-05],\n",
      "       [7.20271885e-01],\n",
      "       [1.84353755e-03],\n",
      "       [2.23853340e-06],\n",
      "       [1.92089356e-04],\n",
      "       [2.26486913e-10],\n",
      "       [8.70516598e-01],\n",
      "       [2.42465213e-01],\n",
      "       [9.45148170e-01],\n",
      "       [6.31813768e-10],\n",
      "       [1.75604731e-01],\n",
      "       [5.09848893e-02],\n",
      "       [3.26377861e-02],\n",
      "       [1.16021908e-03],\n",
      "       [3.31042230e-07],\n",
      "       [7.44906127e-01],\n",
      "       [2.08544999e-01],\n",
      "       [6.04717247e-03],\n",
      "       [8.01223695e-01],\n",
      "       [4.66403842e-01],\n",
      "       [2.80287415e-01],\n",
      "       [2.68753588e-01],\n",
      "       [7.95426846e-01],\n",
      "       [8.56691957e-01],\n",
      "       [4.32905018e-01],\n",
      "       [9.85249579e-01],\n",
      "       [1.91069722e-01],\n",
      "       [2.57078469e-01],\n",
      "       [5.67106307e-01],\n",
      "       [8.63030612e-01],\n",
      "       [3.55888009e-01],\n",
      "       [4.21544850e-01],\n",
      "       [9.92731214e-01],\n",
      "       [3.07751298e-01],\n",
      "       [4.04385275e-11],\n",
      "       [3.49700838e-01],\n",
      "       [6.13326256e-06],\n",
      "       [1.18344688e-05],\n",
      "       [1.14343520e-02],\n",
      "       [1.34449181e-06],\n",
      "       [5.53906895e-02],\n",
      "       [4.65737227e-09],\n",
      "       [2.32036356e-02],\n",
      "       [1.84780166e-01],\n",
      "       [9.99731183e-01],\n",
      "       [6.96613967e-01],\n",
      "       [8.39412659e-02],\n",
      "       [5.36931541e-11],\n",
      "       [8.82729366e-02],\n",
      "       [4.36500087e-03],\n",
      "       [3.43933254e-01],\n",
      "       [6.58450127e-01],\n",
      "       [1.26563996e-01],\n",
      "       [1.21871449e-01],\n",
      "       [9.93730426e-01],\n",
      "       [5.28685987e-01],\n",
      "       [7.24141240e-01],\n",
      "       [3.55161279e-02],\n",
      "       [1.49646974e-06],\n",
      "       [1.39163539e-01],\n",
      "       [3.23333234e-01],\n",
      "       [3.25238705e-01],\n",
      "       [2.55056676e-07],\n",
      "       [7.56091177e-01],\n",
      "       [6.40372261e-02],\n",
      "       [2.35376377e-02],\n",
      "       [9.72565293e-01],\n",
      "       [6.15227191e-06],\n",
      "       [6.11605532e-02],\n",
      "       [6.05931170e-02],\n",
      "       [3.14598382e-01],\n",
      "       [4.98918666e-07],\n",
      "       [4.33813767e-07],\n",
      "       [9.73834971e-11],\n",
      "       [6.38606912e-03],\n",
      "       [9.51636910e-01],\n",
      "       [9.97532248e-01],\n",
      "       [1.59184646e-03],\n",
      "       [1.63847934e-02],\n",
      "       [2.92364866e-01],\n",
      "       [5.01971726e-07],\n",
      "       [2.21743613e-01],\n",
      "       [7.07881150e-18],\n",
      "       [1.14576517e-06],\n",
      "       [7.99623132e-02],\n",
      "       [2.83915317e-03],\n",
      "       [7.73704588e-01],\n",
      "       [8.76076758e-01],\n",
      "       [5.43826097e-21],\n",
      "       [1.37400128e-13],\n",
      "       [5.94386180e-17],\n",
      "       [1.96100287e-02],\n",
      "       [8.43784437e-02],\n",
      "       [8.15564929e-19],\n",
      "       [3.46553376e-11],\n",
      "       [2.23444134e-01],\n",
      "       [6.31667672e-06],\n",
      "       [3.21140550e-02],\n",
      "       [1.12691531e-11],\n",
      "       [1.91973824e-12],\n",
      "       [1.76326337e-03],\n",
      "       [6.49916217e-07],\n",
      "       [2.23668525e-03],\n",
      "       [3.19102959e-14],\n",
      "       [2.76471263e-16],\n",
      "       [6.21234059e-01],\n",
      "       [1.89917311e-01],\n",
      "       [3.06414507e-14],\n",
      "       [9.69647050e-01],\n",
      "       [9.89856858e-07],\n",
      "       [1.90397550e-04],\n",
      "       [9.85914469e-01],\n",
      "       [8.12127888e-02],\n",
      "       [1.11283774e-10],\n",
      "       [9.66005623e-01],\n",
      "       [3.71550508e-02],\n",
      "       [7.50328155e-08],\n",
      "       [1.83167844e-03],\n",
      "       [1.18442706e-07],\n",
      "       [1.52494028e-01],\n",
      "       [3.66196793e-04],\n",
      "       [8.27653766e-01],\n",
      "       [3.01948213e-03],\n",
      "       [1.11229985e-08],\n",
      "       [6.51176487e-13],\n",
      "       [3.54287564e-04],\n",
      "       [5.43293357e-02],\n",
      "       [9.99565363e-01],\n",
      "       [1.46993323e-20],\n",
      "       [4.31702878e-13],\n",
      "       [8.65952432e-01],\n",
      "       [3.54203644e-06],\n",
      "       [9.79308367e-01],\n",
      "       [2.07330182e-01],\n",
      "       [6.07053339e-01],\n",
      "       [5.57344715e-15],\n",
      "       [1.01212442e-01],\n",
      "       [6.91544339e-02],\n",
      "       [6.18076958e-02],\n",
      "       [2.56492700e-02],\n",
      "       [1.99709602e-19],\n",
      "       [9.98301744e-01],\n",
      "       [6.41258180e-01],\n",
      "       [6.91856112e-05],\n",
      "       [3.69126759e-02],\n",
      "       [5.63089728e-01],\n",
      "       [3.44600085e-05],\n",
      "       [6.28797412e-02],\n",
      "       [9.99362051e-01],\n",
      "       [1.95012882e-01],\n",
      "       [1.79075897e-01],\n",
      "       [4.78625298e-02],\n",
      "       [9.61373329e-01],\n",
      "       [2.14261189e-01],\n",
      "       [8.49207770e-03],\n",
      "       [1.55927926e-01],\n",
      "       [6.19760467e-05],\n",
      "       [3.41291856e-11],\n",
      "       [9.47579265e-01],\n",
      "       [7.66530856e-02],\n",
      "       [7.05435812e-01],\n",
      "       [2.87148805e-06],\n",
      "       [9.91410911e-01],\n",
      "       [3.09136808e-01],\n",
      "       [4.69796178e-05],\n",
      "       [9.98259008e-01],\n",
      "       [2.80190229e-01],\n",
      "       [6.02029052e-11],\n",
      "       [6.09159648e-01],\n",
      "       [3.61327469e-01],\n",
      "       [2.78942662e-05],\n",
      "       [8.19404900e-01],\n",
      "       [6.61820889e-01],\n",
      "       [1.83080005e-12],\n",
      "       [1.81264200e-04],\n",
      "       [5.20674186e-03],\n",
      "       [9.79073524e-01],\n",
      "       [9.96480107e-01],\n",
      "       [4.76034790e-01],\n",
      "       [6.40593842e-02],\n",
      "       [4.72021338e-06],\n",
      "       [4.44273995e-09],\n",
      "       [1.73289716e-01],\n",
      "       [1.70026347e-01],\n",
      "       [9.37147498e-01],\n",
      "       [4.02546115e-02],\n",
      "       [2.31132284e-03],\n",
      "       [6.77248649e-03],\n",
      "       [1.80532306e-01],\n",
      "       [1.39131825e-02],\n",
      "       [1.54170878e-02],\n",
      "       [3.83793434e-07],\n",
      "       [7.69147575e-01],\n",
      "       [9.99951422e-01],\n",
      "       [1.38622923e-02],\n",
      "       [3.79788220e-01],\n",
      "       [7.20167100e-01],\n",
      "       [3.96934716e-04],\n",
      "       [2.64981133e-03],\n",
      "       [1.81444570e-01],\n",
      "       [1.88106128e-11],\n",
      "       [9.92749259e-02],\n",
      "       [9.95218575e-01],\n",
      "       [1.25890020e-02],\n",
      "       [3.53044122e-02],\n",
      "       [5.71125746e-01],\n",
      "       [2.71842902e-04],\n",
      "       [9.30740684e-02],\n",
      "       [5.37934899e-01],\n",
      "       [9.99727190e-01],\n",
      "       [9.75521922e-01],\n",
      "       [1.08616272e-19],\n",
      "       [7.84708321e-01],\n",
      "       [5.65007112e-12],\n",
      "       [7.90455818e-01],\n",
      "       [9.11581237e-03],\n",
      "       [5.26392043e-01],\n",
      "       [2.04197630e-01],\n",
      "       [3.07411256e-07],\n",
      "       [2.08515557e-03],\n",
      "       [9.76933916e-06],\n",
      "       [1.94446802e-05],\n",
      "       [1.22597240e-01],\n",
      "       [3.50701924e-07],\n",
      "       [5.20622015e-01],\n",
      "       [1.04303461e-13],\n",
      "       [2.10890268e-12],\n",
      "       [3.35252210e-02],\n",
      "       [3.57830897e-02],\n",
      "       [1.94797387e-08],\n",
      "       [7.44327699e-05],\n",
      "       [1.02825215e-08],\n",
      "       [7.83137798e-01],\n",
      "       [1.96382441e-02],\n",
      "       [8.21222439e-02],\n",
      "       [9.70119417e-01],\n",
      "       [1.62341993e-03],\n",
      "       [9.01954651e-01],\n",
      "       [6.08004702e-10],\n",
      "       [5.10610790e-27],\n",
      "       [2.23369477e-03],\n",
      "       [2.81553954e-01],\n",
      "       [1.28458908e-07],\n",
      "       [3.93395931e-01],\n",
      "       [1.07829154e-01],\n",
      "       [5.79230972e-02],\n",
      "       [4.30928467e-18],\n",
      "       [2.38673472e-08],\n",
      "       [2.47253496e-02],\n",
      "       [1.66203477e-03],\n",
      "       [2.64442973e-02],\n",
      "       [2.67519438e-19],\n",
      "       [8.73653173e-01],\n",
      "       [1.74683059e-17],\n",
      "       [1.72930092e-01],\n",
      "       [2.86706164e-02],\n",
      "       [1.07630237e-03],\n",
      "       [4.41849381e-01],\n",
      "       [9.96372640e-01],\n",
      "       [4.71088141e-01],\n",
      "       [1.12429403e-01],\n",
      "       [9.99991775e-01],\n",
      "       [7.48598874e-01],\n",
      "       [1.84916600e-03],\n",
      "       [1.98952662e-07],\n",
      "       [8.35904293e-03],\n",
      "       [8.58269818e-03],\n",
      "       [1.94223349e-09],\n",
      "       [2.17163197e-05],\n",
      "       [2.68639321e-03],\n",
      "       [1.36067560e-02],\n",
      "       [6.26711845e-01],\n",
      "       [9.82945919e-01],\n",
      "       [1.29870931e-02],\n",
      "       [5.82486464e-05],\n",
      "       [3.63467424e-03],\n",
      "       [9.24954731e-12],\n",
      "       [9.97254610e-01],\n",
      "       [1.39782816e-01],\n",
      "       [6.89175501e-02],\n",
      "       [1.70425862e-01],\n",
      "       [4.51368724e-05],\n",
      "       [3.52979749e-01],\n",
      "       [4.85291421e-01],\n",
      "       [1.93393906e-03],\n",
      "       [3.97570670e-01],\n",
      "       [1.76546635e-07],\n",
      "       [5.85275893e-06],\n",
      "       [5.25446386e-20],\n",
      "       [1.89295376e-03],\n",
      "       [9.50095713e-01],\n",
      "       [3.66971530e-02],\n",
      "       [1.89566717e-01],\n",
      "       [5.09779826e-02],\n",
      "       [4.75304596e-09],\n",
      "       [5.62552325e-02],\n",
      "       [9.57154989e-01],\n",
      "       [1.02251813e-01],\n",
      "       [9.96302545e-01],\n",
      "       [9.95835236e-09],\n",
      "       [2.90585943e-02],\n",
      "       [3.08487266e-01],\n",
      "       [8.84552062e-01],\n",
      "       [7.09867597e-01],\n",
      "       [6.11174464e-01],\n",
      "       [3.97931993e-01],\n",
      "       [5.66589165e-07],\n",
      "       [9.36685026e-01],\n",
      "       [5.66736400e-01],\n",
      "       [9.18651894e-02],\n",
      "       [5.78129649e-01],\n",
      "       [9.88152772e-02],\n",
      "       [5.08800088e-14],\n",
      "       [4.46465239e-02],\n",
      "       [4.27101076e-01],\n",
      "       [2.36216113e-08],\n",
      "       [6.55102916e-03],\n",
      "       [6.78472221e-02],\n",
      "       [6.72917426e-01],\n",
      "       [4.77237910e-01],\n",
      "       [3.53508405e-08],\n",
      "       [4.47768450e-01],\n",
      "       [1.93907961e-01],\n",
      "       [4.76695001e-01],\n",
      "       [4.53402102e-01],\n",
      "       [1.03477021e-06],\n",
      "       [6.06131907e-05],\n",
      "       [2.62147672e-02],\n",
      "       [2.52997037e-02],\n",
      "       [1.89752081e-05],\n",
      "       [1.63605555e-12],\n",
      "       [4.25670035e-02],\n",
      "       [7.81416714e-01],\n",
      "       [1.75141260e-01],\n",
      "       [1.57466650e-01],\n",
      "       [2.07136106e-03],\n",
      "       [1.28408601e-06],\n",
      "       [7.27668055e-18],\n",
      "       [3.40867713e-02],\n",
      "       [9.80519056e-01],\n",
      "       [1.61821805e-02],\n",
      "       [9.88983929e-01],\n",
      "       [9.97459352e-01],\n",
      "       [6.63667626e-04],\n",
      "       [9.95565414e-01],\n",
      "       [2.48672925e-02],\n",
      "       [2.68907868e-03],\n",
      "       [1.06052550e-13],\n",
      "       [4.24312020e-07],\n",
      "       [1.00419693e-01],\n",
      "       [1.58180431e-01],\n",
      "       [2.32344482e-05],\n",
      "       [9.93965328e-01],\n",
      "       [2.21596241e-01],\n",
      "       [6.37898505e-01],\n",
      "       [1.36401321e-10],\n",
      "       [9.10932757e-03],\n",
      "       [3.26089770e-01],\n",
      "       [5.13363397e-03],\n",
      "       [5.09694155e-06],\n",
      "       [2.33516544e-01],\n",
      "       [8.22343349e-01],\n",
      "       [9.99888718e-01],\n",
      "       [2.16211411e-05],\n",
      "       [2.37240229e-07],\n",
      "       [1.12175032e-01],\n",
      "       [1.77848642e-06],\n",
      "       [9.99991715e-01],\n",
      "       [1.25463037e-02],\n",
      "       [8.17202449e-01],\n",
      "       [6.85609818e-01],\n",
      "       [3.35836150e-02],\n",
      "       [9.15133774e-01],\n",
      "       [9.77220833e-01],\n",
      "       [6.79859072e-02],\n",
      "       [2.20817878e-06],\n",
      "       [1.75823729e-08],\n",
      "       [5.06006777e-01],\n",
      "       [2.67753552e-04],\n",
      "       [5.11592567e-01],\n",
      "       [2.49390706e-01],\n",
      "       [5.49847812e-08],\n",
      "       [8.72543752e-01],\n",
      "       [1.05915149e-06],\n",
      "       [6.26642164e-03],\n",
      "       [1.95399498e-05],\n",
      "       [9.82136309e-01],\n",
      "       [1.59033955e-22],\n",
      "       [4.08856266e-07],\n",
      "       [4.44038138e-02],\n",
      "       [1.03979866e-04],\n",
      "       [4.91930630e-09],\n",
      "       [1.31026246e-02],\n",
      "       [5.96477747e-01],\n",
      "       [9.51985538e-01],\n",
      "       [1.75395533e-01],\n",
      "       [8.85864198e-01],\n",
      "       [2.05251069e-07],\n",
      "       [5.90579808e-01],\n",
      "       [9.89454210e-01],\n",
      "       [9.92824554e-01],\n",
      "       [4.75946181e-02],\n",
      "       [6.91850245e-01],\n",
      "       [9.40363109e-03],\n",
      "       [2.86869909e-17],\n",
      "       [1.03215696e-02],\n",
      "       [3.41811150e-01],\n",
      "       [5.37638485e-01],\n",
      "       [9.03607234e-02],\n",
      "       [3.00952286e-01],\n",
      "       [6.92436006e-03],\n",
      "       [3.20934266e-01],\n",
      "       [6.65592730e-01],\n",
      "       [5.04353166e-01],\n",
      "       [2.98878998e-01],\n",
      "       [1.02172035e-05],\n",
      "       [2.59104595e-02],\n",
      "       [7.88088739e-02],\n",
      "       [1.94404185e-13],\n",
      "       [3.52622122e-01],\n",
      "       [9.98655915e-01],\n",
      "       [6.49678946e-01],\n",
      "       [2.82121200e-15],\n",
      "       [6.33410871e-01],\n",
      "       [1.95483312e-01],\n",
      "       [3.42294753e-01],\n",
      "       [5.92327297e-01],\n",
      "       [1.89625325e-06],\n",
      "       [1.18893650e-08],\n",
      "       [1.64613776e-12],\n",
      "       [6.21763647e-01],\n",
      "       [1.76244761e-08],\n",
      "       [7.89933085e-01],\n",
      "       [5.62839773e-07],\n",
      "       [5.46994727e-10],\n",
      "       [3.89242798e-01],\n",
      "       [2.26992220e-01],\n",
      "       [9.89552259e-01],\n",
      "       [1.73434173e-03],\n",
      "       [9.48815703e-01],\n",
      "       [7.29631931e-02],\n",
      "       [7.62158781e-02],\n",
      "       [9.74248920e-04],\n",
      "       [3.77625823e-01],\n",
      "       [2.25523414e-04],\n",
      "       [9.98612583e-01],\n",
      "       [1.15333529e-08],\n",
      "       [5.24523497e-01],\n",
      "       [5.74000217e-02],\n",
      "       [8.98225501e-16],\n",
      "       [2.71633714e-12],\n",
      "       [1.87950507e-01],\n",
      "       [5.22339046e-01],\n",
      "       [2.82369200e-02],\n",
      "       [9.18122609e-12],\n",
      "       [7.17815012e-02],\n",
      "       [2.54769139e-09],\n",
      "       [5.14467438e-08],\n",
      "       [9.99999940e-01],\n",
      "       [4.18203611e-10],\n",
      "       [2.98543479e-09],\n",
      "       [1.76437259e-01],\n",
      "       [6.19791150e-01],\n",
      "       [1.04193441e-05],\n",
      "       [5.15703125e-09],\n",
      "       [3.79864648e-02],\n",
      "       [1.07601570e-15]], dtype=float32)]\n"
     ]
    },
    {
     "data": {
      "text/plain": "<Figure size 640x480 with 2 Axes>",
      "image/png": "[encoded data removed]"
     },
     "metadata": {},
     "output_type": "display_data"
    }
   ],
   "source": [
    "# Generate random input data\n",
    "num_samples = 500\n",
    "input_shape = model.input_shape[1:]\n",
    "x = np.random.normal(size=(num_samples, *input_shape))\n",
    "\n",
    "# Compute intermediate layer activations\n",
    "layer_names = [layer.name for layer in model.layers if 'dense' in layer.name]\n",
    "outputs = [model.get_layer(name).output for name in layer_names]\n",
    "model = tf.keras.models.Model(inputs=model.inputs, outputs=outputs)\n",
    "activations = model.predict(x)\n",
    "\n",
    "print([x.shape for x in activations])\n",
    "print(activations)\n",
    "\n",
    "# Compute pairwise correlations between activations\n",
    "activations_flat = np.concatenate([a.reshape(a.shape[0], -1) for a in activations], axis=1)\n",
    "correlations = np.corrcoef(activations_flat, rowvar=False)\n",
    "\n",
    "# Plot co-activation matrix\n",
    "plt.imshow(correlations, cmap='viridis', aspect='auto')\n",
    "plt.colorbar()\n",
    "plt.title('Co-activation matrix')\n",
    "plt.xticks(np.arange(len(layer_names)), layer_names, rotation=90)\n",
    "plt.yticks(np.arange(len(layer_names)), layer_names)\n",
    "plt.show()"
   ],
   "metadata": {
    "collapsed": false
   }
  },
  {
   "cell_type": "code",
   "execution_count": 137,
   "outputs": [
    {
     "name": "stdout",
     "output_type": "stream",
     "text": [
      "(500, 56)\n",
      "[[ 1.          0.01623125  0.00814658 ...  0.15138298 -0.02699679\n",
      "   0.21538044]\n",
      " [ 0.01623125  1.          0.00245189 ...  0.37862232 -0.46257719\n",
      "   0.6237944 ]\n",
      " [ 0.00814658  0.00245189  1.         ... -0.17745479 -0.16652192\n",
      "   0.02282089]\n",
      " ...\n",
      " [ 0.15138298  0.37862232 -0.17745479 ...  1.         -0.24189721\n",
      "   0.45036055]\n",
      " [-0.02699679 -0.46257719 -0.16652192 ... -0.24189721  1.\n",
      "  -0.28479218]\n",
      " [ 0.21538044  0.6237944   0.02282089 ...  0.45036055 -0.28479218\n",
      "   1.        ]]\n"
     ]
    },
    {
     "data": {
      "text/plain": "<Figure size 1000x1000 with 1 Axes>",
      "image/png": "[encoded data removed]"
     },
     "metadata": {},
     "output_type": "display_data"
    }
   ],
   "source": [
    "import networkx as nx\n",
    "threshold=.75\n",
    "\n",
    "concatenated = np.concatenate(activations, axis=1)\n",
    "print(concatenated.shape)\n",
    "# print(activations)\n",
    "# all_node_activations = np.array((activations))\n",
    "# print(all_node_activations.shape)\n",
    "\n",
    "corr = correlations\n",
    "print(corr)\n",
    "# Create the graph\n",
    "G = nx.Graph()\n",
    "for i in range(corr.shape[0]):\n",
    "    for j in range(i+1, corr.shape[1]):\n",
    "        if abs(corr[i,j]) > threshold:\n",
    "            G.add_edge(i, j, weight=corr[i,j])\n",
    "\n",
    "# Draw the graph\n",
    "fig, ax = plt.subplots(figsize=(10, 10))\n",
    "pos = nx.spring_layout(G, weight='weight')\n",
    "nx.draw_networkx_nodes(G, pos, node_color='r', node_size=50)\n",
    "nx.draw_networkx_labels(G, pos, font_size=8)\n",
    "edges, weights = zip(*nx.get_edge_attributes(G,'weight').items())\n",
    "edges = list(edges)\n",
    "weights = list(weights)\n",
    "edge_colors = ['g' if w > 0 else 'r' for w in weights]\n",
    "edges, weights = zip(*[(edges[i], round(weights[i],1)) for i in range(len(edges)) if abs(weights[i]) >threshold])\n",
    "nx.draw_networkx_edges(G, pos, edgelist=edges, edge_color=edge_colors, width=weights, edge_cmap=plt.cm.coolwarm, )\n",
    "nx.draw_networkx_edge_labels(G, pos, edge_labels=dict(zip(edges, weights)), font_size=8)\n",
    "plt.show()"
   ],
   "metadata": {
    "collapsed": false
   }
  },
  {
   "cell_type": "code",
   "execution_count": null,
   "outputs": [],
   "source": [],
   "metadata": {
    "collapsed": false
   }
  }
 ]
}
