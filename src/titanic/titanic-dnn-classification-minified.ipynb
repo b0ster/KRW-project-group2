{
 "metadata": {
  "kernelspec": {
   "language": "python",
   "display_name": "Python 3",
   "name": "python3"
  },
  "language_info": {
   "pygments_lexer": "ipython3",
   "nbconvert_exporter": "python",
   "version": "3.6.4",
   "file_extension": ".py",
   "codemirror_mode": {
    "name": "ipython",
    "version": 3
   },
   "name": "python",
   "mimetype": "text/x-python"
  }
 },
 "nbformat_minor": 4,
 "nbformat": 4,
 "cells": [
  {
   "cell_type": "markdown",
   "source": [
    "<img src = 'https://media.nationalgeographic.org/assets/photos/000/273/27302_c0-41-990-701_r1050x700.jpg?d4ccf3044d9da0d0118103be3a76bd1319370847' >"
   ],
   "metadata": {}
  },
  {
   "cell_type": "markdown",
   "source": [
    "## Brief Introduction about Titanic Ship\n",
    "Titanic was a British passenger liner operated by the White Star Line that sank in the North Atlantic Ocean in the early morning hours of 15 April 1912, after striking an iceberg during her maiden voyage from Southampton to New York City. Of the estimated 2,224 passengers and crew aboard, more than 1,500 died, making the sinking one of modern history's deadliest peacetime commercial marine disasters.\n",
    "Though there were about 2,224 passengers and crew members, we are given data of about 1,300 passengers. Out of these 1,300 passengers details, about 9000 data is used for training purpose and remaining 400 is used for test purpose. In this competition we are given about 400 test data with missing survived column and we have to use different machine learning algorithms to predict whether the passengers in the test data survived or not.\n",
    "Both training and test data arenot clean(contains lots of missing values), so main goal of this competition is to clean the data and build the model with best accuracy."
   ],
   "metadata": {
    "papermill": {
     "duration": 0.053444,
     "end_time": "2020-12-21T07:56:52.959762",
     "exception": false,
     "start_time": "2020-12-21T07:56:52.906318",
     "status": "completed"
    },
    "tags": []
   }
  },
  {
   "cell_type": "markdown",
   "source": [
    "## Understanding the data\n",
    "\n",
    "\n",
    "\n",
    "Survival : 0 = No, 1 = Yes\n",
    "\n",
    "Pclass : A proxy for socio-economic status (SES) 1st = Upper 2nd = Middle 3rd = Lower\n",
    "\n",
    "sibsp : The # of siblings / spouses aboard the Titanic Sibling = brother, sister, stepbrother, stepsister Spouse = \n",
    "\n",
    "husband, wife (mistresses and fiancés were ignored)\n",
    "\n",
    "parch : The # of parents / children aboard the Titanic Parent = mother, father Child = daughter, son, \n",
    "stepdaughter, stepson Some children travelled only with a nanny, therefore parch=0 for them.\n",
    "\n",
    "Ticket : Ticket number\n",
    "\n",
    "Fare : Passenger fare\n",
    "\n",
    "Cabin : Cabin number embarked\n",
    "\n",
    "Port of Embarkation: C = Cherbourg, Q = Queenstown, S = Southampton\n",
    "\n",
    "Name, Sex , Age are self-explanatory\n",
    "\n"
   ],
   "metadata": {
    "papermill": {
     "duration": 0.051447,
     "end_time": "2020-12-21T07:56:53.065118",
     "exception": false,
     "start_time": "2020-12-21T07:56:53.013671",
     "status": "completed"
    },
    "tags": []
   }
  },
  {
   "cell_type": "markdown",
   "source": [
    "## Importing all necessary libraries\n"
   ],
   "metadata": {
    "collapsed": false
   }
  },
  {
   "cell_type": "code",
   "execution_count": 40,
   "outputs": [
    {
     "name": "stderr",
     "output_type": "stream",
     "text": [
      "UsageError: Line magic function `%` not found.\n"
     ]
    }
   ],
   "source": [
    "import matplotlib.pyplot as plt\n",
    "import numpy as np\n",
    "import pandas as pd\n",
    "import seaborn as sns\n",
    "import enum\n",
    "% matplotlib inline"
   ],
   "metadata": {
    "collapsed": false
   }
  },
  {
   "cell_type": "code",
   "execution_count": 41,
   "outputs": [],
   "source": [
    "class Mode(enum.Enum):\n",
    "    TRAIN = \"TRAIN\"\n",
    "    TEST = \"TEST\""
   ],
   "metadata": {
    "collapsed": false
   }
  },
  {
   "cell_type": "markdown",
   "source": [
    "## Define the current run-mode"
   ],
   "metadata": {
    "collapsed": false
   }
  },
  {
   "cell_type": "code",
   "execution_count": 42,
   "outputs": [],
   "source": [
    "MODE=Mode.TEST"
   ],
   "metadata": {
    "collapsed": false
   }
  },
  {
   "cell_type": "markdown",
   "source": [
    "### Load the data"
   ],
   "metadata": {
    "collapsed": false
   }
  },
  {
   "cell_type": "code",
   "source": [
    "train_data = pd.read_csv('../../input/titanic/train.csv')\n",
    "test_data = pd.read_csv('../../input/titanic/test.csv')"
   ],
   "metadata": {
    "execution": {
     "iopub.execute_input": "2020-12-21T07:56:54.644559Z",
     "iopub.status.busy": "2020-12-21T07:56:54.643797Z",
     "iopub.status.idle": "2020-12-21T07:56:54.670022Z",
     "shell.execute_reply": "2020-12-21T07:56:54.66937Z"
    },
    "papermill": {
     "duration": 0.086845,
     "end_time": "2020-12-21T07:56:54.670163",
     "exception": false,
     "start_time": "2020-12-21T07:56:54.583318",
     "status": "completed"
    },
    "tags": [],
    "trusted": true
   },
   "execution_count": 43,
   "outputs": []
  },
  {
   "cell_type": "markdown",
   "source": [
    "# Dealing with the Missing values"
   ],
   "metadata": {
    "papermill": {
     "duration": 0.066832,
     "end_time": "2020-12-21T07:57:04.129072",
     "exception": false,
     "start_time": "2020-12-21T07:57:04.06224",
     "status": "completed"
    },
    "tags": []
   }
  },
  {
   "cell_type": "code",
   "source": [
    "# before filling the missing values, let's drop Cabin column from both data.\n",
    "train_data.drop('Cabin', axis=1, inplace=True)\n",
    "test_data.drop('Cabin', axis=1, inplace=True)"
   ],
   "metadata": {
    "execution": {
     "iopub.execute_input": "2020-12-21T07:57:04.271348Z",
     "iopub.status.busy": "2020-12-21T07:57:04.270271Z",
     "iopub.status.idle": "2020-12-21T07:57:04.273478Z",
     "shell.execute_reply": "2020-12-21T07:57:04.27284Z"
    },
    "papermill": {
     "duration": 0.078106,
     "end_time": "2020-12-21T07:57:04.27359",
     "exception": false,
     "start_time": "2020-12-21T07:57:04.195484",
     "status": "completed"
    },
    "tags": [],
    "trusted": true
   },
   "execution_count": 44,
   "outputs": []
  },
  {
   "cell_type": "code",
   "source": [
    "combined_data = [train_data, test_data]\n",
    "for data in combined_data:\n",
    "    print(data.isnull().sum())\n",
    "    print('*' * 20)"
   ],
   "metadata": {
    "execution": {
     "iopub.execute_input": "2020-12-21T07:57:04.419004Z",
     "iopub.status.busy": "2020-12-21T07:57:04.416279Z",
     "iopub.status.idle": "2020-12-21T07:57:04.423155Z",
     "shell.execute_reply": "2020-12-21T07:57:04.423645Z"
    },
    "papermill": {
     "duration": 0.083703,
     "end_time": "2020-12-21T07:57:04.423807",
     "exception": false,
     "start_time": "2020-12-21T07:57:04.340104",
     "status": "completed"
    },
    "tags": [],
    "trusted": true
   },
   "execution_count": 45,
   "outputs": [
    {
     "name": "stdout",
     "output_type": "stream",
     "text": [
      "PassengerId      0\n",
      "Survived         0\n",
      "Pclass           0\n",
      "Name             0\n",
      "Sex              0\n",
      "Age            177\n",
      "SibSp            0\n",
      "Parch            0\n",
      "Ticket           0\n",
      "Fare             0\n",
      "Embarked         2\n",
      "dtype: int64\n",
      "********************\n",
      "PassengerId     0\n",
      "Pclass          0\n",
      "Name            0\n",
      "Sex             0\n",
      "Age            86\n",
      "SibSp           0\n",
      "Parch           0\n",
      "Ticket          0\n",
      "Fare            1\n",
      "Embarked        0\n",
      "dtype: int64\n",
      "********************\n"
     ]
    }
   ]
  },
  {
   "cell_type": "code",
   "source": [
    "# filling the nan values fo Age and fare column with the mean while Embarked column with most_frequent value\n",
    "for data in combined_data:\n",
    "    data.Age.fillna(data.Age.mean(), inplace=True)\n",
    "    data.Fare.fillna(data.Fare.mean(), inplace=True)\n",
    "\n",
    "# from visualization we know that Southamptom is most frequent Embarked place so, filling the missing value \n",
    "# with 'S'\n",
    "train_data.Embarked.fillna('S', inplace=True)"
   ],
   "metadata": {
    "execution": {
     "iopub.execute_input": "2020-12-21T07:57:04.569428Z",
     "iopub.status.busy": "2020-12-21T07:57:04.56868Z",
     "iopub.status.idle": "2020-12-21T07:57:04.57178Z",
     "shell.execute_reply": "2020-12-21T07:57:04.571229Z"
    },
    "papermill": {
     "duration": 0.080426,
     "end_time": "2020-12-21T07:57:04.571922",
     "exception": false,
     "start_time": "2020-12-21T07:57:04.491496",
     "status": "completed"
    },
    "tags": [],
    "trusted": true
   },
   "execution_count": 46,
   "outputs": []
  },
  {
   "cell_type": "markdown",
   "source": [
    "## Converting a categorical feature¶\n",
    "\n"
   ],
   "metadata": {
    "papermill": {
     "duration": 0.069996,
     "end_time": "2020-12-21T07:57:04.709231",
     "exception": false,
     "start_time": "2020-12-21T07:57:04.639235",
     "status": "completed"
    },
    "tags": []
   }
  },
  {
   "cell_type": "markdown",
   "source": [
    "##### Let's  start by converting Sex feature to categorical  female=1 and male=0"
   ],
   "metadata": {
    "papermill": {
     "duration": 0.071328,
     "end_time": "2020-12-21T07:57:04.849133",
     "exception": false,
     "start_time": "2020-12-21T07:57:04.777805",
     "status": "completed"
    },
    "tags": []
   }
  },
  {
   "cell_type": "code",
   "source": [
    "def change_gender(x):\n",
    "    if x == 'male':\n",
    "        return 0\n",
    "    elif x == 'female':\n",
    "        return 1\n",
    "\n",
    "\n",
    "train_data.Sex = train_data.Sex.apply(change_gender)\n",
    "test_data.Sex = test_data.Sex.apply(change_gender)"
   ],
   "metadata": {
    "execution": {
     "iopub.execute_input": "2020-12-21T07:57:04.996686Z",
     "iopub.status.busy": "2020-12-21T07:57:04.995975Z",
     "iopub.status.idle": "2020-12-21T07:57:04.999068Z",
     "shell.execute_reply": "2020-12-21T07:57:04.998381Z"
    },
    "papermill": {
     "duration": 0.082728,
     "end_time": "2020-12-21T07:57:04.999192",
     "exception": false,
     "start_time": "2020-12-21T07:57:04.916464",
     "status": "completed"
    },
    "tags": [],
    "trusted": true
   },
   "execution_count": 47,
   "outputs": []
  },
  {
   "cell_type": "markdown",
   "source": [
    "**using map funcion to change the Embarked column S = 1, C = 2, Q = 0**"
   ],
   "metadata": {
    "papermill": {
     "duration": 0.067891,
     "end_time": "2020-12-21T07:57:05.135267",
     "exception": false,
     "start_time": "2020-12-21T07:57:05.067376",
     "status": "completed"
    },
    "tags": []
   }
  },
  {
   "cell_type": "code",
   "source": [
    "change = {'S': 1, 'C': 2, 'Q': 0}\n",
    "train_data.Embarked = train_data.Embarked.map(change)\n",
    "test_data.Embarked = test_data.Embarked.map(change)"
   ],
   "metadata": {
    "execution": {
     "iopub.execute_input": "2020-12-21T07:57:05.279529Z",
     "iopub.status.busy": "2020-12-21T07:57:05.278788Z",
     "iopub.status.idle": "2020-12-21T07:57:05.282219Z",
     "shell.execute_reply": "2020-12-21T07:57:05.282708Z"
    },
    "papermill": {
     "duration": 0.07998,
     "end_time": "2020-12-21T07:57:05.282878",
     "exception": false,
     "start_time": "2020-12-21T07:57:05.202898",
     "status": "completed"
    },
    "tags": [],
    "trusted": true
   },
   "execution_count": 48,
   "outputs": []
  },
  {
   "cell_type": "markdown",
   "source": [
    "# Feature Extraction\n"
   ],
   "metadata": {
    "papermill": {
     "duration": 0.066673,
     "end_time": "2020-12-21T07:57:05.416804",
     "exception": false,
     "start_time": "2020-12-21T07:57:05.350131",
     "status": "completed"
    },
    "tags": []
   }
  },
  {
   "cell_type": "markdown",
   "source": [
    "while visualizing the correlation heatmap we came to know that Sibsp and Parch columns were closely related \n",
    "so lets created new column called Alone using this two columns\n",
    "-------> 1 = Alone , 0 = not Alone"
   ],
   "metadata": {
    "papermill": {
     "duration": 0.067828,
     "end_time": "2020-12-21T07:57:05.55123",
     "exception": false,
     "start_time": "2020-12-21T07:57:05.483402",
     "status": "completed"
    },
    "tags": []
   }
  },
  {
   "cell_type": "code",
   "source": [
    "train_data['Alone'] = train_data.SibSp + train_data.Parch\n",
    "test_data['Alone'] = test_data.SibSp + test_data.Parch\n",
    "\n",
    "train_data.Alone = train_data.Alone.apply(lambda x: 1 if x == 0 else 0)\n",
    "test_data.Alone = test_data.Alone.apply(lambda x: 1 if x == 0 else 0)"
   ],
   "metadata": {
    "execution": {
     "iopub.execute_input": "2020-12-21T07:57:05.701119Z",
     "iopub.status.busy": "2020-12-21T07:57:05.700033Z",
     "iopub.status.idle": "2020-12-21T07:57:05.703792Z",
     "shell.execute_reply": "2020-12-21T07:57:05.703246Z"
    },
    "papermill": {
     "duration": 0.08468,
     "end_time": "2020-12-21T07:57:05.703931",
     "exception": false,
     "start_time": "2020-12-21T07:57:05.619251",
     "status": "completed"
    },
    "tags": [],
    "trusted": true
   },
   "execution_count": 49,
   "outputs": []
  },
  {
   "cell_type": "code",
   "source": [
    "# now lets drop SibSp and Parch column for both training and testing data\n",
    "train_data.drop(['SibSp', 'Parch'], axis=1, inplace=True)\n",
    "test_data.drop(['SibSp', 'Parch'], axis=1, inplace=True)"
   ],
   "metadata": {
    "execution": {
     "iopub.execute_input": "2020-12-21T07:57:05.847462Z",
     "iopub.status.busy": "2020-12-21T07:57:05.845345Z",
     "iopub.status.idle": "2020-12-21T07:57:05.853039Z",
     "shell.execute_reply": "2020-12-21T07:57:05.85245Z"
    },
    "papermill": {
     "duration": 0.080952,
     "end_time": "2020-12-21T07:57:05.853155",
     "exception": false,
     "start_time": "2020-12-21T07:57:05.772203",
     "status": "completed"
    },
    "tags": [],
    "trusted": true
   },
   "execution_count": 50,
   "outputs": []
  },
  {
   "cell_type": "markdown",
   "source": [
    "# Creating new feature Title extracting from existing feature Name\n"
   ],
   "metadata": {
    "papermill": {
     "duration": 0.067763,
     "end_time": "2020-12-21T07:57:05.991054",
     "exception": false,
     "start_time": "2020-12-21T07:57:05.923291",
     "status": "completed"
    },
    "tags": []
   }
  },
  {
   "cell_type": "code",
   "source": [
    "train_data.Name.str.extract(' ([A-Za-z]+)\\.', expand=False).unique().size"
   ],
   "metadata": {
    "execution": {
     "iopub.execute_input": "2020-12-21T07:57:06.136118Z",
     "iopub.status.busy": "2020-12-21T07:57:06.135394Z",
     "iopub.status.idle": "2020-12-21T07:57:06.139772Z",
     "shell.execute_reply": "2020-12-21T07:57:06.140326Z"
    },
    "papermill": {
     "duration": 0.080552,
     "end_time": "2020-12-21T07:57:06.140481",
     "exception": false,
     "start_time": "2020-12-21T07:57:06.059929",
     "status": "completed"
    },
    "tags": [],
    "trusted": true
   },
   "execution_count": 51,
   "outputs": [
    {
     "data": {
      "text/plain": "17"
     },
     "execution_count": 51,
     "metadata": {},
     "output_type": "execute_result"
    }
   ]
  },
  {
   "cell_type": "code",
   "source": [
    "# lets create the Title feature which contain the title of the passenger and drop Name column\n",
    "for data in combined_data:\n",
    "    data['Title'] = data.Name.str.extract('([A-Za-z]+)\\.', expand=False)\n",
    "    data.drop('Name', axis=1, inplace=True)"
   ],
   "metadata": {
    "execution": {
     "iopub.execute_input": "2020-12-21T07:57:06.292081Z",
     "iopub.status.busy": "2020-12-21T07:57:06.291343Z",
     "iopub.status.idle": "2020-12-21T07:57:06.295023Z",
     "shell.execute_reply": "2020-12-21T07:57:06.294485Z"
    },
    "papermill": {
     "duration": 0.086855,
     "end_time": "2020-12-21T07:57:06.295143",
     "exception": false,
     "start_time": "2020-12-21T07:57:06.208288",
     "status": "completed"
    },
    "tags": [],
    "trusted": true
   },
   "execution_count": 52,
   "outputs": []
  },
  {
   "cell_type": "code",
   "source": [
    "train_data.Title.value_counts()"
   ],
   "metadata": {
    "execution": {
     "iopub.execute_input": "2020-12-21T07:57:06.439131Z",
     "iopub.status.busy": "2020-12-21T07:57:06.438402Z",
     "iopub.status.idle": "2020-12-21T07:57:06.441369Z",
     "shell.execute_reply": "2020-12-21T07:57:06.442071Z"
    },
    "papermill": {
     "duration": 0.079029,
     "end_time": "2020-12-21T07:57:06.442215",
     "exception": false,
     "start_time": "2020-12-21T07:57:06.363186",
     "status": "completed"
    },
    "tags": [],
    "trusted": true
   },
   "execution_count": 53,
   "outputs": [
    {
     "data": {
      "text/plain": "Mr          517\nMiss        182\nMrs         125\nMaster       40\nDr            7\nRev           6\nMlle          2\nMajor         2\nCol           2\nCountess      1\nCapt          1\nMs            1\nSir           1\nLady          1\nMme           1\nDon           1\nJonkheer      1\nName: Title, dtype: int64"
     },
     "execution_count": 53,
     "metadata": {},
     "output_type": "execute_result"
    }
   ]
  },
  {
   "cell_type": "code",
   "source": [
    "test_data.Title.unique()"
   ],
   "metadata": {
    "execution": {
     "iopub.execute_input": "2020-12-21T07:57:06.582638Z",
     "iopub.status.busy": "2020-12-21T07:57:06.581991Z",
     "iopub.status.idle": "2020-12-21T07:57:06.58968Z",
     "shell.execute_reply": "2020-12-21T07:57:06.589127Z"
    },
    "papermill": {
     "duration": 0.079904,
     "end_time": "2020-12-21T07:57:06.589802",
     "exception": false,
     "start_time": "2020-12-21T07:57:06.509898",
     "status": "completed"
    },
    "tags": [],
    "trusted": true
   },
   "execution_count": 54,
   "outputs": [
    {
     "data": {
      "text/plain": "array(['Mr', 'Mrs', 'Miss', 'Master', 'Ms', 'Col', 'Rev', 'Dr', 'Dona'],\n      dtype=object)"
     },
     "execution_count": 54,
     "metadata": {},
     "output_type": "execute_result"
    }
   ]
  },
  {
   "cell_type": "code",
   "source": [
    "#lets replace least occuring title in the data with rare\n",
    "least_occuring = ['Don', 'Rev', 'Dr', 'Mme', 'Ms',\n",
    "                  'Major', 'Lady', 'Sir', 'Mlle', 'Col', 'Capt', 'Countess', 'Dona',\n",
    "                  'Jonkheer']\n",
    "for data in combined_data:\n",
    "    data.Title = data.Title.replace(least_occuring, 'Rare')"
   ],
   "metadata": {
    "execution": {
     "iopub.execute_input": "2020-12-21T07:57:06.737835Z",
     "iopub.status.busy": "2020-12-21T07:57:06.737158Z",
     "iopub.status.idle": "2020-12-21T07:57:06.739305Z",
     "shell.execute_reply": "2020-12-21T07:57:06.739785Z"
    },
    "papermill": {
     "duration": 0.081614,
     "end_time": "2020-12-21T07:57:06.739948",
     "exception": false,
     "start_time": "2020-12-21T07:57:06.658334",
     "status": "completed"
    },
    "scrolled": true,
    "tags": [],
    "trusted": true
   },
   "execution_count": 55,
   "outputs": []
  },
  {
   "cell_type": "code",
   "source": [
    "# lets perform title mapping in order to change to ordinal\n",
    "title_mapping = {\"Mr\": 1, \"Miss\": 2, \"Mrs\": 3, \"Master\": 4, \"Rare\": 5}\n",
    "for data in combined_data:\n",
    "    data['Title'] = data['Title'].map(title_mapping)"
   ],
   "metadata": {
    "execution": {
     "iopub.execute_input": "2020-12-21T07:57:06.884786Z",
     "iopub.status.busy": "2020-12-21T07:57:06.883547Z",
     "iopub.status.idle": "2020-12-21T07:57:06.892479Z",
     "shell.execute_reply": "2020-12-21T07:57:06.89164Z"
    },
    "papermill": {
     "duration": 0.084546,
     "end_time": "2020-12-21T07:57:06.892607",
     "exception": false,
     "start_time": "2020-12-21T07:57:06.808061",
     "status": "completed"
    },
    "tags": [],
    "trusted": true
   },
   "execution_count": 56,
   "outputs": []
  },
  {
   "cell_type": "markdown",
   "source": [
    "# Dropping PassengerId and Ticket column"
   ],
   "metadata": {
    "papermill": {
     "duration": 0.080767,
     "end_time": "2020-12-21T07:57:07.057158",
     "exception": false,
     "start_time": "2020-12-21T07:57:06.976391",
     "status": "completed"
    },
    "tags": []
   }
  },
  {
   "cell_type": "code",
   "source": [
    "columns_to_drop = ['PassengerId', 'Ticket']\n",
    "train_data.drop(columns_to_drop, axis=1, inplace=True)\n",
    "test_data.drop(columns_to_drop[1], axis=1, inplace=True)"
   ],
   "metadata": {
    "execution": {
     "iopub.execute_input": "2020-12-21T07:57:07.198204Z",
     "iopub.status.busy": "2020-12-21T07:57:07.197136Z",
     "iopub.status.idle": "2020-12-21T07:57:07.206713Z",
     "shell.execute_reply": "2020-12-21T07:57:07.206079Z"
    },
    "papermill": {
     "duration": 0.080969,
     "end_time": "2020-12-21T07:57:07.206845",
     "exception": false,
     "start_time": "2020-12-21T07:57:07.125876",
     "status": "completed"
    },
    "tags": [],
    "trusted": true
   },
   "execution_count": 57,
   "outputs": []
  },
  {
   "cell_type": "markdown",
   "source": [
    "## Binning Age and Fare columns"
   ],
   "metadata": {
    "papermill": {
     "duration": 0.0677,
     "end_time": "2020-12-21T07:57:07.343585",
     "exception": false,
     "start_time": "2020-12-21T07:57:07.275885",
     "status": "completed"
    },
    "tags": []
   }
  },
  {
   "cell_type": "code",
   "source": [
    "for dataset in combined_data:\n",
    "    dataset.loc[dataset['Age'] <= 16, 'Age'] = 0\n",
    "    dataset.loc[(dataset['Age'] > 16) & (dataset['Age'] <= 32), 'Age'] = 1\n",
    "    dataset.loc[(dataset['Age'] > 32) & (dataset['Age'] <= 48), 'Age'] = 2\n",
    "    dataset.loc[(dataset['Age'] > 48) & (dataset['Age'] <= 64), 'Age'] = 3\n",
    "    dataset.loc[dataset['Age'] > 64, 'Age'] = 4"
   ],
   "metadata": {
    "execution": {
     "iopub.execute_input": "2020-12-21T07:57:07.483921Z",
     "iopub.status.busy": "2020-12-21T07:57:07.482886Z",
     "iopub.status.idle": "2020-12-21T07:57:07.500761Z",
     "shell.execute_reply": "2020-12-21T07:57:07.501382Z"
    },
    "papermill": {
     "duration": 0.089721,
     "end_time": "2020-12-21T07:57:07.501533",
     "exception": false,
     "start_time": "2020-12-21T07:57:07.411812",
     "status": "completed"
    },
    "tags": [],
    "trusted": true
   },
   "execution_count": 58,
   "outputs": []
  },
  {
   "cell_type": "code",
   "source": [
    "for data in combined_data:\n",
    "    data.loc[data['Fare'] < 30, 'Fare'] = 1\n",
    "    data.loc[(data['Fare'] >= 30) & (data['Fare'] < 50), 'Fare'] = 2\n",
    "    data.loc[(data['Fare'] >= 50) & (data['Fare'] < 100), 'Fare'] = 3\n",
    "    data.loc[(data['Fare'] >= 100), 'Fare'] = 4"
   ],
   "metadata": {
    "execution": {
     "iopub.execute_input": "2020-12-21T07:57:07.64397Z",
     "iopub.status.busy": "2020-12-21T07:57:07.642953Z",
     "iopub.status.idle": "2020-12-21T07:57:07.657071Z",
     "shell.execute_reply": "2020-12-21T07:57:07.657572Z"
    },
    "papermill": {
     "duration": 0.087047,
     "end_time": "2020-12-21T07:57:07.657748",
     "exception": false,
     "start_time": "2020-12-21T07:57:07.570701",
     "status": "completed"
    },
    "tags": [],
    "trusted": true
   },
   "execution_count": 59,
   "outputs": []
  },
  {
   "cell_type": "code",
   "source": [
    "corr_train = train_data.corr()\n",
    "sns.heatmap(corr_train)\n",
    "plt.show()"
   ],
   "metadata": {
    "trusted": true
   },
   "execution_count": 60,
   "outputs": [
    {
     "data": {
      "text/plain": "<Figure size 640x480 with 2 Axes>",
      "image/png": "[encoded data removed]"
     },
     "metadata": {},
     "output_type": "display_data"
    }
   ]
  },
  {
   "cell_type": "markdown",
   "source": [
    "# preparing training and testing data"
   ],
   "metadata": {
    "papermill": {
     "duration": 0.069583,
     "end_time": "2020-12-21T07:57:07.798284",
     "exception": false,
     "start_time": "2020-12-21T07:57:07.728701",
     "status": "completed"
    },
    "tags": []
   }
  },
  {
   "cell_type": "code",
   "source": [
    "X_train = train_data.drop(\"Survived\", axis=1)\n",
    "Y_train = train_data[\"Survived\"]\n",
    "X_test = test_data.drop(\"PassengerId\", axis=1)"
   ],
   "metadata": {
    "execution": {
     "iopub.execute_input": "2020-12-21T07:57:07.946351Z",
     "iopub.status.busy": "2020-12-21T07:57:07.945639Z",
     "iopub.status.idle": "2020-12-21T07:57:07.952802Z",
     "shell.execute_reply": "2020-12-21T07:57:07.95181Z"
    },
    "papermill": {
     "duration": 0.085601,
     "end_time": "2020-12-21T07:57:07.952993",
     "exception": false,
     "start_time": "2020-12-21T07:57:07.867392",
     "status": "completed"
    },
    "tags": [],
    "trusted": true
   },
   "execution_count": 61,
   "outputs": []
  },
  {
   "cell_type": "markdown",
   "source": [
    "# Neural Network\n",
    "<img src = 'https://i.imgur.com/mIsGh53.jpg'>"
   ],
   "metadata": {}
  },
  {
   "cell_type": "markdown",
   "source": [
    "## Import necessary libraries"
   ],
   "metadata": {}
  },
  {
   "cell_type": "code",
   "source": [
    "import tensorflow as tf\n",
    "from keras.layers import Dense, Dropout\n",
    "from keras.models import Sequential"
   ],
   "metadata": {
    "trusted": true
   },
   "execution_count": 62,
   "outputs": []
  },
  {
   "cell_type": "markdown",
   "source": [
    "## Defining model\n",
    "Here, I have used different number of neurons for each layer and different value for dropout. You can play with these hyperparameter for better outut."
   ],
   "metadata": {}
  },
  {
   "cell_type": "code",
   "execution_count": 63,
   "outputs": [],
   "source": [
    "def make_model():\n",
    "    model = Sequential()\n",
    "    model.add(Dense(units=32, input_shape=(7,), activation='relu'))\n",
    "    model.add(Dense(units=64, activation='relu', kernel_initializer='he_normal', use_bias=False))\n",
    "    model.add(tf.keras.layers.BatchNormalization())\n",
    "    model.add(Dense(units=128, activation='relu', kernel_initializer='he_normal', use_bias=False))\n",
    "    model.add(Dropout(0.1))\n",
    "    model.add(Dense(units=64, activation='relu', kernel_initializer='he_normal', use_bias=False))\n",
    "    model.add(Dropout(0.1))\n",
    "    model.add(Dense(units=32, activation='relu'))\n",
    "    model.add(Dropout(0.15))\n",
    "    model.add(Dense(units=16, activation='relu'))\n",
    "    model.add(Dense(units=8, activation='relu', kernel_initializer='he_normal', use_bias=False))\n",
    "    model.add(Dense(units=1, activation='sigmoid'))\n",
    "    return model\n",
    "\n",
    "\n",
    "model = make_model()"
   ],
   "metadata": {
    "collapsed": false
   }
  },
  {
   "cell_type": "markdown",
   "source": [
    "### Model summary"
   ],
   "metadata": {
    "collapsed": false
   }
  },
  {
   "cell_type": "code",
   "source": [
    "model.summary()"
   ],
   "metadata": {
    "trusted": true
   },
   "execution_count": 64,
   "outputs": [
    {
     "name": "stdout",
     "output_type": "stream",
     "text": [
      "Model: \"sequential_3\"\n",
      "_________________________________________________________________\n",
      " Layer (type)                Output Shape              Param #   \n",
      "=================================================================\n",
      " dense_24 (Dense)            (None, 32)                256       \n",
      "                                                                 \n",
      " dense_25 (Dense)            (None, 64)                2048      \n",
      "                                                                 \n",
      " batch_normalization_3 (Batc  (None, 64)               256       \n",
      " hNormalization)                                                 \n",
      "                                                                 \n",
      " dense_26 (Dense)            (None, 128)               8192      \n",
      "                                                                 \n",
      " dropout_9 (Dropout)         (None, 128)               0         \n",
      "                                                                 \n",
      " dense_27 (Dense)            (None, 64)                8192      \n",
      "                                                                 \n",
      " dropout_10 (Dropout)        (None, 64)                0         \n",
      "                                                                 \n",
      " dense_28 (Dense)            (None, 32)                2080      \n",
      "                                                                 \n",
      " dropout_11 (Dropout)        (None, 32)                0         \n",
      "                                                                 \n",
      " dense_29 (Dense)            (None, 16)                528       \n",
      "                                                                 \n",
      " dense_30 (Dense)            (None, 8)                 128       \n",
      "                                                                 \n",
      " dense_31 (Dense)            (None, 1)                 9         \n",
      "                                                                 \n",
      "=================================================================\n",
      "Total params: 21,689\n",
      "Trainable params: 21,561\n",
      "Non-trainable params: 128\n",
      "_________________________________________________________________\n"
     ]
    }
   ]
  },
  {
   "cell_type": "markdown",
   "source": [
    "## Compiling and fitting model"
   ],
   "metadata": {}
  },
  {
   "cell_type": "code",
   "source": [
    "if MODE == Mode.TRAIN:\n",
    "    model.compile(loss=tf.keras.losses.binary_crossentropy, optimizer=tf.keras.optimizers.Adam(), metrics=['acc'])\n",
    "    model.fit(X_train, Y_train, batch_size=32, verbose=2, epochs=100)\n",
    "    model.save('../../output/titanic/models/')\n",
    "else:\n",
    "    model.load_weights('../../output/titanic/models')"
   ],
   "metadata": {
    "trusted": true
   },
   "execution_count": 65,
   "outputs": []
  },
  {
   "cell_type": "markdown",
   "source": [
    "**Prediction for test data**"
   ],
   "metadata": {
    "papermill": {
     "duration": 0.089203,
     "end_time": "2020-12-21T07:57:19.415297",
     "exception": false,
     "start_time": "2020-12-21T07:57:19.326094",
     "status": "completed"
    },
    "tags": []
   }
  },
  {
   "cell_type": "code",
   "source": [
    "predict = model.predict(X_test)\n",
    "predict = (predict > 0.5).astype(int).ravel()"
   ],
   "metadata": {
    "execution": {
     "iopub.execute_input": "2020-12-21T07:57:19.602158Z",
     "iopub.status.busy": "2020-12-21T07:57:19.601033Z",
     "iopub.status.idle": "2020-12-21T07:57:19.754567Z",
     "shell.execute_reply": "2020-12-21T07:57:19.753945Z"
    },
    "papermill": {
     "duration": 0.250125,
     "end_time": "2020-12-21T07:57:19.754696",
     "exception": false,
     "start_time": "2020-12-21T07:57:19.504571",
     "status": "completed"
    },
    "tags": [],
    "trusted": true
   },
   "execution_count": 66,
   "outputs": [
    {
     "name": "stdout",
     "output_type": "stream",
     "text": [
      "14/14 [==============================] - 0s 1ms/step\n"
     ]
    }
   ]
  },
  {
   "cell_type": "markdown",
   "source": [
    "# For submission"
   ],
   "metadata": {
    "papermill": {
     "duration": 0.090122,
     "end_time": "2020-12-21T07:57:19.936582",
     "exception": false,
     "start_time": "2020-12-21T07:57:19.84646",
     "status": "completed"
    },
    "tags": []
   }
  },
  {
   "cell_type": "code",
   "source": [
    "submit = pd.DataFrame({\"PassengerId\": test_data.PassengerId, 'Survived': predict})\n",
    "submit.to_csv(\"../../output/titanic/death_prediction_per_passenger.csv\", index=False)"
   ],
   "metadata": {
    "execution": {
     "iopub.execute_input": "2020-12-21T07:57:20.126638Z",
     "iopub.status.busy": "2020-12-21T07:57:20.125949Z",
     "iopub.status.idle": "2020-12-21T07:57:20.382913Z",
     "shell.execute_reply": "2020-12-21T07:57:20.382298Z"
    },
    "papermill": {
     "duration": 0.354566,
     "end_time": "2020-12-21T07:57:20.383039",
     "exception": false,
     "start_time": "2020-12-21T07:57:20.028473",
     "status": "completed"
    },
    "tags": [],
    "trusted": true
   },
   "execution_count": 67,
   "outputs": []
  },
  {
   "cell_type": "code",
   "source": [
    "from sklearn import metrics\n",
    "\n",
    "Y_pred_rand = (model.predict(X_train) > 0.5).astype(int)\n",
    "print('Precision : ', np.round(metrics.precision_score(Y_train, Y_pred_rand) * 100, 2))\n",
    "print('Accuracy : ', np.round(metrics.accuracy_score(Y_train, Y_pred_rand) * 100, 2))\n",
    "print('Recall : ', np.round(metrics.recall_score(Y_train, Y_pred_rand) * 100, 2))\n",
    "print('F1 score : ', np.round(metrics.f1_score(Y_train, Y_pred_rand) * 100, 2))\n",
    "print('AUC : ', np.round(metrics.roc_auc_score(Y_train, Y_pred_rand) * 100, 2))"
   ],
   "metadata": {
    "execution": {
     "iopub.execute_input": "2020-12-21T07:57:20.572441Z",
     "iopub.status.busy": "2020-12-21T07:57:20.571367Z",
     "iopub.status.idle": "2020-12-21T07:57:20.651419Z",
     "shell.execute_reply": "2020-12-21T07:57:20.65087Z"
    },
    "papermill": {
     "duration": 0.179237,
     "end_time": "2020-12-21T07:57:20.651541",
     "exception": false,
     "start_time": "2020-12-21T07:57:20.472304",
     "status": "completed"
    },
    "tags": [],
    "trusted": true
   },
   "execution_count": 68,
   "outputs": [
    {
     "name": "stdout",
     "output_type": "stream",
     "text": [
      "28/28 [==============================] - 0s 578us/step\n",
      "Precision :  86.76\n",
      "Accuracy :  85.3\n",
      "Recall :  72.81\n",
      "F1 score :  79.17\n",
      "AUC :  82.94\n"
     ]
    }
   ]
  },
  {
   "cell_type": "code",
   "source": [
    "# plotting the confusion matrix in heatmap\n",
    "matrix = metrics.confusion_matrix(Y_train, Y_pred_rand)\n",
    "sns.heatmap(matrix, annot=True, fmt='g')\n",
    "plt.show()"
   ],
   "metadata": {
    "execution": {
     "iopub.execute_input": "2020-12-21T07:57:20.841145Z",
     "iopub.status.busy": "2020-12-21T07:57:20.840338Z",
     "iopub.status.idle": "2020-12-21T07:57:21.030101Z",
     "shell.execute_reply": "2020-12-21T07:57:21.030647Z"
    },
    "papermill": {
     "duration": 0.286179,
     "end_time": "2020-12-21T07:57:21.030791",
     "exception": false,
     "start_time": "2020-12-21T07:57:20.744612",
     "status": "completed"
    },
    "tags": [],
    "trusted": true
   },
   "execution_count": 69,
   "outputs": [
    {
     "data": {
      "text/plain": "<Figure size 640x480 with 2 Axes>",
      "image/png": "[encoded data removed]"
     },
     "metadata": {},
     "output_type": "display_data"
    }
   ]
  },
  {
   "cell_type": "code",
   "execution_count": null,
   "outputs": [],
   "source": [],
   "metadata": {
    "collapsed": false
   }
  }
 ]
}
