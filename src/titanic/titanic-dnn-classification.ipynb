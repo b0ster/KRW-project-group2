{
 "metadata": {
  "kernelspec": {
   "language": "python",
   "display_name": "Python 3",
   "name": "python3"
  },
  "language_info": {
   "pygments_lexer": "ipython3",
   "nbconvert_exporter": "python",
   "version": "3.6.4",
   "file_extension": ".py",
   "codemirror_mode": {
    "name": "ipython",
    "version": 3
   },
   "name": "python",
   "mimetype": "text/x-python"
  }
 },
 "nbformat_minor": 4,
 "nbformat": 4,
 "cells": [
  {
   "cell_type": "markdown",
   "source": [
    "<img src = 'https://media.nationalgeographic.org/assets/photos/000/273/27302_c0-41-990-701_r1050x700.jpg?d4ccf3044d9da0d0118103be3a76bd1319370847' >"
   ],
   "metadata": {}
  },
  {
   "cell_type": "markdown",
   "source": [
    "## Brief Introduction about Titanic Ship\n",
    "Titanic was a British passenger liner operated by the White Star Line that sank in the North Atlantic Ocean in the early morning hours of 15 April 1912, after striking an iceberg during her maiden voyage from Southampton to New York City. Of the estimated 2,224 passengers and crew aboard, more than 1,500 died, making the sinking one of modern history's deadliest peacetime commercial marine disasters.\n",
    "Though there were about 2,224 passengers and crew members, we are given data of about 1,300 passengers. Out of these 1,300 passengers details, about 9000 data is used for training purpose and remaining 400 is used for test purpose. In this competition we are given about 400 test data with missing survived column and we have to use different machine learning algorithms to predict whether the passengers in the test data survived or not.\n",
    "Both training and test data arenot clean(contains lots of missing values), so main goal of this competition is to clean the data and build the model with best accuracy."
   ],
   "metadata": {
    "papermill": {
     "duration": 0.053444,
     "end_time": "2020-12-21T07:56:52.959762",
     "exception": false,
     "start_time": "2020-12-21T07:56:52.906318",
     "status": "completed"
    },
    "tags": []
   }
  },
  {
   "cell_type": "markdown",
   "source": [
    "## Understanding the data\n",
    "\n",
    "\n",
    "\n",
    "Survival : 0 = No, 1 = Yes\n",
    "\n",
    "Pclass : A proxy for socio-economic status (SES) 1st = Upper 2nd = Middle 3rd = Lower\n",
    "\n",
    "sibsp : The # of siblings / spouses aboard the Titanic Sibling = brother, sister, stepbrother, stepsister Spouse = \n",
    "\n",
    "husband, wife (mistresses and fiancés were ignored)\n",
    "\n",
    "parch : The # of parents / children aboard the Titanic Parent = mother, father Child = daughter, son, \n",
    "stepdaughter, stepson Some children travelled only with a nanny, therefore parch=0 for them.\n",
    "\n",
    "Ticket : Ticket number\n",
    "\n",
    "Fare : Passenger fare\n",
    "\n",
    "Cabin : Cabin number embarked\n",
    "\n",
    "Port of Embarkation: C = Cherbourg, Q = Queenstown, S = Southampton\n",
    "\n",
    "Name, Sex , Age are self-explanatory\n",
    "\n"
   ],
   "metadata": {
    "papermill": {
     "duration": 0.051447,
     "end_time": "2020-12-21T07:56:53.065118",
     "exception": false,
     "start_time": "2020-12-21T07:56:53.013671",
     "status": "completed"
    },
    "tags": []
   }
  },
  {
   "cell_type": "markdown",
   "source": [
    "## Importing all necessary libraries\n"
   ],
   "metadata": {
    "papermill": {
     "duration": 0.052375,
     "end_time": "2020-12-21T07:56:53.171006",
     "exception": false,
     "start_time": "2020-12-21T07:56:53.118631",
     "status": "completed"
    },
    "tags": []
   }
  },
  {
   "cell_type": "code",
   "source": [
    "import pandas as pd\n",
    "import numpy as np\n",
    "import seaborn as sns \n",
    "import matplotlib.pyplot as plt\n",
    "%matplotlib inline"
   ],
   "metadata": {
    "execution": {
     "iopub.execute_input": "2020-12-21T07:56:53.282971Z",
     "iopub.status.busy": "2020-12-21T07:56:53.282236Z",
     "iopub.status.idle": "2020-12-21T07:56:54.382248Z",
     "shell.execute_reply": "2020-12-21T07:56:54.381258Z"
    },
    "papermill": {
     "duration": 1.159646,
     "end_time": "2020-12-21T07:56:54.382439",
     "exception": false,
     "start_time": "2020-12-21T07:56:53.222793",
     "status": "completed"
    },
    "tags": [],
    "trusted": true
   },
   "execution_count": 1,
   "outputs": []
  },
  {
   "cell_type": "markdown",
   "source": [
    "### Load the data"
   ],
   "metadata": {
    "papermill": {
     "duration": 0.071543,
     "end_time": "2020-12-21T07:56:54.512888",
     "exception": false,
     "start_time": "2020-12-21T07:56:54.441345",
     "status": "completed"
    },
    "tags": []
   }
  },
  {
   "cell_type": "code",
   "source": [
    " \n",
    "train_data = pd.read_csv('../../input/titanic/train.csv')\n",
    "test_data = pd.read_csv('../../input/titanic/test.csv')"
   ],
   "metadata": {
    "execution": {
     "iopub.execute_input": "2020-12-21T07:56:54.644559Z",
     "iopub.status.busy": "2020-12-21T07:56:54.643797Z",
     "iopub.status.idle": "2020-12-21T07:56:54.670022Z",
     "shell.execute_reply": "2020-12-21T07:56:54.66937Z"
    },
    "papermill": {
     "duration": 0.086845,
     "end_time": "2020-12-21T07:56:54.670163",
     "exception": false,
     "start_time": "2020-12-21T07:56:54.583318",
     "status": "completed"
    },
    "tags": [],
    "trusted": true
   },
   "execution_count": 2,
   "outputs": []
  },
  {
   "cell_type": "markdown",
   "source": [
    "## Analyze both training and testing data to get better understanding of the data\n",
    "\n"
   ],
   "metadata": {
    "papermill": {
     "duration": 0.052665,
     "end_time": "2020-12-21T07:56:54.775036",
     "exception": false,
     "start_time": "2020-12-21T07:56:54.722371",
     "status": "completed"
    },
    "tags": []
   }
  },
  {
   "cell_type": "code",
   "source": [
    "# to print first five rows of train data\n",
    "train_data.head()"
   ],
   "metadata": {
    "execution": {
     "iopub.execute_input": "2020-12-21T07:56:54.887096Z",
     "iopub.status.busy": "2020-12-21T07:56:54.886073Z",
     "iopub.status.idle": "2020-12-21T07:56:54.916046Z",
     "shell.execute_reply": "2020-12-21T07:56:54.916576Z"
    },
    "papermill": {
     "duration": 0.088,
     "end_time": "2020-12-21T07:56:54.916716",
     "exception": false,
     "start_time": "2020-12-21T07:56:54.828716",
     "status": "completed"
    },
    "tags": [],
    "trusted": true
   },
   "execution_count": 3,
   "outputs": [
    {
     "data": {
      "text/plain": "   PassengerId  Survived  Pclass  \\\n0            1         0       3   \n1            2         1       1   \n2            3         1       3   \n3            4         1       1   \n4            5         0       3   \n\n                                                Name     Sex   Age  SibSp  \\\n0                            Braund, Mr. Owen Harris    male  22.0      1   \n1  Cumings, Mrs. John Bradley (Florence Briggs Th...  female  38.0      1   \n2                             Heikkinen, Miss. Laina  female  26.0      0   \n3       Futrelle, Mrs. Jacques Heath (Lily May Peel)  female  35.0      1   \n4                           Allen, Mr. William Henry    male  35.0      0   \n\n   Parch            Ticket     Fare Cabin Embarked  \n0      0         A/5 21171   7.2500   NaN        S  \n1      0          PC 17599  71.2833   C85        C  \n2      0  STON/O2. 3101282   7.9250   NaN        S  \n3      0            113803  53.1000  C123        S  \n4      0            373450   8.0500   NaN        S  ",
      "text/html": "<div>\n<style scoped>\n    .dataframe tbody tr th:only-of-type {\n        vertical-align: middle;\n    }\n\n    .dataframe tbody tr th {\n        vertical-align: top;\n    }\n\n    .dataframe thead th {\n        text-align: right;\n    }\n</style>\n<table border=\"1\" class=\"dataframe\">\n  <thead>\n    <tr style=\"text-align: right;\">\n      <th></th>\n      <th>PassengerId</th>\n      <th>Survived</th>\n      <th>Pclass</th>\n      <th>Name</th>\n      <th>Sex</th>\n      <th>Age</th>\n      <th>SibSp</th>\n      <th>Parch</th>\n      <th>Ticket</th>\n      <th>Fare</th>\n      <th>Cabin</th>\n      <th>Embarked</th>\n    </tr>\n  </thead>\n  <tbody>\n    <tr>\n      <th>0</th>\n      <td>1</td>\n      <td>0</td>\n      <td>3</td>\n      <td>Braund, Mr. Owen Harris</td>\n      <td>male</td>\n      <td>22.0</td>\n      <td>1</td>\n      <td>0</td>\n      <td>A/5 21171</td>\n      <td>7.2500</td>\n      <td>NaN</td>\n      <td>S</td>\n    </tr>\n    <tr>\n      <th>1</th>\n      <td>2</td>\n      <td>1</td>\n      <td>1</td>\n      <td>Cumings, Mrs. John Bradley (Florence Briggs Th...</td>\n      <td>female</td>\n      <td>38.0</td>\n      <td>1</td>\n      <td>0</td>\n      <td>PC 17599</td>\n      <td>71.2833</td>\n      <td>C85</td>\n      <td>C</td>\n    </tr>\n    <tr>\n      <th>2</th>\n      <td>3</td>\n      <td>1</td>\n      <td>3</td>\n      <td>Heikkinen, Miss. Laina</td>\n      <td>female</td>\n      <td>26.0</td>\n      <td>0</td>\n      <td>0</td>\n      <td>STON/O2. 3101282</td>\n      <td>7.9250</td>\n      <td>NaN</td>\n      <td>S</td>\n    </tr>\n    <tr>\n      <th>3</th>\n      <td>4</td>\n      <td>1</td>\n      <td>1</td>\n      <td>Futrelle, Mrs. Jacques Heath (Lily May Peel)</td>\n      <td>female</td>\n      <td>35.0</td>\n      <td>1</td>\n      <td>0</td>\n      <td>113803</td>\n      <td>53.1000</td>\n      <td>C123</td>\n      <td>S</td>\n    </tr>\n    <tr>\n      <th>4</th>\n      <td>5</td>\n      <td>0</td>\n      <td>3</td>\n      <td>Allen, Mr. William Henry</td>\n      <td>male</td>\n      <td>35.0</td>\n      <td>0</td>\n      <td>0</td>\n      <td>373450</td>\n      <td>8.0500</td>\n      <td>NaN</td>\n      <td>S</td>\n    </tr>\n  </tbody>\n</table>\n</div>"
     },
     "execution_count": 3,
     "metadata": {},
     "output_type": "execute_result"
    }
   ]
  },
  {
   "cell_type": "code",
   "source": [
    "# to print first five rows of test data\n",
    "test_data.head()"
   ],
   "metadata": {
    "execution": {
     "iopub.execute_input": "2020-12-21T07:56:55.042974Z",
     "iopub.status.busy": "2020-12-21T07:56:55.041889Z",
     "iopub.status.idle": "2020-12-21T07:56:55.056224Z",
     "shell.execute_reply": "2020-12-21T07:56:55.056816Z"
    },
    "papermill": {
     "duration": 0.084613,
     "end_time": "2020-12-21T07:56:55.056982",
     "exception": false,
     "start_time": "2020-12-21T07:56:54.972369",
     "status": "completed"
    },
    "tags": [],
    "trusted": true
   },
   "execution_count": 4,
   "outputs": [
    {
     "data": {
      "text/plain": "   PassengerId  Pclass                                          Name     Sex  \\\n0          892       3                              Kelly, Mr. James    male   \n1          893       3              Wilkes, Mrs. James (Ellen Needs)  female   \n2          894       2                     Myles, Mr. Thomas Francis    male   \n3          895       3                              Wirz, Mr. Albert    male   \n4          896       3  Hirvonen, Mrs. Alexander (Helga E Lindqvist)  female   \n\n    Age  SibSp  Parch   Ticket     Fare Cabin Embarked  \n0  34.5      0      0   330911   7.8292   NaN        Q  \n1  47.0      1      0   363272   7.0000   NaN        S  \n2  62.0      0      0   240276   9.6875   NaN        Q  \n3  27.0      0      0   315154   8.6625   NaN        S  \n4  22.0      1      1  3101298  12.2875   NaN        S  ",
      "text/html": "<div>\n<style scoped>\n    .dataframe tbody tr th:only-of-type {\n        vertical-align: middle;\n    }\n\n    .dataframe tbody tr th {\n        vertical-align: top;\n    }\n\n    .dataframe thead th {\n        text-align: right;\n    }\n</style>\n<table border=\"1\" class=\"dataframe\">\n  <thead>\n    <tr style=\"text-align: right;\">\n      <th></th>\n      <th>PassengerId</th>\n      <th>Pclass</th>\n      <th>Name</th>\n      <th>Sex</th>\n      <th>Age</th>\n      <th>SibSp</th>\n      <th>Parch</th>\n      <th>Ticket</th>\n      <th>Fare</th>\n      <th>Cabin</th>\n      <th>Embarked</th>\n    </tr>\n  </thead>\n  <tbody>\n    <tr>\n      <th>0</th>\n      <td>892</td>\n      <td>3</td>\n      <td>Kelly, Mr. James</td>\n      <td>male</td>\n      <td>34.5</td>\n      <td>0</td>\n      <td>0</td>\n      <td>330911</td>\n      <td>7.8292</td>\n      <td>NaN</td>\n      <td>Q</td>\n    </tr>\n    <tr>\n      <th>1</th>\n      <td>893</td>\n      <td>3</td>\n      <td>Wilkes, Mrs. James (Ellen Needs)</td>\n      <td>female</td>\n      <td>47.0</td>\n      <td>1</td>\n      <td>0</td>\n      <td>363272</td>\n      <td>7.0000</td>\n      <td>NaN</td>\n      <td>S</td>\n    </tr>\n    <tr>\n      <th>2</th>\n      <td>894</td>\n      <td>2</td>\n      <td>Myles, Mr. Thomas Francis</td>\n      <td>male</td>\n      <td>62.0</td>\n      <td>0</td>\n      <td>0</td>\n      <td>240276</td>\n      <td>9.6875</td>\n      <td>NaN</td>\n      <td>Q</td>\n    </tr>\n    <tr>\n      <th>3</th>\n      <td>895</td>\n      <td>3</td>\n      <td>Wirz, Mr. Albert</td>\n      <td>male</td>\n      <td>27.0</td>\n      <td>0</td>\n      <td>0</td>\n      <td>315154</td>\n      <td>8.6625</td>\n      <td>NaN</td>\n      <td>S</td>\n    </tr>\n    <tr>\n      <th>4</th>\n      <td>896</td>\n      <td>3</td>\n      <td>Hirvonen, Mrs. Alexander (Helga E Lindqvist)</td>\n      <td>female</td>\n      <td>22.0</td>\n      <td>1</td>\n      <td>1</td>\n      <td>3101298</td>\n      <td>12.2875</td>\n      <td>NaN</td>\n      <td>S</td>\n    </tr>\n  </tbody>\n</table>\n</div>"
     },
     "execution_count": 4,
     "metadata": {},
     "output_type": "execute_result"
    }
   ]
  },
  {
   "cell_type": "markdown",
   "source": [
    "\n",
    "#### We can see that total number of columns in test data is one less than that in train data. The missing column in the test data is survived column which we have to predict using suitable machine learning algorithm"
   ],
   "metadata": {
    "papermill": {
     "duration": 0.05269,
     "end_time": "2020-12-21T07:56:55.163537",
     "exception": false,
     "start_time": "2020-12-21T07:56:55.110847",
     "status": "completed"
    },
    "tags": []
   }
  },
  {
   "cell_type": "code",
   "source": [
    "print(\"Total number of rows in training data \", train_data.shape[0])\n",
    "print(\"Total number of columns in training data \", train_data.shape[1])\n",
    "print(\"Total number of rows in test data \", test_data.shape[0])\n",
    "print(\"Total number of columns in test data \", test_data.shape[1])\n"
   ],
   "metadata": {
    "execution": {
     "iopub.execute_input": "2020-12-21T07:56:55.273737Z",
     "iopub.status.busy": "2020-12-21T07:56:55.272704Z",
     "iopub.status.idle": "2020-12-21T07:56:55.282019Z",
     "shell.execute_reply": "2020-12-21T07:56:55.281469Z"
    },
    "papermill": {
     "duration": 0.065504,
     "end_time": "2020-12-21T07:56:55.282143",
     "exception": false,
     "start_time": "2020-12-21T07:56:55.216639",
     "status": "completed"
    },
    "tags": [],
    "trusted": true
   },
   "execution_count": 5,
   "outputs": [
    {
     "name": "stdout",
     "output_type": "stream",
     "text": [
      "Total number of rows in training data  891\n",
      "Total number of columns in training data  12\n",
      "Total number of rows in test data  418\n",
      "Total number of columns in test data  11\n"
     ]
    }
   ]
  },
  {
   "cell_type": "markdown",
   "source": [
    "# Data visualization and Analysis"
   ],
   "metadata": {
    "papermill": {
     "duration": 0.053174,
     "end_time": "2020-12-21T07:56:55.389265",
     "exception": false,
     "start_time": "2020-12-21T07:56:55.336091",
     "status": "completed"
    },
    "tags": []
   }
  },
  {
   "cell_type": "markdown",
   "source": [
    "Visualizing the number of null values in both data "
   ],
   "metadata": {
    "papermill": {
     "duration": 0.053137,
     "end_time": "2020-12-21T07:56:55.496424",
     "exception": false,
     "start_time": "2020-12-21T07:56:55.443287",
     "status": "completed"
    },
    "tags": []
   }
  },
  {
   "cell_type": "code",
   "source": [
    "plt.figure(figsize = (13,5))\n",
    "plt.bar(train_data.columns, train_data.isna().sum())\n",
    "plt.xlabel(\"Columns name\")\n",
    "plt.ylabel(\"Number of missing values in training data\")\n",
    "plt.show()\n",
    "# from the bar plot of missing value we can conclude that Cabin, Embarked and Cabin column has null value so, we \n",
    "# can either drop the entire row or can fill the nan value with some values like mean, meadian. "
   ],
   "metadata": {
    "execution": {
     "iopub.execute_input": "2020-12-21T07:56:55.611219Z",
     "iopub.status.busy": "2020-12-21T07:56:55.610501Z",
     "iopub.status.idle": "2020-12-21T07:56:55.846718Z",
     "shell.execute_reply": "2020-12-21T07:56:55.846054Z"
    },
    "papermill": {
     "duration": 0.296716,
     "end_time": "2020-12-21T07:56:55.846984",
     "exception": false,
     "start_time": "2020-12-21T07:56:55.550268",
     "status": "completed"
    },
    "tags": [],
    "trusted": true
   },
   "execution_count": 6,
   "outputs": [
    {
     "data": {
      "text/plain": "<Figure size 1300x500 with 1 Axes>",
      "image/png": "[encoded data removed]"
     },
     "metadata": {},
     "output_type": "display_data"
    }
   ]
  },
  {
   "cell_type": "code",
   "source": [
    "plt.figure(figsize = (13,5))\n",
    "plt.bar(test_data.columns, test_data.isnull().sum().values, color = 'red')\n",
    "plt.xlabel(\"Columns name\")\n",
    "plt.ylabel(\"Number of missing values in test data\")\n",
    "plt.show()\n",
    "# similarly we can conclude that Age Cabin and Fare column has nan values . "
   ],
   "metadata": {
    "execution": {
     "iopub.execute_input": "2020-12-21T07:56:56.016191Z",
     "iopub.status.busy": "2020-12-21T07:56:56.014771Z",
     "iopub.status.idle": "2020-12-21T07:56:56.201819Z",
     "shell.execute_reply": "2020-12-21T07:56:56.201228Z"
    },
    "papermill": {
     "duration": 0.285455,
     "end_time": "2020-12-21T07:56:56.201965",
     "exception": false,
     "start_time": "2020-12-21T07:56:55.91651",
     "status": "completed"
    },
    "tags": [],
    "trusted": true
   },
   "execution_count": 7,
   "outputs": [
    {
     "data": {
      "text/plain": "<Figure size 1300x500 with 1 Axes>",
      "image/png": "[encoded data removed]"
     },
     "metadata": {},
     "output_type": "display_data"
    }
   ]
  },
  {
   "cell_type": "code",
   "source": [
    "#Visualizing the Number of survived passenger\n",
    "sns.countplot(y='Survived', data = train_data)\n",
    "plt.show()\n",
    "# here we plot only for train_data as we donot have Survived column for test data,\n",
    "# This plot show that around 600 people died while around 300 survived"
   ],
   "metadata": {
    "execution": {
     "iopub.execute_input": "2020-12-21T07:56:56.319661Z",
     "iopub.status.busy": "2020-12-21T07:56:56.318972Z",
     "iopub.status.idle": "2020-12-21T07:56:56.424595Z",
     "shell.execute_reply": "2020-12-21T07:56:56.42519Z"
    },
    "papermill": {
     "duration": 0.168246,
     "end_time": "2020-12-21T07:56:56.425349",
     "exception": false,
     "start_time": "2020-12-21T07:56:56.257103",
     "status": "completed"
    },
    "tags": [],
    "trusted": true
   },
   "execution_count": 17,
   "outputs": [
    {
     "data": {
      "text/plain": "<Figure size 640x480 with 1 Axes>",
      "image/png": "[encoded data removed]"
     },
     "metadata": {},
     "output_type": "display_data"
    }
   ]
  },
  {
   "cell_type": "code",
   "source": [
    "# visualizing the number of passenger from different embarked column in train_data\n",
    "sns.countplot(y='Embarked', data = train_data)\n",
    "plt.show()"
   ],
   "metadata": {
    "execution": {
     "iopub.execute_input": "2020-12-21T07:56:56.542201Z",
     "iopub.status.busy": "2020-12-21T07:56:56.541526Z",
     "iopub.status.idle": "2020-12-21T07:56:56.659239Z",
     "shell.execute_reply": "2020-12-21T07:56:56.659792Z"
    },
    "papermill": {
     "duration": 0.177312,
     "end_time": "2020-12-21T07:56:56.660004",
     "exception": false,
     "start_time": "2020-12-21T07:56:56.482692",
     "status": "completed"
    },
    "tags": [],
    "trusted": true
   },
   "execution_count": 18,
   "outputs": [
    {
     "data": {
      "text/plain": "<Figure size 640x480 with 1 Axes>",
      "image/png": "[encoded data removed]"
     },
     "metadata": {},
     "output_type": "display_data"
    }
   ]
  },
  {
   "cell_type": "code",
   "source": [
    "#visualizing whether gender affect the survival rate or not\n",
    "sns.countplot(y='Survived', hue = 'Sex', data = train_data)\n",
    "plt.plot()\n",
    "# the graph clearly show that death rate for male passenger is way more than that for female\n"
   ],
   "metadata": {
    "execution": {
     "iopub.execute_input": "2020-12-21T07:56:56.778546Z",
     "iopub.status.busy": "2020-12-21T07:56:56.777853Z",
     "iopub.status.idle": "2020-12-21T07:56:56.920419Z",
     "shell.execute_reply": "2020-12-21T07:56:56.919769Z"
    },
    "papermill": {
     "duration": 0.20392,
     "end_time": "2020-12-21T07:56:56.920541",
     "exception": false,
     "start_time": "2020-12-21T07:56:56.716621",
     "status": "completed"
    },
    "tags": [],
    "trusted": true
   },
   "execution_count": 19,
   "outputs": [
    {
     "data": {
      "text/plain": "[]"
     },
     "execution_count": 19,
     "metadata": {},
     "output_type": "execute_result"
    },
    {
     "data": {
      "text/plain": "<Figure size 640x480 with 1 Axes>",
      "image/png": "[encoded data removed]"
     },
     "metadata": {},
     "output_type": "display_data"
    }
   ]
  },
  {
   "cell_type": "code",
   "source": [
    "# visualizing whether pclass affect the survial rate or not\n",
    "sns.countplot(y=\"Survived\", hue = 'Pclass', data = train_data)\n",
    "plt.show()\n",
    "# this graph clearly show that people in third class are more likely to die "
   ],
   "metadata": {
    "execution": {
     "iopub.execute_input": "2020-12-21T07:56:57.044143Z",
     "iopub.status.busy": "2020-12-21T07:56:57.043366Z",
     "iopub.status.idle": "2020-12-21T07:56:57.21585Z",
     "shell.execute_reply": "2020-12-21T07:56:57.215067Z"
    },
    "papermill": {
     "duration": 0.23729,
     "end_time": "2020-12-21T07:56:57.215972",
     "exception": false,
     "start_time": "2020-12-21T07:56:56.978682",
     "status": "completed"
    },
    "tags": [],
    "trusted": true
   },
   "execution_count": 20,
   "outputs": [
    {
     "data": {
      "text/plain": "<Figure size 640x480 with 1 Axes>",
      "image/png": "[encoded data removed]"
     },
     "metadata": {},
     "output_type": "display_data"
    }
   ]
  },
  {
   "cell_type": "code",
   "source": [
    "# visualizing whether embarked place affects the survival rate or not\n",
    "sns.countplot(y='Survived', hue = 'Embarked', data = train_data)\n",
    "plt.show()"
   ],
   "metadata": {
    "execution": {
     "iopub.execute_input": "2020-12-21T07:56:57.339655Z",
     "iopub.status.busy": "2020-12-21T07:56:57.338468Z",
     "iopub.status.idle": "2020-12-21T07:56:57.585613Z",
     "shell.execute_reply": "2020-12-21T07:56:57.586127Z"
    },
    "papermill": {
     "duration": 0.312311,
     "end_time": "2020-12-21T07:56:57.58629",
     "exception": false,
     "start_time": "2020-12-21T07:56:57.273979",
     "status": "completed"
    },
    "tags": [],
    "trusted": true
   },
   "execution_count": 21,
   "outputs": [
    {
     "data": {
      "text/plain": "<Figure size 640x480 with 1 Axes>",
      "image/png": "[encoded data removed]"
     },
     "metadata": {},
     "output_type": "display_data"
    }
   ]
  },
  {
   "cell_type": "markdown",
   "source": [
    "### Box and whisker plot "
   ],
   "metadata": {
    "papermill": {
     "duration": 0.060203,
     "end_time": "2020-12-21T07:56:57.707059",
     "exception": false,
     "start_time": "2020-12-21T07:56:57.646856",
     "status": "completed"
    },
    "tags": []
   }
  },
  {
   "cell_type": "code",
   "source": [
    "sns.boxplot(y='Fare', data = train_data)\n",
    "plt.show()\n",
    "# this shows that there were very few people who payed more than 100"
   ],
   "metadata": {
    "execution": {
     "iopub.execute_input": "2020-12-21T07:56:57.839752Z",
     "iopub.status.busy": "2020-12-21T07:56:57.838815Z",
     "iopub.status.idle": "2020-12-21T07:56:57.947494Z",
     "shell.execute_reply": "2020-12-21T07:56:57.946785Z"
    },
    "papermill": {
     "duration": 0.180495,
     "end_time": "2020-12-21T07:56:57.947624",
     "exception": false,
     "start_time": "2020-12-21T07:56:57.767129",
     "status": "completed"
    },
    "tags": [],
    "trusted": true
   },
   "execution_count": 22,
   "outputs": [
    {
     "data": {
      "text/plain": "<Figure size 640x480 with 1 Axes>",
      "image/png": "[encoded data removed]"
     },
     "metadata": {},
     "output_type": "display_data"
    }
   ]
  },
  {
   "cell_type": "code",
   "source": [
    "sns.boxplot(y='Age', data = train_data)\n",
    "plt.show()\n",
    "# this shows that there were very few people more than 65 years old in training data"
   ],
   "metadata": {
    "execution": {
     "iopub.execute_input": "2020-12-21T07:56:58.088609Z",
     "iopub.status.busy": "2020-12-21T07:56:58.081588Z",
     "iopub.status.idle": "2020-12-21T07:56:58.20111Z",
     "shell.execute_reply": "2020-12-21T07:56:58.200088Z"
    },
    "papermill": {
     "duration": 0.191007,
     "end_time": "2020-12-21T07:56:58.20124",
     "exception": false,
     "start_time": "2020-12-21T07:56:58.010233",
     "status": "completed"
    },
    "tags": [],
    "trusted": true
   },
   "execution_count": 23,
   "outputs": [
    {
     "data": {
      "text/plain": "<Figure size 640x480 with 1 Axes>",
      "image/png": "[encoded data removed]"
     },
     "metadata": {},
     "output_type": "display_data"
    }
   ]
  },
  {
   "cell_type": "code",
   "source": [
    "# ploting histogram\n",
    "# choosing value for bin \n",
    "interval = 10\n",
    "value_for_bin = np.ceil((train_data.Age.max() - train_data.Age.min()) / interval).astype(int)\n",
    "\n",
    "plt.hist(train_data.Age, bins = value_for_bin)\n",
    "plt.xlabel(\"Age\")\n",
    "plt.ylabel(\"Number\")\n",
    "plt.show()\n",
    "# this shows that lots of passenger we from age between 20 to 40"
   ],
   "metadata": {
    "execution": {
     "iopub.execute_input": "2020-12-21T07:56:58.335471Z",
     "iopub.status.busy": "2020-12-21T07:56:58.333328Z",
     "iopub.status.idle": "2020-12-21T07:56:58.493907Z",
     "shell.execute_reply": "2020-12-21T07:56:58.494429Z"
    },
    "papermill": {
     "duration": 0.233704,
     "end_time": "2020-12-21T07:56:58.494591",
     "exception": false,
     "start_time": "2020-12-21T07:56:58.260887",
     "status": "completed"
    },
    "tags": [],
    "trusted": true
   },
   "execution_count": 24,
   "outputs": [
    {
     "data": {
      "text/plain": "<Figure size 640x480 with 1 Axes>",
      "image/png": "[encoded data removed]"
     },
     "metadata": {},
     "output_type": "display_data"
    }
   ]
  },
  {
   "cell_type": "code",
   "source": [
    "plt.figure(figsize = (10,4))\n",
    "plt.hist(train_data.Fare, bins = 10, color = 'lime')\n",
    "plt.xlabel(\"Fare\")\n",
    "plt.ylabel(\"Number\")\n",
    "plt.show()\n",
    "# this shows that around 700 people pay in between 0 and 50"
   ],
   "metadata": {
    "execution": {
     "iopub.execute_input": "2020-12-21T07:56:58.63296Z",
     "iopub.status.busy": "2020-12-21T07:56:58.632203Z",
     "iopub.status.idle": "2020-12-21T07:56:58.799633Z",
     "shell.execute_reply": "2020-12-21T07:56:58.799077Z"
    },
    "papermill": {
     "duration": 0.241871,
     "end_time": "2020-12-21T07:56:58.799762",
     "exception": false,
     "start_time": "2020-12-21T07:56:58.557891",
     "status": "completed"
    },
    "tags": [],
    "trusted": true
   },
   "execution_count": 25,
   "outputs": [
    {
     "data": {
      "text/plain": "<Figure size 1000x400 with 1 Axes>",
      "image/png": "[encoded data removed]"
     },
     "metadata": {},
     "output_type": "display_data"
    }
   ]
  },
  {
   "cell_type": "code",
   "source": [
    "grid = sns.FacetGrid(train_data, col='Survived', row='Pclass', aspect=1.6)\n",
    "grid.map(plt.hist, 'Age', alpha=.5, bins=20)\n",
    "grid.add_legend()\n",
    "plt.show()"
   ],
   "metadata": {
    "execution": {
     "iopub.execute_input": "2020-12-21T07:56:58.933665Z",
     "iopub.status.busy": "2020-12-21T07:56:58.932936Z",
     "iopub.status.idle": "2020-12-21T07:57:01.139903Z",
     "shell.execute_reply": "2020-12-21T07:57:01.139203Z"
    },
    "papermill": {
     "duration": 2.275303,
     "end_time": "2020-12-21T07:57:01.140031",
     "exception": false,
     "start_time": "2020-12-21T07:56:58.864728",
     "status": "completed"
    },
    "tags": [],
    "trusted": true
   },
   "execution_count": 27,
   "outputs": [
    {
     "data": {
      "text/plain": "<Figure size 971.111x900 with 6 Axes>",
      "image/png": "[encoded data removed]"
     },
     "metadata": {},
     "output_type": "display_data"
    }
   ]
  },
  {
   "cell_type": "code",
   "source": [
    "grid = sns.FacetGrid(train_data, row='Embarked', col='Survived', aspect=1.6)\n",
    "grid.map(sns.barplot, 'Sex', 'Fare', alpha=.5, ci=None)\n",
    "grid.add_legend()\n",
    "plt.show()"
   ],
   "metadata": {
    "execution": {
     "iopub.execute_input": "2020-12-21T07:57:01.284297Z",
     "iopub.status.busy": "2020-12-21T07:57:01.281083Z",
     "iopub.status.idle": "2020-12-21T07:57:02.47542Z",
     "shell.execute_reply": "2020-12-21T07:57:02.474792Z"
    },
    "papermill": {
     "duration": 1.272053,
     "end_time": "2020-12-21T07:57:02.475549",
     "exception": false,
     "start_time": "2020-12-21T07:57:01.203496",
     "status": "completed"
    },
    "tags": [],
    "trusted": true
   },
   "execution_count": 29,
   "outputs": [
    {
     "name": "stderr",
     "output_type": "stream",
     "text": [
      "C:\\Users\\Bo Sterenborg\\PycharmProjects\\KRW-project-group2\\venv\\lib\\site-packages\\seaborn\\axisgrid.py:712: UserWarning: Using the barplot function without specifying `order` is likely to produce an incorrect plot.\n",
      "  warnings.warn(warning)\n",
      "C:\\Users\\Bo Sterenborg\\PycharmProjects\\KRW-project-group2\\venv\\lib\\site-packages\\seaborn\\axisgrid.py:848: FutureWarning: \n",
      "\n",
      "The `ci` parameter is deprecated. Use `errorbar=None` for the same effect.\n",
      "\n",
      "  func(*plot_args, **plot_kwargs)\n",
      "C:\\Users\\Bo Sterenborg\\PycharmProjects\\KRW-project-group2\\venv\\lib\\site-packages\\seaborn\\axisgrid.py:848: FutureWarning: \n",
      "\n",
      "The `ci` parameter is deprecated. Use `errorbar=None` for the same effect.\n",
      "\n",
      "  func(*plot_args, **plot_kwargs)\n",
      "C:\\Users\\Bo Sterenborg\\PycharmProjects\\KRW-project-group2\\venv\\lib\\site-packages\\seaborn\\axisgrid.py:848: FutureWarning: \n",
      "\n",
      "The `ci` parameter is deprecated. Use `errorbar=None` for the same effect.\n",
      "\n",
      "  func(*plot_args, **plot_kwargs)\n",
      "C:\\Users\\Bo Sterenborg\\PycharmProjects\\KRW-project-group2\\venv\\lib\\site-packages\\seaborn\\axisgrid.py:848: FutureWarning: \n",
      "\n",
      "The `ci` parameter is deprecated. Use `errorbar=None` for the same effect.\n",
      "\n",
      "  func(*plot_args, **plot_kwargs)\n",
      "C:\\Users\\Bo Sterenborg\\PycharmProjects\\KRW-project-group2\\venv\\lib\\site-packages\\seaborn\\axisgrid.py:848: FutureWarning: \n",
      "\n",
      "The `ci` parameter is deprecated. Use `errorbar=None` for the same effect.\n",
      "\n",
      "  func(*plot_args, **plot_kwargs)\n",
      "C:\\Users\\Bo Sterenborg\\PycharmProjects\\KRW-project-group2\\venv\\lib\\site-packages\\seaborn\\axisgrid.py:848: FutureWarning: \n",
      "\n",
      "The `ci` parameter is deprecated. Use `errorbar=None` for the same effect.\n",
      "\n",
      "  func(*plot_args, **plot_kwargs)\n"
     ]
    },
    {
     "data": {
      "text/plain": "<Figure size 971.111x900 with 6 Axes>",
      "image/png": "[encoded data removed]"
     },
     "metadata": {},
     "output_type": "display_data"
    }
   ]
  },
  {
   "cell_type": "code",
   "source": [
    "corr_train = train_data.corr()\n",
    "sns.heatmap(corr_train)\n",
    "plt.show()\n",
    "# this shows that SibSp and Parch columns are releted , so we can combine this two column to reduce the dimension\n",
    "# of our data.. this plot only works for columns with numercal data "
   ],
   "metadata": {
    "execution": {
     "iopub.execute_input": "2020-12-21T07:57:02.628125Z",
     "iopub.status.busy": "2020-12-21T07:57:02.622089Z",
     "iopub.status.idle": "2020-12-21T07:57:02.847899Z",
     "shell.execute_reply": "2020-12-21T07:57:02.847186Z"
    },
    "papermill": {
     "duration": 0.308043,
     "end_time": "2020-12-21T07:57:02.848021",
     "exception": false,
     "start_time": "2020-12-21T07:57:02.539978",
     "status": "completed"
    },
    "tags": [],
    "trusted": true
   },
   "execution_count": 30,
   "outputs": [
    {
     "name": "stderr",
     "output_type": "stream",
     "text": [
      "C:\\Users\\Bo Sterenborg\\AppData\\Local\\Temp\\ipykernel_7260\\858142818.py:1: FutureWarning: The default value of numeric_only in DataFrame.corr is deprecated. In a future version, it will default to False. Select only valid columns or specify the value of numeric_only to silence this warning.\n",
      "  corr_train = train_data.corr()\n"
     ]
    },
    {
     "data": {
      "text/plain": "<Figure size 640x480 with 2 Axes>",
      "image/png": "[encoded data removed]"
     },
     "metadata": {},
     "output_type": "display_data"
    }
   ]
  },
  {
   "cell_type": "markdown",
   "source": [
    "## Simple Data Analysis"
   ],
   "metadata": {
    "papermill": {
     "duration": 0.069173,
     "end_time": "2020-12-21T07:57:02.986731",
     "exception": false,
     "start_time": "2020-12-21T07:57:02.917558",
     "status": "completed"
    },
    "tags": []
   }
  },
  {
   "cell_type": "markdown",
   "source": [
    "#### Survival rate for male and female"
   ],
   "metadata": {
    "papermill": {
     "duration": 0.066632,
     "end_time": "2020-12-21T07:57:03.119718",
     "exception": false,
     "start_time": "2020-12-21T07:57:03.053086",
     "status": "completed"
    },
    "tags": []
   }
  },
  {
   "cell_type": "code",
   "source": [
    "((train_data.groupby(['Sex','Survived']).Survived.count() * 100) / train_data.groupby('Sex').Survived.count())\n",
    "# this shows that female have around 74% chance of survival while male have around 81% chance of death"
   ],
   "metadata": {
    "execution": {
     "iopub.execute_input": "2020-12-21T07:57:03.25916Z",
     "iopub.status.busy": "2020-12-21T07:57:03.258397Z",
     "iopub.status.idle": "2020-12-21T07:57:03.267036Z",
     "shell.execute_reply": "2020-12-21T07:57:03.267592Z"
    },
    "papermill": {
     "duration": 0.081926,
     "end_time": "2020-12-21T07:57:03.267734",
     "exception": false,
     "start_time": "2020-12-21T07:57:03.185808",
     "status": "completed"
    },
    "tags": [],
    "trusted": true
   },
   "execution_count": 31,
   "outputs": [
    {
     "data": {
      "text/plain": "Sex     Survived\nfemale  0           25.796178\n        1           74.203822\nmale    0           81.109185\n        1           18.890815\nName: Survived, dtype: float64"
     },
     "execution_count": 31,
     "metadata": {},
     "output_type": "execute_result"
    }
   ]
  },
  {
   "cell_type": "markdown",
   "source": [
    "**Survival rate on the basis of Pclass**"
   ],
   "metadata": {
    "papermill": {
     "duration": 0.065181,
     "end_time": "2020-12-21T07:57:03.398497",
     "exception": false,
     "start_time": "2020-12-21T07:57:03.333316",
     "status": "completed"
    },
    "tags": []
   }
  },
  {
   "cell_type": "code",
   "source": [
    "(train_data.groupby(['Pclass','Survived']).Survived.count() * 100) / train_data.groupby('Pclass').Survived.count()\n",
    "# this shows that people belonging to third class are likely to die while people in class one are likely to survive"
   ],
   "metadata": {
    "execution": {
     "iopub.execute_input": "2020-12-21T07:57:03.535161Z",
     "iopub.status.busy": "2020-12-21T07:57:03.534403Z",
     "iopub.status.idle": "2020-12-21T07:57:03.546663Z",
     "shell.execute_reply": "2020-12-21T07:57:03.546151Z"
    },
    "papermill": {
     "duration": 0.081779,
     "end_time": "2020-12-21T07:57:03.546777",
     "exception": false,
     "start_time": "2020-12-21T07:57:03.464998",
     "status": "completed"
    },
    "tags": [],
    "trusted": true
   },
   "execution_count": 32,
   "outputs": [
    {
     "data": {
      "text/plain": "Pclass  Survived\n1       0           37.037037\n        1           62.962963\n2       0           52.717391\n        1           47.282609\n3       0           75.763747\n        1           24.236253\nName: Survived, dtype: float64"
     },
     "execution_count": 32,
     "metadata": {},
     "output_type": "execute_result"
    }
   ]
  },
  {
   "cell_type": "markdown",
   "source": [
    "**Survival rate on the basis of Embarked place**"
   ],
   "metadata": {
    "papermill": {
     "duration": 0.067153,
     "end_time": "2020-12-21T07:57:03.680502",
     "exception": false,
     "start_time": "2020-12-21T07:57:03.613349",
     "status": "completed"
    },
    "tags": []
   }
  },
  {
   "cell_type": "code",
   "source": [
    "(train_data.groupby(['Embarked','Survived']).Survived.count() * 100) / train_data.groupby('Embarked').Survived.count()\n",
    "# this shows that people who embarked from Southampton are likely to die"
   ],
   "metadata": {
    "execution": {
     "iopub.execute_input": "2020-12-21T07:57:03.825847Z",
     "iopub.status.busy": "2020-12-21T07:57:03.825106Z",
     "iopub.status.idle": "2020-12-21T07:57:03.836086Z",
     "shell.execute_reply": "2020-12-21T07:57:03.835357Z"
    },
    "papermill": {
     "duration": 0.086637,
     "end_time": "2020-12-21T07:57:03.83621",
     "exception": false,
     "start_time": "2020-12-21T07:57:03.749573",
     "status": "completed"
    },
    "tags": [],
    "trusted": true
   },
   "execution_count": 33,
   "outputs": [
    {
     "data": {
      "text/plain": "Embarked  Survived\nC         0           44.642857\n          1           55.357143\nQ         0           61.038961\n          1           38.961039\nS         0           66.304348\n          1           33.695652\nName: Survived, dtype: float64"
     },
     "execution_count": 33,
     "metadata": {},
     "output_type": "execute_result"
    }
   ]
  },
  {
   "cell_type": "code",
   "source": [
    "train_data.groupby(by=['Survived']).mean()[\"Age\"]\n",
    "# this show that average age of people who survived was around 28 years old"
   ],
   "metadata": {
    "execution": {
     "iopub.execute_input": "2020-12-21T07:57:03.978083Z",
     "iopub.status.busy": "2020-12-21T07:57:03.977313Z",
     "iopub.status.idle": "2020-12-21T07:57:03.99342Z",
     "shell.execute_reply": "2020-12-21T07:57:03.992854Z"
    },
    "papermill": {
     "duration": 0.088156,
     "end_time": "2020-12-21T07:57:03.993546",
     "exception": false,
     "start_time": "2020-12-21T07:57:03.90539",
     "status": "completed"
    },
    "tags": [],
    "trusted": true
   },
   "execution_count": 34,
   "outputs": [
    {
     "name": "stderr",
     "output_type": "stream",
     "text": [
      "C:\\Users\\Bo Sterenborg\\AppData\\Local\\Temp\\ipykernel_7260\\2970192576.py:1: FutureWarning: The default value of numeric_only in DataFrameGroupBy.mean is deprecated. In a future version, numeric_only will default to False. Either specify numeric_only or select only columns which should be valid for the function.\n",
      "  train_data.groupby(by=['Survived']).mean()[\"Age\"]\n"
     ]
    },
    {
     "data": {
      "text/plain": "Survived\n0    30.626179\n1    28.343690\nName: Age, dtype: float64"
     },
     "execution_count": 34,
     "metadata": {},
     "output_type": "execute_result"
    }
   ]
  },
  {
   "cell_type": "markdown",
   "source": [
    "# Dealing with the Missing values"
   ],
   "metadata": {
    "papermill": {
     "duration": 0.066832,
     "end_time": "2020-12-21T07:57:04.129072",
     "exception": false,
     "start_time": "2020-12-21T07:57:04.06224",
     "status": "completed"
    },
    "tags": []
   }
  },
  {
   "cell_type": "code",
   "source": [
    "# before filling the missing values, let's drop Cabin column from both data.\n",
    "train_data.drop('Cabin', axis = 1, inplace = True)\n",
    "test_data.drop('Cabin', axis = 1, inplace = True)"
   ],
   "metadata": {
    "execution": {
     "iopub.execute_input": "2020-12-21T07:57:04.271348Z",
     "iopub.status.busy": "2020-12-21T07:57:04.270271Z",
     "iopub.status.idle": "2020-12-21T07:57:04.273478Z",
     "shell.execute_reply": "2020-12-21T07:57:04.27284Z"
    },
    "papermill": {
     "duration": 0.078106,
     "end_time": "2020-12-21T07:57:04.27359",
     "exception": false,
     "start_time": "2020-12-21T07:57:04.195484",
     "status": "completed"
    },
    "tags": [],
    "trusted": true
   },
   "execution_count": 35,
   "outputs": []
  },
  {
   "cell_type": "code",
   "source": [
    "combined_data = [train_data, test_data]\n",
    "for data in combined_data:\n",
    "    print(data.isnull().sum())\n",
    "    print('*' * 20)\n",
    "      "
   ],
   "metadata": {
    "execution": {
     "iopub.execute_input": "2020-12-21T07:57:04.419004Z",
     "iopub.status.busy": "2020-12-21T07:57:04.416279Z",
     "iopub.status.idle": "2020-12-21T07:57:04.423155Z",
     "shell.execute_reply": "2020-12-21T07:57:04.423645Z"
    },
    "papermill": {
     "duration": 0.083703,
     "end_time": "2020-12-21T07:57:04.423807",
     "exception": false,
     "start_time": "2020-12-21T07:57:04.340104",
     "status": "completed"
    },
    "tags": [],
    "trusted": true
   },
   "execution_count": 36,
   "outputs": [
    {
     "name": "stdout",
     "output_type": "stream",
     "text": [
      "PassengerId      0\n",
      "Survived         0\n",
      "Pclass           0\n",
      "Name             0\n",
      "Sex              0\n",
      "Age            177\n",
      "SibSp            0\n",
      "Parch            0\n",
      "Ticket           0\n",
      "Fare             0\n",
      "Embarked         2\n",
      "dtype: int64\n",
      "********************\n",
      "PassengerId     0\n",
      "Pclass          0\n",
      "Name            0\n",
      "Sex             0\n",
      "Age            86\n",
      "SibSp           0\n",
      "Parch           0\n",
      "Ticket          0\n",
      "Fare            1\n",
      "Embarked        0\n",
      "dtype: int64\n",
      "********************\n"
     ]
    }
   ]
  },
  {
   "cell_type": "code",
   "source": [
    "# filling the nan values fo Age and fare column with the mean while Embarked column with most_frequent value\n",
    "for data in combined_data:\n",
    "    data.Age.fillna(data.Age.mean(), inplace = True)\n",
    "    data.Fare.fillna(data.Fare.mean(), inplace = True)\n",
    "    \n",
    "# from visualization we know that Southamptom is most frequent Embarked place so, filling the missing value \n",
    "# with 'S'\n",
    "train_data.Embarked.fillna('S', inplace = True)\n",
    "\n",
    "# we simply can use SimpleImputer class form the sklearn to deal with the missing value\n",
    "# from sklearn.impute import SimpleImputer\n",
    "# impute = SimpleImputer(missing_values = np.nan, strategy = 'mean')\n",
    "# train_data[['Age']] = impute.fit_transform(train_data[['Age']])\n",
    "    "
   ],
   "metadata": {
    "execution": {
     "iopub.execute_input": "2020-12-21T07:57:04.569428Z",
     "iopub.status.busy": "2020-12-21T07:57:04.56868Z",
     "iopub.status.idle": "2020-12-21T07:57:04.57178Z",
     "shell.execute_reply": "2020-12-21T07:57:04.571229Z"
    },
    "papermill": {
     "duration": 0.080426,
     "end_time": "2020-12-21T07:57:04.571922",
     "exception": false,
     "start_time": "2020-12-21T07:57:04.491496",
     "status": "completed"
    },
    "tags": [],
    "trusted": true
   },
   "execution_count": 37,
   "outputs": []
  },
  {
   "cell_type": "markdown",
   "source": [
    "## Converting a categorical feature¶\n",
    "\n"
   ],
   "metadata": {
    "papermill": {
     "duration": 0.069996,
     "end_time": "2020-12-21T07:57:04.709231",
     "exception": false,
     "start_time": "2020-12-21T07:57:04.639235",
     "status": "completed"
    },
    "tags": []
   }
  },
  {
   "cell_type": "markdown",
   "source": [
    "##### Let's  start by converting Sex feature to categorical  female=1 and male=0"
   ],
   "metadata": {
    "papermill": {
     "duration": 0.071328,
     "end_time": "2020-12-21T07:57:04.849133",
     "exception": false,
     "start_time": "2020-12-21T07:57:04.777805",
     "status": "completed"
    },
    "tags": []
   }
  },
  {
   "cell_type": "code",
   "source": [
    "\n",
    "def change_gender(x):\n",
    "    if x == 'male':\n",
    "        return 0\n",
    "    elif x == 'female':\n",
    "        return 1\n",
    "train_data.Sex = train_data.Sex.apply(change_gender)\n",
    "test_data.Sex = test_data.Sex.apply(change_gender)\n",
    "# we simply can use mapfunction to change the gender\n",
    "# train_data.Sex = train_data.Sex.map({'female':1, 'male':0})\n"
   ],
   "metadata": {
    "execution": {
     "iopub.execute_input": "2020-12-21T07:57:04.996686Z",
     "iopub.status.busy": "2020-12-21T07:57:04.995975Z",
     "iopub.status.idle": "2020-12-21T07:57:04.999068Z",
     "shell.execute_reply": "2020-12-21T07:57:04.998381Z"
    },
    "papermill": {
     "duration": 0.082728,
     "end_time": "2020-12-21T07:57:04.999192",
     "exception": false,
     "start_time": "2020-12-21T07:57:04.916464",
     "status": "completed"
    },
    "tags": [],
    "trusted": true
   },
   "execution_count": 38,
   "outputs": []
  },
  {
   "cell_type": "markdown",
   "source": [
    "**using map funcion to change the Embarked column S = 1, C = 2, Q = 0**"
   ],
   "metadata": {
    "papermill": {
     "duration": 0.067891,
     "end_time": "2020-12-21T07:57:05.135267",
     "exception": false,
     "start_time": "2020-12-21T07:57:05.067376",
     "status": "completed"
    },
    "tags": []
   }
  },
  {
   "cell_type": "code",
   "source": [
    "\n",
    "change = {'S':1,'C':2,'Q':0}\n",
    "train_data.Embarked = train_data.Embarked.map(change)\n",
    "test_data.Embarked = test_data.Embarked.map(change)"
   ],
   "metadata": {
    "execution": {
     "iopub.execute_input": "2020-12-21T07:57:05.279529Z",
     "iopub.status.busy": "2020-12-21T07:57:05.278788Z",
     "iopub.status.idle": "2020-12-21T07:57:05.282219Z",
     "shell.execute_reply": "2020-12-21T07:57:05.282708Z"
    },
    "papermill": {
     "duration": 0.07998,
     "end_time": "2020-12-21T07:57:05.282878",
     "exception": false,
     "start_time": "2020-12-21T07:57:05.202898",
     "status": "completed"
    },
    "tags": [],
    "trusted": true
   },
   "execution_count": 39,
   "outputs": []
  },
  {
   "cell_type": "markdown",
   "source": [
    "# Feature Extraction\n"
   ],
   "metadata": {
    "papermill": {
     "duration": 0.066673,
     "end_time": "2020-12-21T07:57:05.416804",
     "exception": false,
     "start_time": "2020-12-21T07:57:05.350131",
     "status": "completed"
    },
    "tags": []
   }
  },
  {
   "cell_type": "markdown",
   "source": [
    "while visualizing the correlation heatmap we came to know that Sibsp and Parch columns were closely related \n",
    "so lets created new column called Alone using this two columns\n",
    "-------> 1 = Alone , 0 = not Alone"
   ],
   "metadata": {
    "papermill": {
     "duration": 0.067828,
     "end_time": "2020-12-21T07:57:05.55123",
     "exception": false,
     "start_time": "2020-12-21T07:57:05.483402",
     "status": "completed"
    },
    "tags": []
   }
  },
  {
   "cell_type": "code",
   "source": [
    "\n",
    "train_data['Alone'] = train_data.SibSp + train_data.Parch\n",
    "test_data['Alone'] = test_data.SibSp + test_data.Parch\n",
    "\n",
    "train_data.Alone = train_data.Alone.apply(lambda x: 1 if x == 0 else 0)\n",
    "test_data.Alone = test_data.Alone.apply(lambda x: 1 if x == 0 else 0)"
   ],
   "metadata": {
    "execution": {
     "iopub.execute_input": "2020-12-21T07:57:05.701119Z",
     "iopub.status.busy": "2020-12-21T07:57:05.700033Z",
     "iopub.status.idle": "2020-12-21T07:57:05.703792Z",
     "shell.execute_reply": "2020-12-21T07:57:05.703246Z"
    },
    "papermill": {
     "duration": 0.08468,
     "end_time": "2020-12-21T07:57:05.703931",
     "exception": false,
     "start_time": "2020-12-21T07:57:05.619251",
     "status": "completed"
    },
    "tags": [],
    "trusted": true
   },
   "execution_count": 40,
   "outputs": []
  },
  {
   "cell_type": "code",
   "source": [
    "# now lets drop SibSp and Parch column for both training and testing data\n",
    "train_data.drop(['SibSp','Parch'], axis = 1, inplace = True)\n",
    "test_data.drop(['SibSp','Parch'], axis = 1, inplace = True )"
   ],
   "metadata": {
    "execution": {
     "iopub.execute_input": "2020-12-21T07:57:05.847462Z",
     "iopub.status.busy": "2020-12-21T07:57:05.845345Z",
     "iopub.status.idle": "2020-12-21T07:57:05.853039Z",
     "shell.execute_reply": "2020-12-21T07:57:05.85245Z"
    },
    "papermill": {
     "duration": 0.080952,
     "end_time": "2020-12-21T07:57:05.853155",
     "exception": false,
     "start_time": "2020-12-21T07:57:05.772203",
     "status": "completed"
    },
    "tags": [],
    "trusted": true
   },
   "execution_count": 41,
   "outputs": []
  },
  {
   "cell_type": "markdown",
   "source": [
    "# Creating new feature Title extracting from existing feature Name\n"
   ],
   "metadata": {
    "papermill": {
     "duration": 0.067763,
     "end_time": "2020-12-21T07:57:05.991054",
     "exception": false,
     "start_time": "2020-12-21T07:57:05.923291",
     "status": "completed"
    },
    "tags": []
   }
  },
  {
   "cell_type": "code",
   "source": [
    "train_data.Name.str.extract(' ([A-Za-z]+)\\.', expand=False).unique().size\n",
    "# there are total 17 unique title"
   ],
   "metadata": {
    "execution": {
     "iopub.execute_input": "2020-12-21T07:57:06.136118Z",
     "iopub.status.busy": "2020-12-21T07:57:06.135394Z",
     "iopub.status.idle": "2020-12-21T07:57:06.139772Z",
     "shell.execute_reply": "2020-12-21T07:57:06.140326Z"
    },
    "papermill": {
     "duration": 0.080552,
     "end_time": "2020-12-21T07:57:06.140481",
     "exception": false,
     "start_time": "2020-12-21T07:57:06.059929",
     "status": "completed"
    },
    "tags": [],
    "trusted": true
   },
   "execution_count": 42,
   "outputs": [
    {
     "data": {
      "text/plain": "17"
     },
     "execution_count": 42,
     "metadata": {},
     "output_type": "execute_result"
    }
   ]
  },
  {
   "cell_type": "code",
   "source": [
    "# lets create the Title feature which contain the title of the passenger and drop Name column\n",
    "for data in combined_data:\n",
    "    data['Title'] = data.Name.str.extract('([A-Za-z]+)\\.', expand = False)\n",
    "    data.drop('Name', axis = 1, inplace = True)\n",
    "       "
   ],
   "metadata": {
    "execution": {
     "iopub.execute_input": "2020-12-21T07:57:06.292081Z",
     "iopub.status.busy": "2020-12-21T07:57:06.291343Z",
     "iopub.status.idle": "2020-12-21T07:57:06.295023Z",
     "shell.execute_reply": "2020-12-21T07:57:06.294485Z"
    },
    "papermill": {
     "duration": 0.086855,
     "end_time": "2020-12-21T07:57:06.295143",
     "exception": false,
     "start_time": "2020-12-21T07:57:06.208288",
     "status": "completed"
    },
    "tags": [],
    "trusted": true
   },
   "execution_count": 43,
   "outputs": []
  },
  {
   "cell_type": "code",
   "source": [
    "train_data.Title.value_counts()"
   ],
   "metadata": {
    "execution": {
     "iopub.execute_input": "2020-12-21T07:57:06.439131Z",
     "iopub.status.busy": "2020-12-21T07:57:06.438402Z",
     "iopub.status.idle": "2020-12-21T07:57:06.441369Z",
     "shell.execute_reply": "2020-12-21T07:57:06.442071Z"
    },
    "papermill": {
     "duration": 0.079029,
     "end_time": "2020-12-21T07:57:06.442215",
     "exception": false,
     "start_time": "2020-12-21T07:57:06.363186",
     "status": "completed"
    },
    "tags": [],
    "trusted": true
   },
   "execution_count": 44,
   "outputs": [
    {
     "data": {
      "text/plain": "Mr          517\nMiss        182\nMrs         125\nMaster       40\nDr            7\nRev           6\nMlle          2\nMajor         2\nCol           2\nCountess      1\nCapt          1\nMs            1\nSir           1\nLady          1\nMme           1\nDon           1\nJonkheer      1\nName: Title, dtype: int64"
     },
     "execution_count": 44,
     "metadata": {},
     "output_type": "execute_result"
    }
   ]
  },
  {
   "cell_type": "code",
   "source": [
    "test_data.Title.unique()"
   ],
   "metadata": {
    "execution": {
     "iopub.execute_input": "2020-12-21T07:57:06.582638Z",
     "iopub.status.busy": "2020-12-21T07:57:06.581991Z",
     "iopub.status.idle": "2020-12-21T07:57:06.58968Z",
     "shell.execute_reply": "2020-12-21T07:57:06.589127Z"
    },
    "papermill": {
     "duration": 0.079904,
     "end_time": "2020-12-21T07:57:06.589802",
     "exception": false,
     "start_time": "2020-12-21T07:57:06.509898",
     "status": "completed"
    },
    "tags": [],
    "trusted": true
   },
   "execution_count": 45,
   "outputs": [
    {
     "data": {
      "text/plain": "array(['Mr', 'Mrs', 'Miss', 'Master', 'Ms', 'Col', 'Rev', 'Dr', 'Dona'],\n      dtype=object)"
     },
     "execution_count": 45,
     "metadata": {},
     "output_type": "execute_result"
    }
   ]
  },
  {
   "cell_type": "code",
   "source": [
    "#lets replace least occuring title in the data with rare\n",
    "least_occuring = [ 'Don', 'Rev', 'Dr', 'Mme', 'Ms',\n",
    "       'Major', 'Lady', 'Sir', 'Mlle', 'Col', 'Capt', 'Countess','Dona',\n",
    "       'Jonkheer']\n",
    "for data in combined_data:\n",
    "    data.Title = data.Title.replace(least_occuring, 'Rare')"
   ],
   "metadata": {
    "execution": {
     "iopub.execute_input": "2020-12-21T07:57:06.737835Z",
     "iopub.status.busy": "2020-12-21T07:57:06.737158Z",
     "iopub.status.idle": "2020-12-21T07:57:06.739305Z",
     "shell.execute_reply": "2020-12-21T07:57:06.739785Z"
    },
    "papermill": {
     "duration": 0.081614,
     "end_time": "2020-12-21T07:57:06.739948",
     "exception": false,
     "start_time": "2020-12-21T07:57:06.658334",
     "status": "completed"
    },
    "scrolled": true,
    "tags": [],
    "trusted": true
   },
   "execution_count": 46,
   "outputs": []
  },
  {
   "cell_type": "code",
   "source": [
    "# lets perform title mapping in order to change to ordinal\n",
    "title_mapping = {\"Mr\": 1, \"Miss\": 2, \"Mrs\": 3, \"Master\": 4, \"Rare\": 5}\n",
    "for data in combined_data:\n",
    "    data['Title'] = data['Title'].map(title_mapping)\n",
    "\n",
    "\n"
   ],
   "metadata": {
    "execution": {
     "iopub.execute_input": "2020-12-21T07:57:06.884786Z",
     "iopub.status.busy": "2020-12-21T07:57:06.883547Z",
     "iopub.status.idle": "2020-12-21T07:57:06.892479Z",
     "shell.execute_reply": "2020-12-21T07:57:06.89164Z"
    },
    "papermill": {
     "duration": 0.084546,
     "end_time": "2020-12-21T07:57:06.892607",
     "exception": false,
     "start_time": "2020-12-21T07:57:06.808061",
     "status": "completed"
    },
    "tags": [],
    "trusted": true
   },
   "execution_count": 47,
   "outputs": []
  },
  {
   "cell_type": "markdown",
   "source": [
    "# Dropping PassengerId and Ticket column"
   ],
   "metadata": {
    "papermill": {
     "duration": 0.080767,
     "end_time": "2020-12-21T07:57:07.057158",
     "exception": false,
     "start_time": "2020-12-21T07:57:06.976391",
     "status": "completed"
    },
    "tags": []
   }
  },
  {
   "cell_type": "code",
   "source": [
    "columns_to_drop = ['PassengerId','Ticket']\n",
    "train_data.drop(columns_to_drop, axis = 1, inplace = True)\n",
    "test_data.drop(columns_to_drop[1], axis = 1, inplace = True)"
   ],
   "metadata": {
    "execution": {
     "iopub.execute_input": "2020-12-21T07:57:07.198204Z",
     "iopub.status.busy": "2020-12-21T07:57:07.197136Z",
     "iopub.status.idle": "2020-12-21T07:57:07.206713Z",
     "shell.execute_reply": "2020-12-21T07:57:07.206079Z"
    },
    "papermill": {
     "duration": 0.080969,
     "end_time": "2020-12-21T07:57:07.206845",
     "exception": false,
     "start_time": "2020-12-21T07:57:07.125876",
     "status": "completed"
    },
    "tags": [],
    "trusted": true
   },
   "execution_count": 48,
   "outputs": []
  },
  {
   "cell_type": "markdown",
   "source": [
    "## Binning Age and Fare columns"
   ],
   "metadata": {
    "papermill": {
     "duration": 0.0677,
     "end_time": "2020-12-21T07:57:07.343585",
     "exception": false,
     "start_time": "2020-12-21T07:57:07.275885",
     "status": "completed"
    },
    "tags": []
   }
  },
  {
   "cell_type": "code",
   "source": [
    "for dataset in combined_data:    \n",
    "    dataset.loc[ dataset['Age'] <= 16, 'Age'] = 0\n",
    "    dataset.loc[(dataset['Age'] > 16) & (dataset['Age'] <= 32), 'Age'] = 1\n",
    "    dataset.loc[(dataset['Age'] > 32) & (dataset['Age'] <= 48), 'Age'] = 2\n",
    "    dataset.loc[(dataset['Age'] > 48) & (dataset['Age'] <= 64), 'Age'] = 3\n",
    "    dataset.loc[ dataset['Age'] > 64, 'Age'] = 4\n"
   ],
   "metadata": {
    "execution": {
     "iopub.execute_input": "2020-12-21T07:57:07.483921Z",
     "iopub.status.busy": "2020-12-21T07:57:07.482886Z",
     "iopub.status.idle": "2020-12-21T07:57:07.500761Z",
     "shell.execute_reply": "2020-12-21T07:57:07.501382Z"
    },
    "papermill": {
     "duration": 0.089721,
     "end_time": "2020-12-21T07:57:07.501533",
     "exception": false,
     "start_time": "2020-12-21T07:57:07.411812",
     "status": "completed"
    },
    "tags": [],
    "trusted": true
   },
   "execution_count": 49,
   "outputs": []
  },
  {
   "cell_type": "code",
   "source": [
    "for data in combined_data:\n",
    "    data.loc[data['Fare'] < 30, 'Fare'] = 1\n",
    "    data.loc[(data['Fare'] >= 30) & (data['Fare'] < 50),'Fare'] = 2\n",
    "    data.loc[(data['Fare'] >= 50) & (data['Fare'] < 100),'Fare'] = 3\n",
    "    data.loc[(data['Fare'] >= 100),'Fare'] = 4"
   ],
   "metadata": {
    "execution": {
     "iopub.execute_input": "2020-12-21T07:57:07.64397Z",
     "iopub.status.busy": "2020-12-21T07:57:07.642953Z",
     "iopub.status.idle": "2020-12-21T07:57:07.657071Z",
     "shell.execute_reply": "2020-12-21T07:57:07.657572Z"
    },
    "papermill": {
     "duration": 0.087047,
     "end_time": "2020-12-21T07:57:07.657748",
     "exception": false,
     "start_time": "2020-12-21T07:57:07.570701",
     "status": "completed"
    },
    "tags": [],
    "trusted": true
   },
   "execution_count": 50,
   "outputs": []
  },
  {
   "cell_type": "code",
   "source": [
    "corr_train = train_data.corr()\n",
    "sns.heatmap(corr_train)\n",
    "plt.show()"
   ],
   "metadata": {
    "trusted": true
   },
   "execution_count": 51,
   "outputs": [
    {
     "data": {
      "text/plain": "<Figure size 640x480 with 2 Axes>",
      "image/png": "[encoded data removed]"
     },
     "metadata": {},
     "output_type": "display_data"
    }
   ]
  },
  {
   "cell_type": "markdown",
   "source": [
    "# preparing training and testing data"
   ],
   "metadata": {
    "papermill": {
     "duration": 0.069583,
     "end_time": "2020-12-21T07:57:07.798284",
     "exception": false,
     "start_time": "2020-12-21T07:57:07.728701",
     "status": "completed"
    },
    "tags": []
   }
  },
  {
   "cell_type": "code",
   "source": [
    "X_train = train_data.drop(\"Survived\", axis=1)\n",
    "Y_train = train_data[\"Survived\"]\n",
    "X_test = test_data.drop(\"PassengerId\", axis = 1)\n",
    "print(\"shape of X_train\",X_train.shape)\n",
    "print(\"Shape of Y_train\",Y_train.shape)\n",
    "print(\"Shape of x_test\",X_test.shape)\n"
   ],
   "metadata": {
    "execution": {
     "iopub.execute_input": "2020-12-21T07:57:07.946351Z",
     "iopub.status.busy": "2020-12-21T07:57:07.945639Z",
     "iopub.status.idle": "2020-12-21T07:57:07.952802Z",
     "shell.execute_reply": "2020-12-21T07:57:07.95181Z"
    },
    "papermill": {
     "duration": 0.085601,
     "end_time": "2020-12-21T07:57:07.952993",
     "exception": false,
     "start_time": "2020-12-21T07:57:07.867392",
     "status": "completed"
    },
    "tags": [],
    "trusted": true
   },
   "execution_count": 52,
   "outputs": [
    {
     "name": "stdout",
     "output_type": "stream",
     "text": [
      "shape of X_train (891, 7)\n",
      "Shape of Y_train (891,)\n",
      "Shape of x_test (418, 7)\n"
     ]
    }
   ]
  },
  {
   "cell_type": "markdown",
   "source": [
    "# Neural Network\n",
    "<img src = 'https://i.imgur.com/mIsGh53.jpg'>"
   ],
   "metadata": {}
  },
  {
   "cell_type": "markdown",
   "source": [
    "## Import necessary libraries"
   ],
   "metadata": {}
  },
  {
   "cell_type": "code",
   "source": [
    "import tensorflow as tf\n",
    "import keras \n",
    "from keras.layers import Dense, Dropout, Input\n",
    "from keras.models import Sequential\n"
   ],
   "metadata": {
    "trusted": true
   },
   "execution_count": 53,
   "outputs": []
  },
  {
   "cell_type": "markdown",
   "source": [
    "## Defining model\n",
    "Here, I have used different number of neurons for each layer and different value for dropout. You can play with these hyperparameter for better outut."
   ],
   "metadata": {}
  },
  {
   "cell_type": "code",
   "source": [
    "model = Sequential()\n",
    "model.add(Dense(units = 32, input_shape = (7,), activation = 'relu'))\n",
    "model.add(Dense(units = 64, activation = 'relu', kernel_initializer = 'he_normal', use_bias = False))\n",
    "model.add(tf.keras.layers.BatchNormalization())\n",
    "model.add(Dense(units = 128, activation = 'relu',kernel_initializer = 'he_normal', use_bias = False))\n",
    "model.add(Dropout(0.1))\n",
    "model.add(Dense(units = 64, activation = 'relu',kernel_initializer = 'he_normal', use_bias = False))\n",
    "model.add(Dropout(0.1))\n",
    "model.add(Dense(units = 32, activation = 'relu'))\n",
    "model.add(Dropout(0.15))\n",
    "model.add(Dense(units = 16, activation = 'relu'))\n",
    "model.add(Dense(units = 8, activation = 'relu',kernel_initializer = 'he_normal', use_bias = False))\n",
    "model.add(Dense(units =1 , activation = 'sigmoid'))"
   ],
   "metadata": {
    "trusted": true
   },
   "execution_count": 61,
   "outputs": []
  },
  {
   "cell_type": "markdown",
   "source": [
    "### Model summary"
   ],
   "metadata": {}
  },
  {
   "cell_type": "code",
   "source": [
    "model.summary()"
   ],
   "metadata": {
    "trusted": true
   },
   "execution_count": 62,
   "outputs": [
    {
     "name": "stdout",
     "output_type": "stream",
     "text": [
      "Model: \"sequential_1\"\n",
      "_________________________________________________________________\n",
      " Layer (type)                Output Shape              Param #   \n",
      "=================================================================\n",
      " dense_8 (Dense)             (None, 32)                256       \n",
      "                                                                 \n",
      " dense_9 (Dense)             (None, 64)                2048      \n",
      "                                                                 \n",
      " batch_normalization_1 (Batc  (None, 64)               256       \n",
      " hNormalization)                                                 \n",
      "                                                                 \n",
      " dense_10 (Dense)            (None, 128)               8192      \n",
      "                                                                 \n",
      " dropout_3 (Dropout)         (None, 128)               0         \n",
      "                                                                 \n",
      " dense_11 (Dense)            (None, 64)                8192      \n",
      "                                                                 \n",
      " dropout_4 (Dropout)         (None, 64)                0         \n",
      "                                                                 \n",
      " dense_12 (Dense)            (None, 32)                2080      \n",
      "                                                                 \n",
      " dropout_5 (Dropout)         (None, 32)                0         \n",
      "                                                                 \n",
      " dense_13 (Dense)            (None, 16)                528       \n",
      "                                                                 \n",
      " dense_14 (Dense)            (None, 8)                 128       \n",
      "                                                                 \n",
      " dense_15 (Dense)            (None, 1)                 9         \n",
      "                                                                 \n",
      "=================================================================\n",
      "Total params: 21,689\n",
      "Trainable params: 21,561\n",
      "Non-trainable params: 128\n",
      "_________________________________________________________________\n"
     ]
    }
   ]
  },
  {
   "cell_type": "markdown",
   "source": [
    "## Compiling and fitting model"
   ],
   "metadata": {}
  },
  {
   "cell_type": "code",
   "source": [
    "model.compile(loss = tf.keras.losses.binary_crossentropy, optimizer = tf.keras.optimizers.Adam(), metrics = ['acc'])\n",
    "model.fit(X_train, Y_train, batch_size = 32, verbose = 2, epochs = 100)"
   ],
   "metadata": {
    "trusted": true
   },
   "execution_count": 63,
   "outputs": [
    {
     "name": "stdout",
     "output_type": "stream",
     "text": [
      "Epoch 1/500\n",
      "28/28 - 1s - loss: 0.6162 - acc: 0.6442 - 994ms/epoch - 35ms/step\n",
      "Epoch 2/500\n",
      "28/28 - 0s - loss: 0.5151 - acc: 0.7632 - 47ms/epoch - 2ms/step\n",
      "Epoch 3/500\n",
      "28/28 - 0s - loss: 0.4773 - acc: 0.7901 - 31ms/epoch - 1ms/step\n",
      "Epoch 4/500\n",
      "28/28 - 0s - loss: 0.4567 - acc: 0.7890 - 47ms/epoch - 2ms/step\n",
      "Epoch 5/500\n",
      "28/28 - 0s - loss: 0.4431 - acc: 0.8126 - 32ms/epoch - 1ms/step\n",
      "Epoch 6/500\n",
      "28/28 - 0s - loss: 0.4389 - acc: 0.8081 - 31ms/epoch - 1ms/step\n",
      "Epoch 7/500\n",
      "28/28 - 0s - loss: 0.4336 - acc: 0.8215 - 30ms/epoch - 1ms/step\n",
      "Epoch 8/500\n",
      "28/28 - 0s - loss: 0.4286 - acc: 0.8047 - 41ms/epoch - 1ms/step\n",
      "Epoch 9/500\n",
      "28/28 - 0s - loss: 0.4283 - acc: 0.8103 - 31ms/epoch - 1ms/step\n",
      "Epoch 10/500\n",
      "28/28 - 0s - loss: 0.4068 - acc: 0.8294 - 32ms/epoch - 1ms/step\n",
      "Epoch 11/500\n",
      "28/28 - 0s - loss: 0.4268 - acc: 0.8126 - 31ms/epoch - 1ms/step\n",
      "Epoch 12/500\n",
      "28/28 - 0s - loss: 0.4150 - acc: 0.8204 - 31ms/epoch - 1ms/step\n",
      "Epoch 13/500\n",
      "28/28 - 0s - loss: 0.4046 - acc: 0.8339 - 32ms/epoch - 1ms/step\n",
      "Epoch 14/500\n",
      "28/28 - 0s - loss: 0.4020 - acc: 0.8272 - 31ms/epoch - 1ms/step\n",
      "Epoch 15/500\n",
      "28/28 - 0s - loss: 0.3832 - acc: 0.8384 - 40ms/epoch - 1ms/step\n",
      "Epoch 16/500\n",
      "28/28 - 0s - loss: 0.4013 - acc: 0.8339 - 23ms/epoch - 809us/step\n",
      "Epoch 17/500\n",
      "28/28 - 0s - loss: 0.3939 - acc: 0.8204 - 31ms/epoch - 1ms/step\n",
      "Epoch 18/500\n",
      "28/28 - 0s - loss: 0.3982 - acc: 0.8451 - 32ms/epoch - 1ms/step\n",
      "Epoch 19/500\n",
      "28/28 - 0s - loss: 0.3862 - acc: 0.8361 - 31ms/epoch - 1ms/step\n",
      "Epoch 20/500\n",
      "28/28 - 0s - loss: 0.3936 - acc: 0.8316 - 31ms/epoch - 1ms/step\n",
      "Epoch 21/500\n",
      "28/28 - 0s - loss: 0.3986 - acc: 0.8316 - 32ms/epoch - 1ms/step\n",
      "Epoch 22/500\n",
      "28/28 - 0s - loss: 0.3961 - acc: 0.8305 - 31ms/epoch - 1ms/step\n",
      "Epoch 23/500\n",
      "28/28 - 0s - loss: 0.3919 - acc: 0.8406 - 31ms/epoch - 1ms/step\n",
      "Epoch 24/500\n",
      "28/28 - 0s - loss: 0.3778 - acc: 0.8418 - 32ms/epoch - 1ms/step\n",
      "Epoch 25/500\n",
      "28/28 - 0s - loss: 0.3936 - acc: 0.8406 - 31ms/epoch - 1ms/step\n",
      "Epoch 26/500\n",
      "28/28 - 0s - loss: 0.3789 - acc: 0.8474 - 33ms/epoch - 1ms/step\n",
      "Epoch 27/500\n",
      "28/28 - 0s - loss: 0.3911 - acc: 0.8451 - 30ms/epoch - 1ms/step\n",
      "Epoch 28/500\n",
      "28/28 - 0s - loss: 0.3868 - acc: 0.8418 - 31ms/epoch - 1ms/step\n",
      "Epoch 29/500\n",
      "28/28 - 0s - loss: 0.3857 - acc: 0.8384 - 47ms/epoch - 2ms/step\n",
      "Epoch 30/500\n",
      "28/28 - 0s - loss: 0.3855 - acc: 0.8440 - 31ms/epoch - 1ms/step\n",
      "Epoch 31/500\n",
      "28/28 - 0s - loss: 0.3868 - acc: 0.8406 - 31ms/epoch - 1ms/step\n",
      "Epoch 32/500\n",
      "28/28 - 0s - loss: 0.3839 - acc: 0.8361 - 32ms/epoch - 1ms/step\n",
      "Epoch 33/500\n",
      "28/28 - 0s - loss: 0.3841 - acc: 0.8361 - 31ms/epoch - 1ms/step\n",
      "Epoch 34/500\n",
      "28/28 - 0s - loss: 0.3833 - acc: 0.8361 - 31ms/epoch - 1ms/step\n",
      "Epoch 35/500\n",
      "28/28 - 0s - loss: 0.3625 - acc: 0.8519 - 27ms/epoch - 969us/step\n",
      "Epoch 36/500\n",
      "28/28 - 0s - loss: 0.3846 - acc: 0.8328 - 31ms/epoch - 1ms/step\n",
      "Epoch 37/500\n",
      "28/28 - 0s - loss: 0.3680 - acc: 0.8541 - 42ms/epoch - 1ms/step\n",
      "Epoch 38/500\n",
      "28/28 - 0s - loss: 0.3749 - acc: 0.8328 - 41ms/epoch - 1ms/step\n",
      "Epoch 39/500\n",
      "28/28 - 0s - loss: 0.3749 - acc: 0.8496 - 31ms/epoch - 1ms/step\n",
      "Epoch 40/500\n",
      "28/28 - 0s - loss: 0.3827 - acc: 0.8429 - 32ms/epoch - 1ms/step\n",
      "Epoch 41/500\n",
      "28/28 - 0s - loss: 0.3719 - acc: 0.8384 - 47ms/epoch - 2ms/step\n",
      "Epoch 42/500\n",
      "28/28 - 0s - loss: 0.3757 - acc: 0.8462 - 31ms/epoch - 1ms/step\n",
      "Epoch 43/500\n",
      "28/28 - 0s - loss: 0.3740 - acc: 0.8328 - 32ms/epoch - 1ms/step\n",
      "Epoch 44/500\n",
      "28/28 - 0s - loss: 0.3815 - acc: 0.8316 - 48ms/epoch - 2ms/step\n",
      "Epoch 45/500\n",
      "28/28 - 0s - loss: 0.3630 - acc: 0.8440 - 32ms/epoch - 1ms/step\n",
      "Epoch 46/500\n",
      "28/28 - 0s - loss: 0.3777 - acc: 0.8384 - 63ms/epoch - 2ms/step\n",
      "Epoch 47/500\n",
      "28/28 - 0s - loss: 0.3728 - acc: 0.8395 - 32ms/epoch - 1ms/step\n",
      "Epoch 48/500\n",
      "28/28 - 0s - loss: 0.3597 - acc: 0.8462 - 31ms/epoch - 1ms/step\n",
      "Epoch 49/500\n",
      "28/28 - 0s - loss: 0.3647 - acc: 0.8418 - 47ms/epoch - 2ms/step\n",
      "Epoch 50/500\n",
      "28/28 - 0s - loss: 0.3762 - acc: 0.8429 - 32ms/epoch - 1ms/step\n",
      "Epoch 51/500\n",
      "28/28 - 0s - loss: 0.3549 - acc: 0.8496 - 31ms/epoch - 1ms/step\n",
      "Epoch 52/500\n",
      "28/28 - 0s - loss: 0.3721 - acc: 0.8451 - 40ms/epoch - 1ms/step\n",
      "Epoch 53/500\n",
      "28/28 - 0s - loss: 0.3650 - acc: 0.8474 - 32ms/epoch - 1ms/step\n",
      "Epoch 54/500\n",
      "28/28 - 0s - loss: 0.3533 - acc: 0.8597 - 47ms/epoch - 2ms/step\n",
      "Epoch 55/500\n",
      "28/28 - 0s - loss: 0.3589 - acc: 0.8519 - 38ms/epoch - 1ms/step\n",
      "Epoch 56/500\n",
      "28/28 - 0s - loss: 0.3796 - acc: 0.8485 - 41ms/epoch - 1ms/step\n",
      "Epoch 57/500\n",
      "28/28 - 0s - loss: 0.3725 - acc: 0.8361 - 31ms/epoch - 1ms/step\n",
      "Epoch 58/500\n",
      "28/28 - 0s - loss: 0.3686 - acc: 0.8462 - 32ms/epoch - 1ms/step\n",
      "Epoch 59/500\n",
      "28/28 - 0s - loss: 0.3646 - acc: 0.8373 - 47ms/epoch - 2ms/step\n",
      "Epoch 60/500\n",
      "28/28 - 0s - loss: 0.3606 - acc: 0.8429 - 31ms/epoch - 1ms/step\n",
      "Epoch 61/500\n",
      "28/28 - 0s - loss: 0.3594 - acc: 0.8406 - 47ms/epoch - 2ms/step\n",
      "Epoch 62/500\n",
      "28/28 - 0s - loss: 0.3620 - acc: 0.8462 - 31ms/epoch - 1ms/step\n",
      "Epoch 63/500\n",
      "28/28 - 0s - loss: 0.3716 - acc: 0.8350 - 40ms/epoch - 1ms/step\n",
      "Epoch 64/500\n",
      "28/28 - 0s - loss: 0.3639 - acc: 0.8474 - 38ms/epoch - 1ms/step\n",
      "Epoch 65/500\n",
      "28/28 - 0s - loss: 0.3577 - acc: 0.8440 - 31ms/epoch - 1ms/step\n",
      "Epoch 66/500\n",
      "28/28 - 0s - loss: 0.3550 - acc: 0.8451 - 41ms/epoch - 1ms/step\n",
      "Epoch 67/500\n",
      "28/28 - 0s - loss: 0.3609 - acc: 0.8451 - 31ms/epoch - 1ms/step\n",
      "Epoch 68/500\n",
      "28/28 - 0s - loss: 0.3597 - acc: 0.8575 - 31ms/epoch - 1ms/step\n",
      "Epoch 69/500\n",
      "28/28 - 0s - loss: 0.3521 - acc: 0.8373 - 47ms/epoch - 2ms/step\n",
      "Epoch 70/500\n",
      "28/28 - 0s - loss: 0.3605 - acc: 0.8451 - 31ms/epoch - 1ms/step\n",
      "Epoch 71/500\n",
      "28/28 - 0s - loss: 0.3466 - acc: 0.8530 - 47ms/epoch - 2ms/step\n",
      "Epoch 72/500\n",
      "28/28 - 0s - loss: 0.3644 - acc: 0.8328 - 30ms/epoch - 1ms/step\n",
      "Epoch 73/500\n",
      "28/28 - 0s - loss: 0.3491 - acc: 0.8440 - 31ms/epoch - 1ms/step\n",
      "Epoch 74/500\n",
      "28/28 - 0s - loss: 0.3624 - acc: 0.8485 - 47ms/epoch - 2ms/step\n",
      "Epoch 75/500\n",
      "28/28 - 0s - loss: 0.3520 - acc: 0.8429 - 31ms/epoch - 1ms/step\n",
      "Epoch 76/500\n",
      "28/28 - 0s - loss: 0.3582 - acc: 0.8474 - 31ms/epoch - 1ms/step\n",
      "Epoch 77/500\n",
      "28/28 - 0s - loss: 0.3507 - acc: 0.8384 - 47ms/epoch - 2ms/step\n",
      "Epoch 78/500\n",
      "28/28 - 0s - loss: 0.3499 - acc: 0.8395 - 22ms/epoch - 791us/step\n",
      "Epoch 79/500\n",
      "28/28 - 0s - loss: 0.3602 - acc: 0.8451 - 31ms/epoch - 1ms/step\n",
      "Epoch 80/500\n",
      "28/28 - 0s - loss: 0.3757 - acc: 0.8395 - 32ms/epoch - 1ms/step\n",
      "Epoch 81/500\n",
      "28/28 - 0s - loss: 0.3533 - acc: 0.8485 - 31ms/epoch - 1ms/step\n",
      "Epoch 82/500\n",
      "28/28 - 0s - loss: 0.3590 - acc: 0.8406 - 47ms/epoch - 2ms/step\n",
      "Epoch 83/500\n",
      "28/28 - 0s - loss: 0.3559 - acc: 0.8485 - 32ms/epoch - 1ms/step\n",
      "Epoch 84/500\n",
      "28/28 - 0s - loss: 0.3680 - acc: 0.8418 - 31ms/epoch - 1ms/step\n",
      "Epoch 85/500\n",
      "28/28 - 0s - loss: 0.3620 - acc: 0.8496 - 47ms/epoch - 2ms/step\n",
      "Epoch 86/500\n",
      "28/28 - 0s - loss: 0.3637 - acc: 0.8496 - 31ms/epoch - 1ms/step\n",
      "Epoch 87/500\n",
      "28/28 - 0s - loss: 0.3490 - acc: 0.8485 - 31ms/epoch - 1ms/step\n",
      "Epoch 88/500\n",
      "28/28 - 0s - loss: 0.3590 - acc: 0.8462 - 31ms/epoch - 1ms/step\n",
      "Epoch 89/500\n",
      "28/28 - 0s - loss: 0.3560 - acc: 0.8451 - 31ms/epoch - 1ms/step\n",
      "Epoch 90/500\n",
      "28/28 - 0s - loss: 0.3509 - acc: 0.8485 - 47ms/epoch - 2ms/step\n",
      "Epoch 91/500\n",
      "28/28 - 0s - loss: 0.3396 - acc: 0.8608 - 32ms/epoch - 1ms/step\n",
      "Epoch 92/500\n",
      "28/28 - 0s - loss: 0.3531 - acc: 0.8485 - 31ms/epoch - 1ms/step\n",
      "Epoch 93/500\n",
      "28/28 - 0s - loss: 0.3644 - acc: 0.8440 - 47ms/epoch - 2ms/step\n",
      "Epoch 94/500\n",
      "28/28 - 0s - loss: 0.3470 - acc: 0.8474 - 28ms/epoch - 1ms/step\n",
      "Epoch 95/500\n",
      "28/28 - 0s - loss: 0.3597 - acc: 0.8507 - 31ms/epoch - 1ms/step\n",
      "Epoch 96/500\n",
      "28/28 - 0s - loss: 0.3479 - acc: 0.8496 - 32ms/epoch - 1ms/step\n",
      "Epoch 97/500\n",
      "28/28 - 0s - loss: 0.3456 - acc: 0.8429 - 31ms/epoch - 1ms/step\n",
      "Epoch 98/500\n",
      "28/28 - 0s - loss: 0.3528 - acc: 0.8462 - 47ms/epoch - 2ms/step\n",
      "Epoch 99/500\n",
      "28/28 - 0s - loss: 0.3410 - acc: 0.8575 - 32ms/epoch - 1ms/step\n",
      "Epoch 100/500\n",
      "28/28 - 0s - loss: 0.3482 - acc: 0.8474 - 31ms/epoch - 1ms/step\n",
      "Epoch 101/500\n",
      "28/28 - 0s - loss: 0.3575 - acc: 0.8451 - 47ms/epoch - 2ms/step\n",
      "Epoch 102/500\n",
      "28/28 - 0s - loss: 0.3481 - acc: 0.8462 - 32ms/epoch - 1ms/step\n",
      "Epoch 103/500\n",
      "28/28 - 0s - loss: 0.3335 - acc: 0.8563 - 31ms/epoch - 1ms/step\n",
      "Epoch 104/500\n",
      "28/28 - 0s - loss: 0.3439 - acc: 0.8496 - 47ms/epoch - 2ms/step\n",
      "Epoch 105/500\n",
      "28/28 - 0s - loss: 0.3460 - acc: 0.8597 - 31ms/epoch - 1ms/step\n",
      "Epoch 106/500\n",
      "28/28 - 0s - loss: 0.3420 - acc: 0.8541 - 31ms/epoch - 1ms/step\n",
      "Epoch 107/500\n",
      "28/28 - 0s - loss: 0.3541 - acc: 0.8451 - 32ms/epoch - 1ms/step\n",
      "Epoch 108/500\n",
      "28/28 - 0s - loss: 0.3450 - acc: 0.8620 - 27ms/epoch - 972us/step\n",
      "Epoch 109/500\n",
      "28/28 - 0s - loss: 0.3432 - acc: 0.8496 - 31ms/epoch - 1ms/step\n",
      "Epoch 110/500\n",
      "28/28 - 0s - loss: 0.3447 - acc: 0.8530 - 47ms/epoch - 2ms/step\n",
      "Epoch 111/500\n",
      "28/28 - 0s - loss: 0.3462 - acc: 0.8552 - 31ms/epoch - 1ms/step\n",
      "Epoch 112/500\n",
      "28/28 - 0s - loss: 0.3281 - acc: 0.8541 - 31ms/epoch - 1ms/step\n",
      "Epoch 113/500\n",
      "28/28 - 0s - loss: 0.3600 - acc: 0.8474 - 47ms/epoch - 2ms/step\n",
      "Epoch 114/500\n",
      "28/28 - 0s - loss: 0.3388 - acc: 0.8519 - 31ms/epoch - 1ms/step\n",
      "Epoch 115/500\n",
      "28/28 - 0s - loss: 0.3465 - acc: 0.8395 - 37ms/epoch - 1ms/step\n",
      "Epoch 116/500\n",
      "28/28 - 0s - loss: 0.3424 - acc: 0.8563 - 42ms/epoch - 1ms/step\n",
      "Epoch 117/500\n",
      "28/28 - 0s - loss: 0.3391 - acc: 0.8552 - 31ms/epoch - 1ms/step\n",
      "Epoch 118/500\n",
      "28/28 - 0s - loss: 0.3525 - acc: 0.8530 - 47ms/epoch - 2ms/step\n",
      "Epoch 119/500\n",
      "28/28 - 0s - loss: 0.3377 - acc: 0.8474 - 31ms/epoch - 1ms/step\n",
      "Epoch 120/500\n",
      "28/28 - 0s - loss: 0.3410 - acc: 0.8507 - 31ms/epoch - 1ms/step\n",
      "Epoch 121/500\n",
      "28/28 - 0s - loss: 0.3345 - acc: 0.8575 - 49ms/epoch - 2ms/step\n",
      "Epoch 122/500\n",
      "28/28 - 0s - loss: 0.3446 - acc: 0.8620 - 31ms/epoch - 1ms/step\n",
      "Epoch 123/500\n",
      "28/28 - 0s - loss: 0.3371 - acc: 0.8552 - 38ms/epoch - 1ms/step\n",
      "Epoch 124/500\n",
      "28/28 - 0s - loss: 0.3478 - acc: 0.8429 - 41ms/epoch - 1ms/step\n",
      "Epoch 125/500\n",
      "28/28 - 0s - loss: 0.3397 - acc: 0.8496 - 31ms/epoch - 1ms/step\n",
      "Epoch 126/500\n",
      "28/28 - 0s - loss: 0.3470 - acc: 0.8496 - 32ms/epoch - 1ms/step\n",
      "Epoch 127/500\n",
      "28/28 - 0s - loss: 0.3442 - acc: 0.8507 - 47ms/epoch - 2ms/step\n",
      "Epoch 128/500\n",
      "28/28 - 0s - loss: 0.3421 - acc: 0.8552 - 31ms/epoch - 1ms/step\n",
      "Epoch 129/500\n",
      "28/28 - 0s - loss: 0.3398 - acc: 0.8485 - 32ms/epoch - 1ms/step\n",
      "Epoch 130/500\n",
      "28/28 - 0s - loss: 0.3280 - acc: 0.8552 - 47ms/epoch - 2ms/step\n",
      "Epoch 131/500\n",
      "28/28 - 0s - loss: 0.3341 - acc: 0.8519 - 31ms/epoch - 1ms/step\n",
      "Epoch 132/500\n",
      "28/28 - 0s - loss: 0.3405 - acc: 0.8519 - 23ms/epoch - 809us/step\n",
      "Epoch 133/500\n",
      "28/28 - 0s - loss: 0.3321 - acc: 0.8530 - 47ms/epoch - 2ms/step\n",
      "Epoch 134/500\n",
      "28/28 - 0s - loss: 0.3320 - acc: 0.8451 - 35ms/epoch - 1ms/step\n",
      "Epoch 135/500\n",
      "28/28 - 0s - loss: 0.3312 - acc: 0.8563 - 31ms/epoch - 1ms/step\n",
      "Epoch 136/500\n",
      "28/28 - 0s - loss: 0.3491 - acc: 0.8530 - 31ms/epoch - 1ms/step\n",
      "Epoch 137/500\n",
      "28/28 - 0s - loss: 0.3422 - acc: 0.8597 - 32ms/epoch - 1ms/step\n",
      "Epoch 138/500\n",
      "28/28 - 0s - loss: 0.3455 - acc: 0.8563 - 31ms/epoch - 1ms/step\n",
      "Epoch 139/500\n",
      "28/28 - 0s - loss: 0.3363 - acc: 0.8552 - 47ms/epoch - 2ms/step\n",
      "Epoch 140/500\n",
      "28/28 - 0s - loss: 0.3714 - acc: 0.8496 - 32ms/epoch - 1ms/step\n",
      "Epoch 141/500\n",
      "28/28 - 0s - loss: 0.3449 - acc: 0.8563 - 47ms/epoch - 2ms/step\n",
      "Epoch 142/500\n",
      "28/28 - 0s - loss: 0.3500 - acc: 0.8552 - 32ms/epoch - 1ms/step\n",
      "Epoch 143/500\n",
      "28/28 - 0s - loss: 0.3566 - acc: 0.8485 - 31ms/epoch - 1ms/step\n",
      "Epoch 144/500\n",
      "28/28 - 0s - loss: 0.3292 - acc: 0.8586 - 47ms/epoch - 2ms/step\n",
      "Epoch 145/500\n",
      "28/28 - 0s - loss: 0.3372 - acc: 0.8530 - 32ms/epoch - 1ms/step\n",
      "Epoch 146/500\n",
      "28/28 - 0s - loss: 0.3509 - acc: 0.8496 - 31ms/epoch - 1ms/step\n",
      "Epoch 147/500\n",
      "28/28 - 0s - loss: 0.3441 - acc: 0.8608 - 31ms/epoch - 1ms/step\n",
      "Epoch 148/500\n",
      "28/28 - 0s - loss: 0.3402 - acc: 0.8496 - 32ms/epoch - 1ms/step\n",
      "Epoch 149/500\n",
      "28/28 - 0s - loss: 0.3381 - acc: 0.8474 - 31ms/epoch - 1ms/step\n",
      "Epoch 150/500\n",
      "28/28 - 0s - loss: 0.3427 - acc: 0.8530 - 48ms/epoch - 2ms/step\n",
      "Epoch 151/500\n",
      "28/28 - 0s - loss: 0.3526 - acc: 0.8519 - 31ms/epoch - 1ms/step\n",
      "Epoch 152/500\n",
      "28/28 - 0s - loss: 0.3405 - acc: 0.8575 - 31ms/epoch - 1ms/step\n",
      "Epoch 153/500\n",
      "28/28 - 0s - loss: 0.3497 - acc: 0.8474 - 47ms/epoch - 2ms/step\n",
      "Epoch 154/500\n",
      "28/28 - 0s - loss: 0.3473 - acc: 0.8462 - 31ms/epoch - 1ms/step\n",
      "Epoch 155/500\n",
      "28/28 - 0s - loss: 0.3467 - acc: 0.8586 - 31ms/epoch - 1ms/step\n",
      "Epoch 156/500\n",
      "28/28 - 0s - loss: 0.3373 - acc: 0.8552 - 47ms/epoch - 2ms/step\n",
      "Epoch 157/500\n",
      "28/28 - 0s - loss: 0.3439 - acc: 0.8530 - 31ms/epoch - 1ms/step\n",
      "Epoch 158/500\n",
      "28/28 - 0s - loss: 0.3394 - acc: 0.8485 - 31ms/epoch - 1ms/step\n",
      "Epoch 159/500\n",
      "28/28 - 0s - loss: 0.3436 - acc: 0.8507 - 47ms/epoch - 2ms/step\n",
      "Epoch 160/500\n",
      "28/28 - 0s - loss: 0.3299 - acc: 0.8563 - 31ms/epoch - 1ms/step\n",
      "Epoch 161/500\n",
      "28/28 - 0s - loss: 0.3281 - acc: 0.8541 - 41ms/epoch - 1ms/step\n",
      "Epoch 162/500\n",
      "28/28 - 0s - loss: 0.3383 - acc: 0.8575 - 41ms/epoch - 1ms/step\n",
      "Epoch 163/500\n",
      "28/28 - 0s - loss: 0.3380 - acc: 0.8597 - 31ms/epoch - 1ms/step\n",
      "Epoch 164/500\n",
      "28/28 - 0s - loss: 0.3461 - acc: 0.8496 - 32ms/epoch - 1ms/step\n",
      "Epoch 165/500\n",
      "28/28 - 0s - loss: 0.3345 - acc: 0.8530 - 31ms/epoch - 1ms/step\n",
      "Epoch 166/500\n",
      "28/28 - 0s - loss: 0.3244 - acc: 0.8485 - 31ms/epoch - 1ms/step\n",
      "Epoch 167/500\n",
      "28/28 - 0s - loss: 0.3384 - acc: 0.8507 - 32ms/epoch - 1ms/step\n",
      "Epoch 168/500\n",
      "28/28 - 0s - loss: 0.3406 - acc: 0.8496 - 47ms/epoch - 2ms/step\n",
      "Epoch 169/500\n",
      "28/28 - 0s - loss: 0.3436 - acc: 0.8496 - 40ms/epoch - 1ms/step\n",
      "Epoch 170/500\n",
      "28/28 - 0s - loss: 0.3329 - acc: 0.8631 - 23ms/epoch - 809us/step\n",
      "Epoch 171/500\n",
      "28/28 - 0s - loss: 0.3278 - acc: 0.8552 - 31ms/epoch - 1ms/step\n",
      "Epoch 172/500\n",
      "28/28 - 0s - loss: 0.3349 - acc: 0.8507 - 32ms/epoch - 1ms/step\n",
      "Epoch 173/500\n",
      "28/28 - 0s - loss: 0.3359 - acc: 0.8485 - 47ms/epoch - 2ms/step\n",
      "Epoch 174/500\n",
      "28/28 - 0s - loss: 0.3355 - acc: 0.8597 - 31ms/epoch - 1ms/step\n",
      "Epoch 175/500\n",
      "28/28 - 0s - loss: 0.3332 - acc: 0.8462 - 47ms/epoch - 2ms/step\n",
      "Epoch 176/500\n",
      "28/28 - 0s - loss: 0.3307 - acc: 0.8575 - 31ms/epoch - 1ms/step\n",
      "Epoch 177/500\n",
      "28/28 - 0s - loss: 0.3268 - acc: 0.8586 - 33ms/epoch - 1ms/step\n",
      "Epoch 178/500\n",
      "28/28 - 0s - loss: 0.3370 - acc: 0.8507 - 31ms/epoch - 1ms/step\n",
      "Epoch 179/500\n",
      "28/28 - 0s - loss: 0.3321 - acc: 0.8519 - 31ms/epoch - 1ms/step\n",
      "Epoch 180/500\n",
      "28/28 - 0s - loss: 0.3421 - acc: 0.8519 - 47ms/epoch - 2ms/step\n",
      "Epoch 181/500\n",
      "28/28 - 0s - loss: 0.3347 - acc: 0.8575 - 31ms/epoch - 1ms/step\n",
      "Epoch 182/500\n",
      "28/28 - 0s - loss: 0.3501 - acc: 0.8406 - 31ms/epoch - 1ms/step\n",
      "Epoch 183/500\n",
      "28/28 - 0s - loss: 0.3385 - acc: 0.8519 - 32ms/epoch - 1ms/step\n",
      "Epoch 184/500\n",
      "28/28 - 0s - loss: 0.3296 - acc: 0.8519 - 31ms/epoch - 1ms/step\n",
      "Epoch 185/500\n",
      "28/28 - 0s - loss: 0.3374 - acc: 0.8530 - 31ms/epoch - 1ms/step\n",
      "Epoch 186/500\n",
      "28/28 - 0s - loss: 0.3383 - acc: 0.8653 - 32ms/epoch - 1ms/step\n",
      "Epoch 187/500\n",
      "28/28 - 0s - loss: 0.3423 - acc: 0.8440 - 31ms/epoch - 1ms/step\n",
      "Epoch 188/500\n",
      "28/28 - 0s - loss: 0.3408 - acc: 0.8462 - 36ms/epoch - 1ms/step\n",
      "Epoch 189/500\n",
      "28/28 - 0s - loss: 0.3436 - acc: 0.8552 - 28ms/epoch - 1ms/step\n",
      "Epoch 190/500\n",
      "28/28 - 0s - loss: 0.3378 - acc: 0.8541 - 47ms/epoch - 2ms/step\n",
      "Epoch 191/500\n",
      "28/28 - 0s - loss: 0.3432 - acc: 0.8440 - 32ms/epoch - 1ms/step\n",
      "Epoch 192/500\n",
      "28/28 - 0s - loss: 0.3376 - acc: 0.8507 - 31ms/epoch - 1ms/step\n",
      "Epoch 193/500\n",
      "28/28 - 0s - loss: 0.3404 - acc: 0.8563 - 47ms/epoch - 2ms/step\n",
      "Epoch 194/500\n",
      "28/28 - 0s - loss: 0.3379 - acc: 0.8563 - 31ms/epoch - 1ms/step\n",
      "Epoch 195/500\n",
      "28/28 - 0s - loss: 0.3266 - acc: 0.8541 - 31ms/epoch - 1ms/step\n",
      "Epoch 196/500\n",
      "28/28 - 0s - loss: 0.3343 - acc: 0.8530 - 47ms/epoch - 2ms/step\n",
      "Epoch 197/500\n",
      "28/28 - 0s - loss: 0.3395 - acc: 0.8485 - 32ms/epoch - 1ms/step\n",
      "Epoch 198/500\n",
      "28/28 - 0s - loss: 0.3411 - acc: 0.8496 - 31ms/epoch - 1ms/step\n",
      "Epoch 199/500\n",
      "28/28 - 0s - loss: 0.3380 - acc: 0.8530 - 47ms/epoch - 2ms/step\n",
      "Epoch 200/500\n",
      "28/28 - 0s - loss: 0.3412 - acc: 0.8485 - 31ms/epoch - 1ms/step\n",
      "Epoch 201/500\n",
      "28/28 - 0s - loss: 0.3347 - acc: 0.8496 - 31ms/epoch - 1ms/step\n",
      "Epoch 202/500\n",
      "28/28 - 0s - loss: 0.3471 - acc: 0.8474 - 47ms/epoch - 2ms/step\n",
      "Epoch 203/500\n",
      "28/28 - 0s - loss: 0.3294 - acc: 0.8462 - 31ms/epoch - 1ms/step\n",
      "Epoch 204/500\n",
      "28/28 - 0s - loss: 0.3295 - acc: 0.8563 - 31ms/epoch - 1ms/step\n",
      "Epoch 205/500\n",
      "28/28 - 0s - loss: 0.3325 - acc: 0.8575 - 47ms/epoch - 2ms/step\n",
      "Epoch 206/500\n",
      "28/28 - 0s - loss: 0.3354 - acc: 0.8530 - 31ms/epoch - 1ms/step\n",
      "Epoch 207/500\n",
      "28/28 - 0s - loss: 0.3451 - acc: 0.8496 - 47ms/epoch - 2ms/step\n",
      "Epoch 208/500\n",
      "28/28 - 0s - loss: 0.3320 - acc: 0.8575 - 31ms/epoch - 1ms/step\n",
      "Epoch 209/500\n",
      "28/28 - 0s - loss: 0.3291 - acc: 0.8608 - 47ms/epoch - 2ms/step\n",
      "Epoch 210/500\n",
      "28/28 - 0s - loss: 0.3375 - acc: 0.8552 - 32ms/epoch - 1ms/step\n",
      "Epoch 211/500\n",
      "28/28 - 0s - loss: 0.3347 - acc: 0.8563 - 31ms/epoch - 1ms/step\n",
      "Epoch 212/500\n",
      "28/28 - 0s - loss: 0.3279 - acc: 0.8541 - 47ms/epoch - 2ms/step\n",
      "Epoch 213/500\n",
      "28/28 - 0s - loss: 0.3375 - acc: 0.8485 - 32ms/epoch - 1ms/step\n",
      "Epoch 214/500\n",
      "28/28 - 0s - loss: 0.3307 - acc: 0.8563 - 31ms/epoch - 1ms/step\n",
      "Epoch 215/500\n",
      "28/28 - 0s - loss: 0.3322 - acc: 0.8530 - 47ms/epoch - 2ms/step\n",
      "Epoch 216/500\n",
      "28/28 - 0s - loss: 0.3368 - acc: 0.8530 - 22ms/epoch - 782us/step\n",
      "Epoch 217/500\n",
      "28/28 - 0s - loss: 0.3318 - acc: 0.8631 - 47ms/epoch - 2ms/step\n",
      "Epoch 218/500\n",
      "28/28 - 0s - loss: 0.3343 - acc: 0.8519 - 31ms/epoch - 1ms/step\n",
      "Epoch 219/500\n",
      "28/28 - 0s - loss: 0.3299 - acc: 0.8608 - 31ms/epoch - 1ms/step\n",
      "Epoch 220/500\n",
      "28/28 - 0s - loss: 0.3323 - acc: 0.8485 - 47ms/epoch - 2ms/step\n",
      "Epoch 221/500\n",
      "28/28 - 0s - loss: 0.3281 - acc: 0.8597 - 32ms/epoch - 1ms/step\n",
      "Epoch 222/500\n",
      "28/28 - 0s - loss: 0.3196 - acc: 0.8597 - 31ms/epoch - 1ms/step\n",
      "Epoch 223/500\n",
      "28/28 - 0s - loss: 0.3224 - acc: 0.8620 - 47ms/epoch - 2ms/step\n",
      "Epoch 224/500\n",
      "28/28 - 0s - loss: 0.3332 - acc: 0.8608 - 32ms/epoch - 1ms/step\n",
      "Epoch 225/500\n",
      "28/28 - 0s - loss: 0.3371 - acc: 0.8552 - 47ms/epoch - 2ms/step\n",
      "Epoch 226/500\n",
      "28/28 - 0s - loss: 0.3294 - acc: 0.8552 - 34ms/epoch - 1ms/step\n",
      "Epoch 227/500\n",
      "28/28 - 0s - loss: 0.3229 - acc: 0.8507 - 29ms/epoch - 1ms/step\n",
      "Epoch 228/500\n",
      "28/28 - 0s - loss: 0.3314 - acc: 0.8485 - 47ms/epoch - 2ms/step\n",
      "Epoch 229/500\n",
      "28/28 - 0s - loss: 0.3380 - acc: 0.8519 - 32ms/epoch - 1ms/step\n",
      "Epoch 230/500\n",
      "28/28 - 0s - loss: 0.3265 - acc: 0.8530 - 47ms/epoch - 2ms/step\n",
      "Epoch 231/500\n",
      "28/28 - 0s - loss: 0.3295 - acc: 0.8530 - 36ms/epoch - 1ms/step\n",
      "Epoch 232/500\n",
      "28/28 - 0s - loss: 0.3430 - acc: 0.8406 - 32ms/epoch - 1ms/step\n",
      "Epoch 233/500\n",
      "28/28 - 0s - loss: 0.3238 - acc: 0.8563 - 31ms/epoch - 1ms/step\n",
      "Epoch 234/500\n",
      "28/28 - 0s - loss: 0.3307 - acc: 0.8507 - 31ms/epoch - 1ms/step\n",
      "Epoch 235/500\n",
      "28/28 - 0s - loss: 0.3366 - acc: 0.8496 - 31ms/epoch - 1ms/step\n",
      "Epoch 236/500\n",
      "28/28 - 0s - loss: 0.3312 - acc: 0.8496 - 47ms/epoch - 2ms/step\n",
      "Epoch 237/500\n",
      "28/28 - 0s - loss: 0.3398 - acc: 0.8631 - 32ms/epoch - 1ms/step\n",
      "Epoch 238/500\n",
      "28/28 - 0s - loss: 0.3428 - acc: 0.8485 - 31ms/epoch - 1ms/step\n",
      "Epoch 239/500\n",
      "28/28 - 0s - loss: 0.3469 - acc: 0.8530 - 47ms/epoch - 2ms/step\n",
      "Epoch 240/500\n",
      "28/28 - 0s - loss: 0.3348 - acc: 0.8474 - 32ms/epoch - 1ms/step\n",
      "Epoch 241/500\n",
      "28/28 - 0s - loss: 0.3277 - acc: 0.8552 - 31ms/epoch - 1ms/step\n",
      "Epoch 242/500\n",
      "28/28 - 0s - loss: 0.3247 - acc: 0.8563 - 47ms/epoch - 2ms/step\n",
      "Epoch 243/500\n",
      "28/28 - 0s - loss: 0.3229 - acc: 0.8586 - 32ms/epoch - 1ms/step\n",
      "Epoch 244/500\n",
      "28/28 - 0s - loss: 0.3397 - acc: 0.8507 - 31ms/epoch - 1ms/step\n",
      "Epoch 245/500\n",
      "28/28 - 0s - loss: 0.3382 - acc: 0.8575 - 40ms/epoch - 1ms/step\n",
      "Epoch 246/500\n",
      "28/28 - 0s - loss: 0.3266 - acc: 0.8496 - 31ms/epoch - 1ms/step\n",
      "Epoch 247/500\n",
      "28/28 - 0s - loss: 0.3347 - acc: 0.8541 - 31ms/epoch - 1ms/step\n",
      "Epoch 248/500\n",
      "28/28 - 0s - loss: 0.3355 - acc: 0.8496 - 32ms/epoch - 1ms/step\n",
      "Epoch 249/500\n",
      "28/28 - 0s - loss: 0.3270 - acc: 0.8597 - 47ms/epoch - 2ms/step\n",
      "Epoch 250/500\n",
      "28/28 - 0s - loss: 0.3244 - acc: 0.8597 - 31ms/epoch - 1ms/step\n",
      "Epoch 251/500\n",
      "28/28 - 0s - loss: 0.3203 - acc: 0.8575 - 32ms/epoch - 1ms/step\n",
      "Epoch 252/500\n",
      "28/28 - 0s - loss: 0.3319 - acc: 0.8541 - 31ms/epoch - 1ms/step\n",
      "Epoch 253/500\n",
      "28/28 - 0s - loss: 0.3284 - acc: 0.8519 - 31ms/epoch - 1ms/step\n",
      "Epoch 254/500\n",
      "28/28 - 0s - loss: 0.3275 - acc: 0.8429 - 36ms/epoch - 1ms/step\n",
      "Epoch 255/500\n",
      "28/28 - 0s - loss: 0.3227 - acc: 0.8552 - 31ms/epoch - 1ms/step\n",
      "Epoch 256/500\n",
      "28/28 - 0s - loss: 0.3292 - acc: 0.8462 - 33ms/epoch - 1ms/step\n",
      "Epoch 257/500\n",
      "28/28 - 0s - loss: 0.3314 - acc: 0.8586 - 46ms/epoch - 2ms/step\n",
      "Epoch 258/500\n",
      "28/28 - 0s - loss: 0.3289 - acc: 0.8552 - 31ms/epoch - 1ms/step\n",
      "Epoch 259/500\n",
      "28/28 - 0s - loss: 0.3320 - acc: 0.8563 - 32ms/epoch - 1ms/step\n",
      "Epoch 260/500\n",
      "28/28 - 0s - loss: 0.3336 - acc: 0.8563 - 31ms/epoch - 1ms/step\n",
      "Epoch 261/500\n",
      "28/28 - 0s - loss: 0.3257 - acc: 0.8620 - 31ms/epoch - 1ms/step\n",
      "Epoch 262/500\n",
      "28/28 - 0s - loss: 0.3326 - acc: 0.8451 - 47ms/epoch - 2ms/step\n",
      "Epoch 263/500\n",
      "28/28 - 0s - loss: 0.3240 - acc: 0.8496 - 31ms/epoch - 1ms/step\n",
      "Epoch 264/500\n",
      "28/28 - 0s - loss: 0.3288 - acc: 0.8507 - 35ms/epoch - 1ms/step\n",
      "Epoch 265/500\n",
      "28/28 - 0s - loss: 0.3437 - acc: 0.8440 - 31ms/epoch - 1ms/step\n",
      "Epoch 266/500\n",
      "28/28 - 0s - loss: 0.3415 - acc: 0.8451 - 31ms/epoch - 1ms/step\n",
      "Epoch 267/500\n",
      "28/28 - 0s - loss: 0.3267 - acc: 0.8586 - 32ms/epoch - 1ms/step\n",
      "Epoch 268/500\n",
      "28/28 - 0s - loss: 0.3412 - acc: 0.8474 - 31ms/epoch - 1ms/step\n",
      "Epoch 269/500\n",
      "28/28 - 0s - loss: 0.3302 - acc: 0.8597 - 31ms/epoch - 1ms/step\n",
      "Epoch 270/500\n",
      "28/28 - 0s - loss: 0.3286 - acc: 0.8485 - 32ms/epoch - 1ms/step\n",
      "Epoch 271/500\n",
      "28/28 - 0s - loss: 0.3237 - acc: 0.8586 - 34ms/epoch - 1ms/step\n",
      "Epoch 272/500\n",
      "28/28 - 0s - loss: 0.3305 - acc: 0.8552 - 35ms/epoch - 1ms/step\n",
      "Epoch 273/500\n",
      "28/28 - 0s - loss: 0.3309 - acc: 0.8552 - 28ms/epoch - 1ms/step\n",
      "Epoch 274/500\n",
      "28/28 - 0s - loss: 0.3336 - acc: 0.8496 - 47ms/epoch - 2ms/step\n",
      "Epoch 275/500\n",
      "28/28 - 0s - loss: 0.3286 - acc: 0.8496 - 32ms/epoch - 1ms/step\n",
      "Epoch 276/500\n",
      "28/28 - 0s - loss: 0.3175 - acc: 0.8519 - 31ms/epoch - 1ms/step\n",
      "Epoch 277/500\n",
      "28/28 - 0s - loss: 0.3288 - acc: 0.8575 - 47ms/epoch - 2ms/step\n",
      "Epoch 278/500\n",
      "28/28 - 0s - loss: 0.3436 - acc: 0.8552 - 31ms/epoch - 1ms/step\n",
      "Epoch 279/500\n",
      "28/28 - 0s - loss: 0.3244 - acc: 0.8552 - 31ms/epoch - 1ms/step\n",
      "Epoch 280/500\n",
      "28/28 - 0s - loss: 0.3274 - acc: 0.8620 - 47ms/epoch - 2ms/step\n",
      "Epoch 281/500\n",
      "28/28 - 0s - loss: 0.3229 - acc: 0.8575 - 32ms/epoch - 1ms/step\n",
      "Epoch 282/500\n",
      "28/28 - 0s - loss: 0.3220 - acc: 0.8597 - 31ms/epoch - 1ms/step\n",
      "Epoch 283/500\n",
      "28/28 - 0s - loss: 0.3283 - acc: 0.8541 - 44ms/epoch - 2ms/step\n",
      "Epoch 284/500\n",
      "28/28 - 0s - loss: 0.3211 - acc: 0.8530 - 35ms/epoch - 1ms/step\n",
      "Epoch 285/500\n",
      "28/28 - 0s - loss: 0.3292 - acc: 0.8440 - 31ms/epoch - 1ms/step\n",
      "Epoch 286/500\n",
      "28/28 - 0s - loss: 0.3251 - acc: 0.8552 - 34ms/epoch - 1ms/step\n",
      "Epoch 287/500\n",
      "28/28 - 0s - loss: 0.3346 - acc: 0.8519 - 44ms/epoch - 2ms/step\n",
      "Epoch 288/500\n",
      "28/28 - 0s - loss: 0.3214 - acc: 0.8530 - 31ms/epoch - 1ms/step\n",
      "Epoch 289/500\n",
      "28/28 - 0s - loss: 0.3273 - acc: 0.8631 - 32ms/epoch - 1ms/step\n",
      "Epoch 290/500\n",
      "28/28 - 0s - loss: 0.3271 - acc: 0.8507 - 31ms/epoch - 1ms/step\n",
      "Epoch 291/500\n",
      "28/28 - 0s - loss: 0.3289 - acc: 0.8485 - 31ms/epoch - 1ms/step\n",
      "Epoch 292/500\n",
      "28/28 - 0s - loss: 0.3275 - acc: 0.8462 - 32ms/epoch - 1ms/step\n",
      "Epoch 293/500\n",
      "28/28 - 0s - loss: 0.3453 - acc: 0.8485 - 47ms/epoch - 2ms/step\n",
      "Epoch 294/500\n",
      "28/28 - 0s - loss: 0.3217 - acc: 0.8552 - 31ms/epoch - 1ms/step\n",
      "Epoch 295/500\n",
      "28/28 - 0s - loss: 0.3355 - acc: 0.8519 - 26ms/epoch - 934us/step\n",
      "Epoch 296/500\n",
      "28/28 - 0s - loss: 0.3274 - acc: 0.8563 - 47ms/epoch - 2ms/step\n",
      "Epoch 297/500\n",
      "28/28 - 0s - loss: 0.3269 - acc: 0.8575 - 32ms/epoch - 1ms/step\n",
      "Epoch 298/500\n",
      "28/28 - 0s - loss: 0.3264 - acc: 0.8552 - 41ms/epoch - 1ms/step\n",
      "Epoch 299/500\n",
      "28/28 - 0s - loss: 0.3279 - acc: 0.8519 - 31ms/epoch - 1ms/step\n",
      "Epoch 300/500\n",
      "28/28 - 0s - loss: 0.3347 - acc: 0.8474 - 32ms/epoch - 1ms/step\n",
      "Epoch 301/500\n",
      "28/28 - 0s - loss: 0.3286 - acc: 0.8575 - 31ms/epoch - 1ms/step\n",
      "Epoch 302/500\n",
      "28/28 - 0s - loss: 0.3311 - acc: 0.8530 - 31ms/epoch - 1ms/step\n",
      "Epoch 303/500\n",
      "28/28 - 0s - loss: 0.3241 - acc: 0.8552 - 32ms/epoch - 1ms/step\n",
      "Epoch 304/500\n",
      "28/28 - 0s - loss: 0.3383 - acc: 0.8496 - 31ms/epoch - 1ms/step\n",
      "Epoch 305/500\n",
      "28/28 - 0s - loss: 0.3299 - acc: 0.8496 - 34ms/epoch - 1ms/step\n",
      "Epoch 306/500\n",
      "28/28 - 0s - loss: 0.3404 - acc: 0.8474 - 39ms/epoch - 1ms/step\n",
      "Epoch 307/500\n",
      "28/28 - 0s - loss: 0.3302 - acc: 0.8575 - 36ms/epoch - 1ms/step\n",
      "Epoch 308/500\n",
      "28/28 - 0s - loss: 0.3258 - acc: 0.8608 - 32ms/epoch - 1ms/step\n",
      "Epoch 309/500\n",
      "28/28 - 0s - loss: 0.3255 - acc: 0.8597 - 31ms/epoch - 1ms/step\n",
      "Epoch 310/500\n",
      "28/28 - 0s - loss: 0.3338 - acc: 0.8507 - 31ms/epoch - 1ms/step\n",
      "Epoch 311/500\n",
      "28/28 - 0s - loss: 0.3285 - acc: 0.8541 - 31ms/epoch - 1ms/step\n",
      "Epoch 312/500\n",
      "28/28 - 0s - loss: 0.3279 - acc: 0.8541 - 42ms/epoch - 2ms/step\n",
      "Epoch 313/500\n",
      "28/28 - 0s - loss: 0.3311 - acc: 0.8507 - 42ms/epoch - 1ms/step\n",
      "Epoch 314/500\n",
      "28/28 - 0s - loss: 0.3226 - acc: 0.8631 - 37ms/epoch - 1ms/step\n",
      "Epoch 315/500\n",
      "28/28 - 0s - loss: 0.3230 - acc: 0.8586 - 31ms/epoch - 1ms/step\n",
      "Epoch 316/500\n",
      "28/28 - 0s - loss: 0.3198 - acc: 0.8552 - 32ms/epoch - 1ms/step\n",
      "Epoch 317/500\n",
      "28/28 - 0s - loss: 0.3252 - acc: 0.8519 - 46ms/epoch - 2ms/step\n",
      "Epoch 318/500\n",
      "28/28 - 0s - loss: 0.3268 - acc: 0.8541 - 31ms/epoch - 1ms/step\n",
      "Epoch 319/500\n",
      "28/28 - 0s - loss: 0.3232 - acc: 0.8608 - 32ms/epoch - 1ms/step\n",
      "Epoch 320/500\n",
      "28/28 - 0s - loss: 0.3238 - acc: 0.8586 - 47ms/epoch - 2ms/step\n",
      "Epoch 321/500\n",
      "28/28 - 0s - loss: 0.3240 - acc: 0.8552 - 47ms/epoch - 2ms/step\n",
      "Epoch 322/500\n",
      "28/28 - 0s - loss: 0.3471 - acc: 0.8507 - 47ms/epoch - 2ms/step\n",
      "Epoch 323/500\n",
      "28/28 - 0s - loss: 0.3303 - acc: 0.8541 - 31ms/epoch - 1ms/step\n",
      "Epoch 324/500\n",
      "28/28 - 0s - loss: 0.3281 - acc: 0.8631 - 55ms/epoch - 2ms/step\n",
      "Epoch 325/500\n",
      "28/28 - 0s - loss: 0.3217 - acc: 0.8563 - 40ms/epoch - 1ms/step\n",
      "Epoch 326/500\n",
      "28/28 - 0s - loss: 0.3246 - acc: 0.8563 - 47ms/epoch - 2ms/step\n",
      "Epoch 327/500\n",
      "28/28 - 0s - loss: 0.3264 - acc: 0.8541 - 31ms/epoch - 1ms/step\n",
      "Epoch 328/500\n",
      "28/28 - 0s - loss: 0.3200 - acc: 0.8575 - 46ms/epoch - 2ms/step\n",
      "Epoch 329/500\n",
      "28/28 - 0s - loss: 0.3319 - acc: 0.8575 - 33ms/epoch - 1ms/step\n",
      "Epoch 330/500\n",
      "28/28 - 0s - loss: 0.3259 - acc: 0.8507 - 31ms/epoch - 1ms/step\n",
      "Epoch 331/500\n",
      "28/28 - 0s - loss: 0.3255 - acc: 0.8586 - 36ms/epoch - 1ms/step\n",
      "Epoch 332/500\n",
      "28/28 - 0s - loss: 0.3286 - acc: 0.8530 - 42ms/epoch - 2ms/step\n",
      "Epoch 333/500\n",
      "28/28 - 0s - loss: 0.3175 - acc: 0.8586 - 31ms/epoch - 1ms/step\n",
      "Epoch 334/500\n",
      "28/28 - 0s - loss: 0.3226 - acc: 0.8541 - 47ms/epoch - 2ms/step\n",
      "Epoch 335/500\n",
      "28/28 - 0s - loss: 0.3208 - acc: 0.8552 - 31ms/epoch - 1ms/step\n",
      "Epoch 336/500\n",
      "28/28 - 0s - loss: 0.3226 - acc: 0.8541 - 31ms/epoch - 1ms/step\n",
      "Epoch 337/500\n",
      "28/28 - 0s - loss: 0.3344 - acc: 0.8530 - 32ms/epoch - 1ms/step\n",
      "Epoch 338/500\n",
      "28/28 - 0s - loss: 0.3447 - acc: 0.8485 - 31ms/epoch - 1ms/step\n",
      "Epoch 339/500\n",
      "28/28 - 0s - loss: 0.3530 - acc: 0.8440 - 47ms/epoch - 2ms/step\n",
      "Epoch 340/500\n",
      "28/28 - 0s - loss: 0.3325 - acc: 0.8485 - 33ms/epoch - 1ms/step\n",
      "Epoch 341/500\n",
      "28/28 - 0s - loss: 0.3312 - acc: 0.8418 - 31ms/epoch - 1ms/step\n",
      "Epoch 342/500\n",
      "28/28 - 0s - loss: 0.3243 - acc: 0.8664 - 47ms/epoch - 2ms/step\n",
      "Epoch 343/500\n",
      "28/28 - 0s - loss: 0.3369 - acc: 0.8519 - 31ms/epoch - 1ms/step\n",
      "Epoch 344/500\n",
      "28/28 - 0s - loss: 0.3286 - acc: 0.8485 - 31ms/epoch - 1ms/step\n",
      "Epoch 345/500\n",
      "28/28 - 0s - loss: 0.3371 - acc: 0.8519 - 32ms/epoch - 1ms/step\n",
      "Epoch 346/500\n",
      "28/28 - 0s - loss: 0.3367 - acc: 0.8496 - 47ms/epoch - 2ms/step\n",
      "Epoch 347/500\n",
      "28/28 - 0s - loss: 0.3249 - acc: 0.8586 - 39ms/epoch - 1ms/step\n",
      "Epoch 348/500\n",
      "28/28 - 0s - loss: 0.3219 - acc: 0.8530 - 39ms/epoch - 1ms/step\n",
      "Epoch 349/500\n",
      "28/28 - 0s - loss: 0.3230 - acc: 0.8608 - 31ms/epoch - 1ms/step\n",
      "Epoch 350/500\n",
      "28/28 - 0s - loss: 0.3289 - acc: 0.8575 - 32ms/epoch - 1ms/step\n",
      "Epoch 351/500\n",
      "28/28 - 0s - loss: 0.3330 - acc: 0.8530 - 47ms/epoch - 2ms/step\n",
      "Epoch 352/500\n",
      "28/28 - 0s - loss: 0.3423 - acc: 0.8496 - 31ms/epoch - 1ms/step\n",
      "Epoch 353/500\n",
      "28/28 - 0s - loss: 0.3267 - acc: 0.8563 - 34ms/epoch - 1ms/step\n",
      "Epoch 354/500\n",
      "28/28 - 0s - loss: 0.3305 - acc: 0.8496 - 31ms/epoch - 1ms/step\n",
      "Epoch 355/500\n",
      "28/28 - 0s - loss: 0.3276 - acc: 0.8496 - 47ms/epoch - 2ms/step\n",
      "Epoch 356/500\n",
      "28/28 - 0s - loss: 0.3250 - acc: 0.8530 - 36ms/epoch - 1ms/step\n",
      "Epoch 357/500\n",
      "28/28 - 0s - loss: 0.3279 - acc: 0.8519 - 31ms/epoch - 1ms/step\n",
      "Epoch 358/500\n",
      "28/28 - 0s - loss: 0.3298 - acc: 0.8451 - 40ms/epoch - 1ms/step\n",
      "Epoch 359/500\n",
      "28/28 - 0s - loss: 0.3278 - acc: 0.8496 - 38ms/epoch - 1ms/step\n",
      "Epoch 360/500\n",
      "28/28 - 0s - loss: 0.3234 - acc: 0.8575 - 31ms/epoch - 1ms/step\n",
      "Epoch 361/500\n",
      "28/28 - 0s - loss: 0.3112 - acc: 0.8620 - 32ms/epoch - 1ms/step\n",
      "Epoch 362/500\n",
      "28/28 - 0s - loss: 0.3237 - acc: 0.8552 - 47ms/epoch - 2ms/step\n",
      "Epoch 363/500\n",
      "28/28 - 0s - loss: 0.3286 - acc: 0.8485 - 31ms/epoch - 1ms/step\n",
      "Epoch 364/500\n",
      "28/28 - 0s - loss: 0.3285 - acc: 0.8507 - 47ms/epoch - 2ms/step\n",
      "Epoch 365/500\n",
      "28/28 - 0s - loss: 0.3304 - acc: 0.8563 - 31ms/epoch - 1ms/step\n",
      "Epoch 366/500\n",
      "28/28 - 0s - loss: 0.3274 - acc: 0.8597 - 43ms/epoch - 2ms/step\n",
      "Epoch 367/500\n",
      "28/28 - 0s - loss: 0.3440 - acc: 0.8541 - 36ms/epoch - 1ms/step\n",
      "Epoch 368/500\n",
      "28/28 - 0s - loss: 0.3363 - acc: 0.8496 - 31ms/epoch - 1ms/step\n",
      "Epoch 369/500\n",
      "28/28 - 0s - loss: 0.3232 - acc: 0.8541 - 33ms/epoch - 1ms/step\n",
      "Epoch 370/500\n",
      "28/28 - 0s - loss: 0.3282 - acc: 0.8586 - 45ms/epoch - 2ms/step\n",
      "Epoch 371/500\n",
      "28/28 - 0s - loss: 0.3254 - acc: 0.8608 - 31ms/epoch - 1ms/step\n",
      "Epoch 372/500\n",
      "28/28 - 0s - loss: 0.3278 - acc: 0.8485 - 31ms/epoch - 1ms/step\n",
      "Epoch 373/500\n",
      "28/28 - 0s - loss: 0.3306 - acc: 0.8597 - 31ms/epoch - 1ms/step\n",
      "Epoch 374/500\n",
      "28/28 - 0s - loss: 0.3262 - acc: 0.8507 - 31ms/epoch - 1ms/step\n",
      "Epoch 375/500\n",
      "28/28 - 0s - loss: 0.3206 - acc: 0.8575 - 32ms/epoch - 1ms/step\n",
      "Epoch 376/500\n",
      "28/28 - 0s - loss: 0.3198 - acc: 0.8575 - 47ms/epoch - 2ms/step\n",
      "Epoch 377/500\n",
      "28/28 - 0s - loss: 0.3325 - acc: 0.8474 - 36ms/epoch - 1ms/step\n",
      "Epoch 378/500\n",
      "28/28 - 0s - loss: 0.3219 - acc: 0.8563 - 27ms/epoch - 970us/step\n",
      "Epoch 379/500\n",
      "28/28 - 0s - loss: 0.3184 - acc: 0.8642 - 47ms/epoch - 2ms/step\n",
      "Epoch 380/500\n",
      "28/28 - 0s - loss: 0.3253 - acc: 0.8507 - 32ms/epoch - 1ms/step\n",
      "Epoch 381/500\n",
      "28/28 - 0s - loss: 0.3265 - acc: 0.8519 - 36ms/epoch - 1ms/step\n",
      "Epoch 382/500\n",
      "28/28 - 0s - loss: 0.3211 - acc: 0.8597 - 49ms/epoch - 2ms/step\n",
      "Epoch 383/500\n",
      "28/28 - 0s - loss: 0.3271 - acc: 0.8563 - 33ms/epoch - 1ms/step\n",
      "Epoch 384/500\n",
      "28/28 - 0s - loss: 0.3202 - acc: 0.8687 - 31ms/epoch - 1ms/step\n",
      "Epoch 385/500\n",
      "28/28 - 0s - loss: 0.3240 - acc: 0.8608 - 43ms/epoch - 2ms/step\n",
      "Epoch 386/500\n",
      "28/28 - 0s - loss: 0.3302 - acc: 0.8563 - 35ms/epoch - 1ms/step\n",
      "Epoch 387/500\n",
      "28/28 - 0s - loss: 0.3508 - acc: 0.8507 - 31ms/epoch - 1ms/step\n",
      "Epoch 388/500\n",
      "28/28 - 0s - loss: 0.3407 - acc: 0.8552 - 34ms/epoch - 1ms/step\n",
      "Epoch 389/500\n",
      "28/28 - 0s - loss: 0.3319 - acc: 0.8507 - 45ms/epoch - 2ms/step\n",
      "Epoch 390/500\n",
      "28/28 - 0s - loss: 0.3416 - acc: 0.8462 - 31ms/epoch - 1ms/step\n",
      "Epoch 391/500\n",
      "28/28 - 0s - loss: 0.3347 - acc: 0.8552 - 32ms/epoch - 1ms/step\n",
      "Epoch 392/500\n",
      "28/28 - 0s - loss: 0.3245 - acc: 0.8575 - 31ms/epoch - 1ms/step\n",
      "Epoch 393/500\n",
      "28/28 - 0s - loss: 0.3282 - acc: 0.8597 - 31ms/epoch - 1ms/step\n",
      "Epoch 394/500\n",
      "28/28 - 0s - loss: 0.3261 - acc: 0.8586 - 47ms/epoch - 2ms/step\n",
      "Epoch 395/500\n",
      "28/28 - 0s - loss: 0.3180 - acc: 0.8608 - 39ms/epoch - 1ms/step\n",
      "Epoch 396/500\n",
      "28/28 - 0s - loss: 0.3344 - acc: 0.8519 - 32ms/epoch - 1ms/step\n",
      "Epoch 397/500\n",
      "28/28 - 0s - loss: 0.3314 - acc: 0.8563 - 31ms/epoch - 1ms/step\n",
      "Epoch 398/500\n",
      "28/28 - 0s - loss: 0.3215 - acc: 0.8552 - 31ms/epoch - 1ms/step\n",
      "Epoch 399/500\n",
      "28/28 - 0s - loss: 0.3255 - acc: 0.8597 - 32ms/epoch - 1ms/step\n",
      "Epoch 400/500\n",
      "28/28 - 0s - loss: 0.3278 - acc: 0.8563 - 31ms/epoch - 1ms/step\n",
      "Epoch 401/500\n",
      "28/28 - 0s - loss: 0.3238 - acc: 0.8519 - 31ms/epoch - 1ms/step\n",
      "Epoch 402/500\n",
      "28/28 - 0s - loss: 0.3236 - acc: 0.8474 - 32ms/epoch - 1ms/step\n",
      "Epoch 403/500\n",
      "28/28 - 0s - loss: 0.3222 - acc: 0.8519 - 31ms/epoch - 1ms/step\n",
      "Epoch 404/500\n",
      "28/28 - 0s - loss: 0.3197 - acc: 0.8653 - 47ms/epoch - 2ms/step\n",
      "Epoch 405/500\n",
      "28/28 - 0s - loss: 0.3262 - acc: 0.8575 - 31ms/epoch - 1ms/step\n",
      "Epoch 406/500\n",
      "28/28 - 0s - loss: 0.3284 - acc: 0.8541 - 31ms/epoch - 1ms/step\n",
      "Epoch 407/500\n",
      "28/28 - 0s - loss: 0.3167 - acc: 0.8575 - 32ms/epoch - 1ms/step\n",
      "Epoch 408/500\n",
      "28/28 - 0s - loss: 0.3189 - acc: 0.8575 - 31ms/epoch - 1ms/step\n",
      "Epoch 409/500\n",
      "28/28 - 0s - loss: 0.3254 - acc: 0.8608 - 31ms/epoch - 1ms/step\n",
      "Epoch 410/500\n",
      "28/28 - 0s - loss: 0.3204 - acc: 0.8586 - 35ms/epoch - 1ms/step\n",
      "Epoch 411/500\n",
      "28/28 - 0s - loss: 0.3241 - acc: 0.8552 - 31ms/epoch - 1ms/step\n",
      "Epoch 412/500\n",
      "28/28 - 0s - loss: 0.3236 - acc: 0.8530 - 31ms/epoch - 1ms/step\n",
      "Epoch 413/500\n",
      "28/28 - 0s - loss: 0.3226 - acc: 0.8597 - 47ms/epoch - 2ms/step\n",
      "Epoch 414/500\n",
      "28/28 - 0s - loss: 0.3217 - acc: 0.8597 - 31ms/epoch - 1ms/step\n",
      "Epoch 415/500\n",
      "28/28 - 0s - loss: 0.3302 - acc: 0.8462 - 36ms/epoch - 1ms/step\n",
      "Epoch 416/500\n",
      "28/28 - 0s - loss: 0.3211 - acc: 0.8552 - 42ms/epoch - 2ms/step\n",
      "Epoch 417/500\n",
      "28/28 - 0s - loss: 0.3315 - acc: 0.8507 - 31ms/epoch - 1ms/step\n",
      "Epoch 418/500\n",
      "28/28 - 0s - loss: 0.3315 - acc: 0.8563 - 32ms/epoch - 1ms/step\n",
      "Epoch 419/500\n",
      "28/28 - 0s - loss: 0.3290 - acc: 0.8519 - 47ms/epoch - 2ms/step\n",
      "Epoch 420/500\n",
      "28/28 - 0s - loss: 0.3416 - acc: 0.8496 - 31ms/epoch - 1ms/step\n",
      "Epoch 421/500\n",
      "28/28 - 0s - loss: 0.3273 - acc: 0.8530 - 32ms/epoch - 1ms/step\n",
      "Epoch 422/500\n",
      "28/28 - 0s - loss: 0.3176 - acc: 0.8642 - 47ms/epoch - 2ms/step\n",
      "Epoch 423/500\n",
      "28/28 - 0s - loss: 0.3258 - acc: 0.8597 - 39ms/epoch - 1ms/step\n",
      "Epoch 424/500\n",
      "28/28 - 0s - loss: 0.3266 - acc: 0.8552 - 31ms/epoch - 1ms/step\n",
      "Epoch 425/500\n",
      "28/28 - 0s - loss: 0.3277 - acc: 0.8530 - 31ms/epoch - 1ms/step\n",
      "Epoch 426/500\n",
      "28/28 - 0s - loss: 0.3321 - acc: 0.8530 - 35ms/epoch - 1ms/step\n",
      "Epoch 427/500\n",
      "28/28 - 0s - loss: 0.3178 - acc: 0.8608 - 44ms/epoch - 2ms/step\n",
      "Epoch 428/500\n",
      "28/28 - 0s - loss: 0.3248 - acc: 0.8496 - 31ms/epoch - 1ms/step\n",
      "Epoch 429/500\n",
      "28/28 - 0s - loss: 0.3189 - acc: 0.8563 - 32ms/epoch - 1ms/step\n",
      "Epoch 430/500\n",
      "28/28 - 0s - loss: 0.3244 - acc: 0.8474 - 31ms/epoch - 1ms/step\n",
      "Epoch 431/500\n",
      "28/28 - 0s - loss: 0.3208 - acc: 0.8575 - 31ms/epoch - 1ms/step\n",
      "Epoch 432/500\n",
      "28/28 - 0s - loss: 0.3180 - acc: 0.8575 - 31ms/epoch - 1ms/step\n",
      "Epoch 433/500\n",
      "28/28 - 0s - loss: 0.3216 - acc: 0.8541 - 31ms/epoch - 1ms/step\n",
      "Epoch 434/500\n",
      "28/28 - 0s - loss: 0.3245 - acc: 0.8496 - 38ms/epoch - 1ms/step\n",
      "Epoch 435/500\n",
      "28/28 - 0s - loss: 0.3310 - acc: 0.8462 - 41ms/epoch - 1ms/step\n",
      "Epoch 436/500\n",
      "28/28 - 0s - loss: 0.3215 - acc: 0.8586 - 31ms/epoch - 1ms/step\n",
      "Epoch 437/500\n",
      "28/28 - 0s - loss: 0.3201 - acc: 0.8519 - 32ms/epoch - 1ms/step\n",
      "Epoch 438/500\n",
      "28/28 - 0s - loss: 0.3225 - acc: 0.8519 - 47ms/epoch - 2ms/step\n",
      "Epoch 439/500\n",
      "28/28 - 0s - loss: 0.3253 - acc: 0.8631 - 31ms/epoch - 1ms/step\n",
      "Epoch 440/500\n",
      "28/28 - 0s - loss: 0.3170 - acc: 0.8462 - 32ms/epoch - 1ms/step\n",
      "Epoch 441/500\n",
      "28/28 - 0s - loss: 0.3356 - acc: 0.8530 - 47ms/epoch - 2ms/step\n",
      "Epoch 442/500\n",
      "28/28 - 0s - loss: 0.3274 - acc: 0.8507 - 40ms/epoch - 1ms/step\n",
      "Epoch 443/500\n",
      "28/28 - 0s - loss: 0.3238 - acc: 0.8586 - 23ms/epoch - 809us/step\n",
      "Epoch 444/500\n",
      "28/28 - 0s - loss: 0.3317 - acc: 0.8440 - 31ms/epoch - 1ms/step\n",
      "Epoch 445/500\n",
      "28/28 - 0s - loss: 0.3264 - acc: 0.8552 - 32ms/epoch - 1ms/step\n",
      "Epoch 446/500\n",
      "28/28 - 0s - loss: 0.3197 - acc: 0.8541 - 47ms/epoch - 2ms/step\n",
      "Epoch 447/500\n",
      "28/28 - 0s - loss: 0.3202 - acc: 0.8608 - 31ms/epoch - 1ms/step\n",
      "Epoch 448/500\n",
      "28/28 - 0s - loss: 0.3280 - acc: 0.8507 - 32ms/epoch - 1ms/step\n",
      "Epoch 449/500\n",
      "28/28 - 0s - loss: 0.3149 - acc: 0.8575 - 47ms/epoch - 2ms/step\n",
      "Epoch 450/500\n",
      "28/28 - 0s - loss: 0.3180 - acc: 0.8530 - 31ms/epoch - 1ms/step\n",
      "Epoch 451/500\n",
      "28/28 - 0s - loss: 0.3147 - acc: 0.8631 - 32ms/epoch - 1ms/step\n",
      "Epoch 452/500\n",
      "28/28 - 0s - loss: 0.3153 - acc: 0.8541 - 47ms/epoch - 2ms/step\n",
      "Epoch 453/500\n",
      "28/28 - 0s - loss: 0.3261 - acc: 0.8575 - 33ms/epoch - 1ms/step\n",
      "Epoch 454/500\n",
      "28/28 - 0s - loss: 0.3221 - acc: 0.8541 - 30ms/epoch - 1ms/step\n",
      "Epoch 455/500\n",
      "28/28 - 0s - loss: 0.3242 - acc: 0.8552 - 47ms/epoch - 2ms/step\n",
      "Epoch 456/500\n",
      "28/28 - 0s - loss: 0.3226 - acc: 0.8552 - 32ms/epoch - 1ms/step\n",
      "Epoch 457/500\n",
      "28/28 - 0s - loss: 0.3213 - acc: 0.8519 - 31ms/epoch - 1ms/step\n",
      "Epoch 458/500\n",
      "28/28 - 0s - loss: 0.3300 - acc: 0.8530 - 47ms/epoch - 2ms/step\n",
      "Epoch 459/500\n",
      "28/28 - 0s - loss: 0.3283 - acc: 0.8519 - 32ms/epoch - 1ms/step\n",
      "Epoch 460/500\n",
      "28/28 - 0s - loss: 0.3196 - acc: 0.8552 - 31ms/epoch - 1ms/step\n",
      "Epoch 461/500\n",
      "28/28 - 0s - loss: 0.3231 - acc: 0.8507 - 47ms/epoch - 2ms/step\n",
      "Epoch 462/500\n",
      "28/28 - 0s - loss: 0.3219 - acc: 0.8586 - 32ms/epoch - 1ms/step\n",
      "Epoch 463/500\n",
      "28/28 - 0s - loss: 0.3224 - acc: 0.8608 - 31ms/epoch - 1ms/step\n",
      "Epoch 464/500\n",
      "28/28 - 0s - loss: 0.3198 - acc: 0.8552 - 47ms/epoch - 2ms/step\n",
      "Epoch 465/500\n",
      "28/28 - 0s - loss: 0.3171 - acc: 0.8563 - 31ms/epoch - 1ms/step\n",
      "Epoch 466/500\n",
      "28/28 - 0s - loss: 0.3197 - acc: 0.8642 - 31ms/epoch - 1ms/step\n",
      "Epoch 467/500\n",
      "28/28 - 0s - loss: 0.3208 - acc: 0.8563 - 32ms/epoch - 1ms/step\n",
      "Epoch 468/500\n",
      "28/28 - 0s - loss: 0.3344 - acc: 0.8429 - 31ms/epoch - 1ms/step\n",
      "Epoch 469/500\n",
      "28/28 - 0s - loss: 0.3437 - acc: 0.8440 - 31ms/epoch - 1ms/step\n",
      "Epoch 470/500\n",
      "28/28 - 0s - loss: 0.3315 - acc: 0.8507 - 32ms/epoch - 1ms/step\n",
      "Epoch 471/500\n",
      "28/28 - 0s - loss: 0.3309 - acc: 0.8496 - 31ms/epoch - 1ms/step\n",
      "Epoch 472/500\n",
      "28/28 - 0s - loss: 0.3315 - acc: 0.8575 - 31ms/epoch - 1ms/step\n",
      "Epoch 473/500\n",
      "28/28 - 0s - loss: 0.3318 - acc: 0.8552 - 47ms/epoch - 2ms/step\n",
      "Epoch 474/500\n",
      "28/28 - 0s - loss: 0.3231 - acc: 0.8530 - 31ms/epoch - 1ms/step\n",
      "Epoch 475/500\n",
      "28/28 - 0s - loss: 0.3298 - acc: 0.8563 - 35ms/epoch - 1ms/step\n",
      "Epoch 476/500\n",
      "28/28 - 0s - loss: 0.3152 - acc: 0.8608 - 28ms/epoch - 1ms/step\n",
      "Epoch 477/500\n",
      "28/28 - 0s - loss: 0.3289 - acc: 0.8563 - 31ms/epoch - 1ms/step\n",
      "Epoch 478/500\n",
      "28/28 - 0s - loss: 0.3219 - acc: 0.8575 - 32ms/epoch - 1ms/step\n",
      "Epoch 479/500\n",
      "28/28 - 0s - loss: 0.3275 - acc: 0.8530 - 47ms/epoch - 2ms/step\n",
      "Epoch 480/500\n",
      "28/28 - 0s - loss: 0.3214 - acc: 0.8474 - 28ms/epoch - 1ms/step\n",
      "Epoch 481/500\n",
      "28/28 - 0s - loss: 0.3191 - acc: 0.8597 - 47ms/epoch - 2ms/step\n",
      "Epoch 482/500\n",
      "28/28 - 0s - loss: 0.3169 - acc: 0.8541 - 31ms/epoch - 1ms/step\n",
      "Epoch 483/500\n",
      "28/28 - 0s - loss: 0.3212 - acc: 0.8563 - 40ms/epoch - 1ms/step\n",
      "Epoch 484/500\n",
      "28/28 - 0s - loss: 0.3229 - acc: 0.8519 - 39ms/epoch - 1ms/step\n",
      "Epoch 485/500\n",
      "28/28 - 0s - loss: 0.3222 - acc: 0.8586 - 37ms/epoch - 1ms/step\n",
      "Epoch 486/500\n",
      "28/28 - 0s - loss: 0.3193 - acc: 0.8586 - 32ms/epoch - 1ms/step\n",
      "Epoch 487/500\n",
      "28/28 - 0s - loss: 0.3308 - acc: 0.8474 - 31ms/epoch - 1ms/step\n",
      "Epoch 488/500\n",
      "28/28 - 0s - loss: 0.3207 - acc: 0.8563 - 47ms/epoch - 2ms/step\n",
      "Epoch 489/500\n",
      "28/28 - 0s - loss: 0.3179 - acc: 0.8608 - 32ms/epoch - 1ms/step\n",
      "Epoch 490/500\n",
      "28/28 - 0s - loss: 0.3239 - acc: 0.8485 - 31ms/epoch - 1ms/step\n",
      "Epoch 491/500\n",
      "28/28 - 0s - loss: 0.3279 - acc: 0.8597 - 47ms/epoch - 2ms/step\n",
      "Epoch 492/500\n",
      "28/28 - 0s - loss: 0.3218 - acc: 0.8597 - 27ms/epoch - 952us/step\n",
      "Epoch 493/500\n",
      "28/28 - 0s - loss: 0.3183 - acc: 0.8552 - 31ms/epoch - 1ms/step\n",
      "Epoch 494/500\n",
      "28/28 - 0s - loss: 0.3292 - acc: 0.8552 - 42ms/epoch - 2ms/step\n",
      "Epoch 495/500\n",
      "28/28 - 0s - loss: 0.3228 - acc: 0.8608 - 31ms/epoch - 1ms/step\n",
      "Epoch 496/500\n",
      "28/28 - 0s - loss: 0.3226 - acc: 0.8563 - 47ms/epoch - 2ms/step\n",
      "Epoch 497/500\n",
      "28/28 - 0s - loss: 0.3216 - acc: 0.8575 - 32ms/epoch - 1ms/step\n",
      "Epoch 498/500\n",
      "28/28 - 0s - loss: 0.3331 - acc: 0.8631 - 31ms/epoch - 1ms/step\n",
      "Epoch 499/500\n",
      "28/28 - 0s - loss: 0.3234 - acc: 0.8608 - 31ms/epoch - 1ms/step\n",
      "Epoch 500/500\n",
      "28/28 - 0s - loss: 0.3198 - acc: 0.8563 - 32ms/epoch - 1ms/step\n"
     ]
    },
    {
     "data": {
      "text/plain": "<keras.callbacks.History at 0x1e28f67ba00>"
     },
     "execution_count": 63,
     "metadata": {},
     "output_type": "execute_result"
    }
   ]
  },
  {
   "cell_type": "code",
   "execution_count": 70,
   "outputs": [
    {
     "name": "stderr",
     "output_type": "stream",
     "text": [
      "WARNING:absl:Found untraced functions such as _update_step_xla while saving (showing 1 of 1). These functions will not be directly callable after loading.\n"
     ]
    },
    {
     "name": "stdout",
     "output_type": "stream",
     "text": [
      "INFO:tensorflow:Assets written to: ../../output/titanic/models/assets\n"
     ]
    },
    {
     "name": "stderr",
     "output_type": "stream",
     "text": [
      "INFO:tensorflow:Assets written to: ../../output/titanic/models/assets\n"
     ]
    }
   ],
   "source": [
    "model.save('../../output/titanic/models/')"
   ],
   "metadata": {
    "collapsed": false
   }
  },
  {
   "cell_type": "markdown",
   "source": [
    "**Prediction for test data**"
   ],
   "metadata": {
    "papermill": {
     "duration": 0.089203,
     "end_time": "2020-12-21T07:57:19.415297",
     "exception": false,
     "start_time": "2020-12-21T07:57:19.326094",
     "status": "completed"
    },
    "tags": []
   }
  },
  {
   "cell_type": "code",
   "source": [
    "predict = model.predict(X_test)\n",
    "#since we have use sigmoid activation function in output layer\n",
    "predict = (predict > 0.5).astype(int).ravel()\n",
    "print(predict)"
   ],
   "metadata": {
    "execution": {
     "iopub.execute_input": "2020-12-21T07:57:19.602158Z",
     "iopub.status.busy": "2020-12-21T07:57:19.601033Z",
     "iopub.status.idle": "2020-12-21T07:57:19.754567Z",
     "shell.execute_reply": "2020-12-21T07:57:19.753945Z"
    },
    "papermill": {
     "duration": 0.250125,
     "end_time": "2020-12-21T07:57:19.754696",
     "exception": false,
     "start_time": "2020-12-21T07:57:19.504571",
     "status": "completed"
    },
    "tags": [],
    "trusted": true
   },
   "execution_count": 64,
   "outputs": [
    {
     "name": "stdout",
     "output_type": "stream",
     "text": [
      "14/14 [==============================] - 0s 1ms/step\n",
      "[0 0 0 0 1 0 1 0 1 0 0 1 1 0 1 1 0 0 0 1 1 1 1 1 1 0 1 0 0 0 0 0 0 1 1 0 0\n",
      " 0 0 1 0 0 0 1 1 0 1 0 1 0 0 0 1 1 0 0 0 0 0 1 0 0 0 1 1 1 1 0 0 1 1 0 0 0\n",
      " 1 1 0 1 0 1 1 0 0 0 0 0 1 0 0 1 1 0 1 0 0 0 1 0 0 0 1 0 0 0 1 0 0 0 0 0 0\n",
      " 1 1 1 1 0 0 0 0 1 1 0 1 0 0 0 0 1 0 0 0 0 1 0 0 0 0 0 0 0 0 1 0 0 1 0 0 0\n",
      " 0 0 1 0 0 0 0 0 1 0 1 1 1 1 1 0 0 1 0 0 1 0 0 0 0 0 0 1 1 1 1 1 0 1 1 0 1\n",
      " 0 1 0 0 0 0 0 1 0 1 0 1 0 0 0 1 1 1 1 0 0 1 0 1 0 0 0 0 1 0 0 1 0 1 0 1 0\n",
      " 1 0 0 1 0 1 0 0 0 1 0 0 1 0 1 0 1 1 0 1 1 0 0 0 1 0 1 1 1 0 0 0 0 0 0 0 1\n",
      " 0 0 0 1 0 0 0 0 0 0 0 0 0 1 1 0 1 0 0 0 0 0 1 1 1 0 0 0 0 0 0 0 1 0 1 0 0\n",
      " 1 0 0 0 0 0 0 0 1 1 0 1 0 0 0 0 0 1 1 1 0 0 0 0 0 0 0 1 1 0 1 0 0 0 1 1 0\n",
      " 1 0 0 0 0 0 1 0 0 0 1 0 1 0 1 0 1 1 0 0 0 0 0 1 0 0 1 0 1 1 0 1 0 0 0 1 0\n",
      " 0 1 0 0 1 1 0 0 0 0 0 0 0 1 0 1 0 0 0 1 0 1 1 0 0 1 0 1 0 0 1 0 1 0 0 0 0\n",
      " 0 1 0 1 1 0 0 1 0 0 1]\n"
     ]
    }
   ]
  },
  {
   "cell_type": "markdown",
   "source": [
    "# For submission"
   ],
   "metadata": {
    "papermill": {
     "duration": 0.090122,
     "end_time": "2020-12-21T07:57:19.936582",
     "exception": false,
     "start_time": "2020-12-21T07:57:19.84646",
     "status": "completed"
    },
    "tags": []
   }
  },
  {
   "cell_type": "code",
   "source": [
    "submit = pd.DataFrame({\"PassengerId\":test_data.PassengerId, 'Survived':predict})\n",
    "submit.to_csv(\"../../output/titanic/death_prediction_per_passenger.csv\",index = False)"
   ],
   "metadata": {
    "execution": {
     "iopub.execute_input": "2020-12-21T07:57:20.126638Z",
     "iopub.status.busy": "2020-12-21T07:57:20.125949Z",
     "iopub.status.idle": "2020-12-21T07:57:20.382913Z",
     "shell.execute_reply": "2020-12-21T07:57:20.382298Z"
    },
    "papermill": {
     "duration": 0.354566,
     "end_time": "2020-12-21T07:57:20.383039",
     "exception": false,
     "start_time": "2020-12-21T07:57:20.028473",
     "status": "completed"
    },
    "tags": [],
    "trusted": true
   },
   "execution_count": 69,
   "outputs": []
  },
  {
   "cell_type": "code",
   "source": [
    "from sklearn import metrics\n",
    "Y_pred_rand = (model.predict(X_train) > 0.5).astype(int)\n",
    "print('Precision : ', np.round(metrics.precision_score(Y_train, Y_pred_rand)*100,2))\n",
    "print('Accuracy : ', np.round(metrics.accuracy_score(Y_train, Y_pred_rand)*100,2))\n",
    "print('Recall : ', np.round(metrics.recall_score(Y_train, Y_pred_rand)*100,2))\n",
    "print('F1 score : ', np.round(metrics.f1_score(Y_train, Y_pred_rand)*100,2))\n",
    "print('AUC : ', np.round(metrics.roc_auc_score(Y_train, Y_pred_rand)*100,2))"
   ],
   "metadata": {
    "execution": {
     "iopub.execute_input": "2020-12-21T07:57:20.572441Z",
     "iopub.status.busy": "2020-12-21T07:57:20.571367Z",
     "iopub.status.idle": "2020-12-21T07:57:20.651419Z",
     "shell.execute_reply": "2020-12-21T07:57:20.65087Z"
    },
    "papermill": {
     "duration": 0.179237,
     "end_time": "2020-12-21T07:57:20.651541",
     "exception": false,
     "start_time": "2020-12-21T07:57:20.472304",
     "status": "completed"
    },
    "tags": [],
    "trusted": true
   },
   "execution_count": 66,
   "outputs": [
    {
     "name": "stdout",
     "output_type": "stream",
     "text": [
      "28/28 [==============================] - 0s 579us/step\n",
      "Precision :  86.05\n",
      "Accuracy :  85.97\n",
      "Recall :  75.73\n",
      "F1 score :  80.56\n",
      "AUC :  84.04\n"
     ]
    }
   ]
  },
  {
   "cell_type": "code",
   "source": [
    "\n",
    "# plotting the confusion matrix in heatmap\n",
    "matrix = metrics.confusion_matrix(Y_train, Y_pred_rand)\n",
    "sns.heatmap(matrix, annot = True,fmt = 'g')\n",
    "plt.show()"
   ],
   "metadata": {
    "execution": {
     "iopub.execute_input": "2020-12-21T07:57:20.841145Z",
     "iopub.status.busy": "2020-12-21T07:57:20.840338Z",
     "iopub.status.idle": "2020-12-21T07:57:21.030101Z",
     "shell.execute_reply": "2020-12-21T07:57:21.030647Z"
    },
    "papermill": {
     "duration": 0.286179,
     "end_time": "2020-12-21T07:57:21.030791",
     "exception": false,
     "start_time": "2020-12-21T07:57:20.744612",
     "status": "completed"
    },
    "tags": [],
    "trusted": true
   },
   "execution_count": 67,
   "outputs": [
    {
     "data": {
      "text/plain": "<Figure size 640x480 with 2 Axes>",
      "image/png": "[encoded data removed]"
     },
     "metadata": {},
     "output_type": "display_data"
    }
   ]
  },
  {
   "cell_type": "markdown",
   "source": [
    "#### Any suggestions to improve this model is really appreciated.\n",
    "## Feel free to comment \n",
    "# Thank you"
   ],
   "metadata": {
    "papermill": {
     "duration": 0.089129,
     "end_time": "2020-12-21T07:57:21.210689",
     "exception": false,
     "start_time": "2020-12-21T07:57:21.12156",
     "status": "completed"
    },
    "tags": []
   }
  },
  {
   "cell_type": "code",
   "execution_count": null,
   "outputs": [],
   "source": [],
   "metadata": {
    "collapsed": false
   }
  }
 ]
}
