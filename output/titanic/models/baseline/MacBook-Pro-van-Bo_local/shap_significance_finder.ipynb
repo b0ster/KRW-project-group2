{
 "cells": [
  {
   "cell_type": "code",
   "execution_count": 56,
   "metadata": {},
   "outputs": [],
   "source": [
    "import numpy as np\n",
    "import scipy.stats as ss\n",
    "import pickle \n",
    "import shap\n",
    "from scipy.stats import mannwhitneyu"
   ]
  },
  {
   "cell_type": "code",
   "execution_count": 57,
   "metadata": {},
   "outputs": [],
   "source": [
    "def pickle_load(filename):\n",
    "    with open(filename, 'rb') as f:\n",
    "        return pickle.load(f)"
   ]
  },
  {
   "attachments": {},
   "cell_type": "markdown",
   "metadata": {},
   "source": [
    "## Load data"
   ]
  },
  {
   "cell_type": "code",
   "execution_count": 58,
   "metadata": {},
   "outputs": [],
   "source": [
    "#if false, use the shaps of a cluster instead\n",
    "real_shapley_values_for_whole_model = False\n",
    "\n",
    "\n",
    "#adjust for correct model\n",
    "if real_shapley_values_for_whole_model:\n",
    "    filename_full_model = './shap_values_full_model.txt'\n",
    "    shaps_full_model = pickle_load(filename=filename_full_model)\n",
    "else:\n",
    "    #fake the shapley values of the full model with the values of cluster_0\n",
    "    filename_full_model = './shap_values_per_cluster.txt'\n",
    "    shaps_full_model = pickle_load(filename=filename_full_model)['cluster_0']\n",
    "\n",
    "\n",
    "filename_per_cluster = './shap_values_per_cluster.txt'\n",
    "filename_per_feature = './shap_values_per_feature.txt'\n",
    "\n",
    "shaps_per_cluster = pickle_load(filename=filename_per_cluster)\n",
    "shaps_per_feature = pickle_load(filename=filename_per_feature)"
   ]
  },
  {
   "cell_type": "code",
   "execution_count": 59,
   "metadata": {},
   "outputs": [
    {
     "data": {
      "text/plain": [
       "[0.7952834261698375,\n",
       " -0.2200954610953728,\n",
       " -0.22040439656518754,\n",
       " -0.22023397829206226,\n",
       " -0.21965845268609993,\n",
       " -0.7226681096908588,\n",
       " -0.7251288564297415,\n",
       " 1.3029350604478802,\n",
       " -0.22673789665883476,\n",
       " -0.2194870985753481]"
      ]
     },
     "execution_count": 59,
     "metadata": {},
     "output_type": "execute_result"
    }
   ],
   "source": [
    "#[feature][cluster] -> shapley values\n",
    "shaps_per_feature['Age'][0][:10]"
   ]
  },
  {
   "cell_type": "code",
   "execution_count": 60,
   "metadata": {},
   "outputs": [
    {
     "data": {
      "text/plain": [
       "[-0.23653411725163442,\n",
       " 0.007121666402334254,\n",
       " 0.010174802504834646,\n",
       " 0.016543612745546152,\n",
       " 0.017361911268461313,\n",
       " 0.12104088200415887,\n",
       " 0.09400855419110685,\n",
       " -0.10352762969902579,\n",
       " 0.014475127621775583,\n",
       " 0.009159684503362237]"
      ]
     },
     "execution_count": 60,
     "metadata": {},
     "output_type": "execute_result"
    }
   ],
   "source": [
    "#[cluster][feature] -> shapley values\n",
    "shaps_per_cluster['cluster_0']['Age'][:10]"
   ]
  },
  {
   "cell_type": "markdown",
   "metadata": {},
   "source": [
    "## Transform data"
   ]
  },
  {
   "cell_type": "code",
   "execution_count": null,
   "metadata": {},
   "outputs": [],
   "source": [
    "# transform the fullmodel Explainer into a dict with format:\n",
    "'''\n",
    "cluster_0 : feat1 : [shap1, shap2, ..., shapn]\n",
    "            feat2 : [shap1, shap2, ..., shapn]\n",
    "            ...\n",
    "            featn : [shap1, shap2, ..., shapn]\n",
    "cluster_1 : feat1 : [shap1, shap2, ..., shapn]\n",
    "            feat2 : [shap1, shap2, ..., shapn]\n",
    "            ...\n",
    "            featn : [shap1, shap2, ..., shapn]\n",
    "'''"
   ]
  },
  {
   "attachments": {},
   "cell_type": "markdown",
   "metadata": {},
   "source": [
    "## Find p_values and significance"
   ]
  },
  {
   "cell_type": "code",
   "execution_count": 61,
   "metadata": {},
   "outputs": [],
   "source": [
    "def find_pvalues_per_feature(shaps_full_model, dict_of_features_with_shaps):\n",
    "    '''\n",
    "    Calc mann-withney for every feature against full_model\n",
    "\n",
    "    Returns: dict with p-values per feature\n",
    "    '''\n",
    "    dict_of_pvalues_per_feature = {}\n",
    "\n",
    "    #loop over available features\n",
    "    for feature_name, shapley_values in dict_of_features_with_shaps.items():\n",
    "\n",
    "        #calc M-W two sided (same or different)\n",
    "        _ , p_value = mannwhitneyu(shaps_full_model[feature_name], shapley_values, alternative='two-sided')\n",
    "\n",
    "        dict_of_pvalues_per_feature[feature_name] = round(p_value,4)\n",
    "    \n",
    "    return dict_of_pvalues_per_feature"
   ]
  },
  {
   "cell_type": "code",
   "execution_count": 62,
   "metadata": {},
   "outputs": [
    {
     "data": {
      "text/plain": [
       "{'cluster_0': {'Pclass': 1.0,\n",
       "  'Sex': 1.0,\n",
       "  'Age': 1.0,\n",
       "  'Fare': 1.0,\n",
       "  'Embarked': 1.0,\n",
       "  'Alone': 1.0,\n",
       "  'Title': 1.0},\n",
       " 'cluster_1': {'Pclass': 0.4361,\n",
       "  'Sex': 0.0,\n",
       "  'Age': 0.2312,\n",
       "  'Fare': 0.0008,\n",
       "  'Embarked': 0.1587,\n",
       "  'Alone': 0.4049,\n",
       "  'Title': 0.3152},\n",
       " 'cluster_2': {'Pclass': 0.8493,\n",
       "  'Sex': 0.0717,\n",
       "  'Age': 0.293,\n",
       "  'Fare': 0.3592,\n",
       "  'Embarked': 0.8641,\n",
       "  'Alone': 0.7268,\n",
       "  'Title': 0.5152}}"
      ]
     },
     "execution_count": 62,
     "metadata": {},
     "output_type": "execute_result"
    }
   ],
   "source": [
    "p_values_per_cluster_per_feature = {}\n",
    "\n",
    "#loop over every cluster\n",
    "for cluster_name in shaps_per_cluster.keys():\n",
    "    result = find_pvalues_per_feature(shaps_full_model=shaps_full_model, \n",
    "                                      dict_of_features_with_shaps=shaps_per_cluster[cluster_name])\n",
    "    p_values_per_cluster_per_feature[cluster_name] = result\n",
    "\n",
    "p_values_per_cluster_per_feature"
   ]
  },
  {
   "cell_type": "markdown",
   "metadata": {},
   "source": [
    "### Store results"
   ]
  },
  {
   "cell_type": "code",
   "execution_count": 63,
   "metadata": {},
   "outputs": [],
   "source": [
    "with open('p_values_per_cluster_per_feature.pkl', 'wb') as outp:  # Overwrites any existing file.\n",
    "    pickle.dump(p_values_per_cluster_per_feature, outp, pickle.HIGHEST_PROTOCOL)"
   ]
  },
  {
   "attachments": {},
   "cell_type": "markdown",
   "metadata": {},
   "source": [
    "### Find the significant differences"
   ]
  },
  {
   "cell_type": "code",
   "execution_count": 64,
   "metadata": {},
   "outputs": [
    {
     "data": {
      "text/plain": [
       "{'cluster_0': [], 'cluster_1': ['Sex', 'Fare'], 'cluster_2': []}"
      ]
     },
     "execution_count": 64,
     "metadata": {},
     "output_type": "execute_result"
    }
   ],
   "source": [
    "#what is significantly different?\n",
    "\n",
    "def filter_significant_differences(p_values_per_cluster_per_feature, signicance_level):\n",
    "    significance_reporter_per_cluster = {cluster_name:[] for cluster_name in p_values_per_cluster_per_feature.keys()}\n",
    "    \n",
    "    for cluster_name, dict_of_pvalues_per_feature in p_values_per_cluster_per_feature.items():\n",
    "        for feature_name, p_value in dict_of_pvalues_per_feature.items():\n",
    "            if p_value <= signicance_level:\n",
    "                significance_reporter_per_cluster[cluster_name].append(feature_name)\n",
    "    return significance_reporter_per_cluster\n",
    "\n",
    "filter_significant_differences(p_values_per_cluster_per_feature, 0.05)"
   ]
  },
  {
   "cell_type": "code",
   "execution_count": null,
   "metadata": {},
   "outputs": [],
   "source": []
  }
 ],
 "metadata": {
  "kernelspec": {
   "display_name": "Python 3",
   "language": "python",
   "name": "python3"
  },
  "language_info": {
   "codemirror_mode": {
    "name": "ipython",
    "version": 3
   },
   "file_extension": ".py",
   "mimetype": "text/x-python",
   "name": "python",
   "nbconvert_exporter": "python",
   "pygments_lexer": "ipython3",
   "version": "3.9.0"
  },
  "orig_nbformat": 4
 },
 "nbformat": 4,
 "nbformat_minor": 2
}
